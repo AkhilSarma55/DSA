{
 "cells": [
  {
   "cell_type": "markdown",
   "id": "a41c691e",
   "metadata": {},
   "source": [
    "1.Given an array of integers nums and an integer target, return indices of the two numbers such that they add up to target.\n",
    "\n",
    "You may assume that each input would have exactly one solution, and you may not use the same element twice.\n",
    "\n",
    "You can return the answer in any order.\n",
    "\n",
    "**Example:**\n",
    "Input: nums = [2,7,11,15], target = 9\n",
    "Output0 [0,1]\n",
    "\n",
    "**Explanation:** Because nums[0] + nums[1] == 9, we return [0, 1][\n",
    "\n",
    "</aside>"
   ]
  },
  {
   "cell_type": "code",
   "execution_count": 1,
   "id": "781924c3",
   "metadata": {},
   "outputs": [
    {
     "name": "stdout",
     "output_type": "stream",
     "text": [
      "[0, 1]\n"
     ]
    }
   ],
   "source": [
    "def twosum(num,target):\n",
    "    for i in range(len(num)):\n",
    "        for j in range(i+1,len(num)):\n",
    "            if target-num[i]==num[j]:\n",
    "                return[i,j]\n",
    "    return None\n",
    "test=[2,7,11,15]\n",
    "target=9\n",
    "print(twosum(test,target))"
   ]
  },
  {
   "cell_type": "markdown",
   "id": "ffbd42e9",
   "metadata": {},
   "source": [
    "<aside>\n",
    "2.Given an integer array nums and an integer val, remove all occurrences of val in nums in-place. The order of the elements may be changed. Then return the number of elements in nums which are not equal to val.\n",
    "\n",
    "Consider the number of elements in nums which are not equal to val be k, to get accepted, you need to do the following things:\n",
    "\n",
    "- Change the array nums such that the first k elements of nums contain the elements which are not equal to val. The remaining elements of nums are not important as well as the size of nums.\n",
    "- Return k.\n",
    "\n",
    "**Example :**\n",
    "Input: nums = [3,2,2,3], val = 3\n",
    "Output: 2, nums = [2,2,_*,_*]\n",
    "\n",
    "**Explanation:** Your function should return k = 2, with the first two elements of nums being 2. It does not matter what you leave beyond the returned k (hence they are underscores)[\n",
    "\n",
    "</aside>"
   ]
  },
  {
   "cell_type": "code",
   "execution_count": 2,
   "id": "9cbc7afc",
   "metadata": {},
   "outputs": [],
   "source": [
    "from typing import List\n",
    "class Solution:\n",
    "    def removeElement(self, nums: List[int], val: int) -> int:\n",
    "        i = 0\n",
    "        for num in nums:\n",
    "            if num != val:\n",
    "                nums[i] = num\n",
    "                i += 1\n",
    "        return i"
   ]
  },
  {
   "cell_type": "markdown",
   "id": "97cd7417",
   "metadata": {},
   "source": [
    "<aside>\n",
    "3. Given a sorted array of distinct integers and a target value, return the index if the target is found. If not, return the index where it would be if it were inserted in order.\n",
    "\n",
    "You must write an algorithm with O(log n) runtime complexity.\n",
    "\n",
    "**Example 1:**\n",
    "Input: nums = [1,3,5,6], target = 5\n",
    "\n",
    "Output: 2\n",
    "\n",
    "</aside>"
   ]
  },
  {
   "cell_type": "code",
   "execution_count": 3,
   "id": "3de57499",
   "metadata": {},
   "outputs": [],
   "source": [
    "class Solution(object):\n",
    "    def searchInsert(self, nums, target):\n",
    "        \"\"\"\n",
    "        :type nums: List[int]\n",
    "        :type target: int\n",
    "        :rtype: int\n",
    "        \"\"\"\n",
    "        # Last and First indexes\n",
    "        start = 0\n",
    "        end = len(nums) - 1\n",
    "        \n",
    "        # Traverse an array\n",
    "        while (start <= end):\n",
    "            \n",
    "            mid = (start + end)/2\n",
    "             \n",
    "            # if target value found.\n",
    "            if nums[mid] == target:\n",
    "                return mid\n",
    "            \n",
    "            # If target value is greater then mid elements's value\n",
    "            elif target > nums[mid]:\n",
    "                start = mid + 1\n",
    "                \n",
    "            # otherwise target value is less, \n",
    "            else:\n",
    "                end = mid -1\n",
    "        # Return the insertion position\n",
    "        return end + 1"
   ]
  },
  {
   "cell_type": "markdown",
   "id": "4555d274",
   "metadata": {},
   "source": [
    "<aside>\n",
    "4.You are given a large integer represented as an integer array digits, where each digits[i] is the ith digit of the integer. The digits are ordered from most significant to least significant in left-to-right order. The large integer does not contain any leading 0's.\n",
    "\n",
    "Increment the large integer by one and return the resulting array of digits.\n",
    "\n",
    "**Example 1:**\n",
    "Input: digits = [1,2,3]\n",
    "Output: [1,2,4]\n",
    "\n",
    "**Explanation:** The array represents the integer 123.\n",
    "\n",
    "Incrementing by one gives 123 + 1 = 124.\n",
    "Thus, the result should be [1,2,4].\n",
    "\n",
    "</aside>"
   ]
  },
  {
   "cell_type": "code",
   "execution_count": 4,
   "id": "cbd62940",
   "metadata": {},
   "outputs": [],
   "source": [
    "class Solution:\n",
    "    def plusOne(self, digits: List[int]) -> List[int]:\n",
    "        for i in range(len(digits)-1,-1,-1):\n",
    "            if digits[i]<9:\n",
    "                digits[i]+=1\n",
    "                return digits\n",
    "            digits[i]=0\n",
    "        return [1]+[0]*len(digits)"
   ]
  },
  {
   "cell_type": "markdown",
   "id": "9fd8a9e0",
   "metadata": {},
   "source": [
    "<aside>\n",
    "5.You are given two integer arrays nums1 and nums2, sorted in non-decreasing order, and two integers m and n, representing the number of elements in nums1 and nums2 respectively.\n",
    "\n",
    "Merge nums1 and nums2 into a single array sorted in non-decreasing order.\n",
    "\n",
    "The final sorted array should not be returned by the function, but instead be stored inside the array nums1. To accommodate this, nums1 has a length of m + n, where the first m elements denote the elements that should be merged, and the last n elements are set to 0 and should be ignored. nums2 has a length of n.\n",
    "\n",
    "**Example 1:**\n",
    "Input: nums1 = [1,2,3,0,0,0], m = 3, nums2 = [2,5,6], n = 3\n",
    "Output: [1,2,2,3,5,6]\n",
    "\n",
    "**Explanation:** The arrays we are merging are [1,2,3] and [2,5,6].\n",
    "The result of the merge is [1,2,2,3,5,6] with the underlined elements coming from nums1.\n",
    "\n",
    "</aside>"
   ]
  },
  {
   "cell_type": "code",
   "execution_count": 5,
   "id": "800f82ae",
   "metadata": {},
   "outputs": [
    {
     "name": "stdout",
     "output_type": "stream",
     "text": [
      "Array after merging\n",
      "1 2 3 4 5 6 7 8 "
     ]
    }
   ],
   "source": [
    "# Python program to merge two sorted arrays/\n",
    "def mergeArrays(arr1, arr2, n1, n2, arr3):\n",
    "    i = 0\n",
    "    j = 0\n",
    "    k = 0\n",
    " \n",
    "    # traverse the arr1 and insert its element in arr3\n",
    "    while(i < n1):\n",
    "        arr3[k] = arr1[i]\n",
    "        k += 1\n",
    "        i += 1\n",
    " \n",
    "    # now traverse arr2 and insert in arr3\n",
    "    while(j < n2):\n",
    "        arr3[k] = arr2[j]\n",
    "        k += 1\n",
    "        j += 1\n",
    " \n",
    "    # sort the whole array arr3\n",
    "    arr3.sort()\n",
    " \n",
    " \n",
    "# Driver code\n",
    "if __name__ == '__main__':\n",
    "    arr1 = [1, 3, 5, 7]\n",
    "    n1 = len(arr1)\n",
    " \n",
    "    arr2 = [2, 4, 6, 8]\n",
    "    n2 = len(arr2)\n",
    " \n",
    "    arr3 = [0 for i in range(n1+n2)]\n",
    "    mergeArrays(arr1, arr2, n1, n2, arr3)\n",
    " \n",
    "    print(\"Array after merging\")\n",
    "    for i in range(n1 + n2):\n",
    "        print(arr3[i], end=\" \")"
   ]
  },
  {
   "cell_type": "markdown",
   "id": "b04c4d4c",
   "metadata": {},
   "source": [
    "<aside>\n",
    "6.Given an integer array nums, return true if any value appears at least twice in the array, and return false if every element is distinct.\n",
    "\n",
    "### Example 1:\n",
    "Input: nums = [1,2,3,1]\n",
    "\n",
    "Output: true\n",
    "\n",
    "</aside>"
   ]
  },
  {
   "cell_type": "code",
   "execution_count": 6,
   "id": "37cd9443",
   "metadata": {},
   "outputs": [
    {
     "name": "stdout",
     "output_type": "stream",
     "text": [
      "True\n"
     ]
    }
   ],
   "source": [
    "def test_duplicate(array_nums):\n",
    "    nums_set = set(array_nums)    \n",
    "    return len(array_nums) != len(nums_set)     \n",
    "print(test_duplicate([1,2,3,1]))\n"
   ]
  },
  {
   "cell_type": "markdown",
   "id": "d4402d2c",
   "metadata": {},
   "source": [
    "<aside>\n",
    "7.Given an integer array nums, move all 0's to the end of it while maintaining the relative order of the nonzero elements.\n",
    "\n",
    "Note that you must do this in-place without making a copy of the array.\n",
    "\n",
    "**Example 1:**\n",
    "Input: nums = [0,1,0,3,12]\n",
    "Output: [1,3,12,0,0]\n",
    "\n",
    "</aside>"
   ]
  },
  {
   "cell_type": "code",
   "execution_count": 7,
   "id": "b691d1fa",
   "metadata": {},
   "outputs": [
    {
     "name": "stdout",
     "output_type": "stream",
     "text": [
      "[1, 3, 12, 0, 0]\n"
     ]
    }
   ],
   "source": [
    "# Function to move all zeros present in the list to the end\n",
    "def reorder(A):\n",
    " \n",
    "    # `k` stores the index of the next available position\n",
    "    k = 0\n",
    " \n",
    "    # do for each element\n",
    "    for i in A:\n",
    "        # if the current element is non-zero, put the element at the\n",
    "        # next free position in the list\n",
    "        if i:\n",
    "            A[k] = i\n",
    "            k = k + 1\n",
    " \n",
    "    # move all 0's to the end of the list (remaining indices)\n",
    "    for i in range(k, len(A)):\n",
    "        A[i] = 0\n",
    " \n",
    " \n",
    "if __name__ == '__main__':\n",
    " \n",
    "    A = [0,1,0,3,12]\n",
    " \n",
    "    reorder(A)\n",
    "    print(A)"
   ]
  },
  {
   "cell_type": "markdown",
   "id": "da484d49",
   "metadata": {},
   "source": [
    "<aside>\n",
    "8.You have a set of integers s, which originally contains all the numbers from 1 to n. Unfortunately, due to some error, one of the numbers in s got duplicated to another number in the set, which results in repetition of one number and loss of another number.\n",
    "\n",
    "You are given an integer array nums representing the data status of this set after the error.\n",
    "\n",
    "Find the number that occurs twice and the number that is missing and return them in the form of an array.\n",
    "\n",
    "**Example 1:**\n",
    "Input: nums = [1,2,2,4]\n",
    "Output: [2,3]\n",
    "\n",
    "</aside>"
   ]
  },
  {
   "cell_type": "code",
   "execution_count": 8,
   "id": "e61f3a85",
   "metadata": {},
   "outputs": [],
   "source": [
    "class ErrorNumsFinder:\n",
    "    def findErrorNums(self, nums: List[int]) -> List[int]:\n",
    "        numbers = [-1 for i in range(len(nums)+1)]\n",
    "        output = []\n",
    "        for num in nums:\n",
    "            if numbers[num] == -1:\n",
    "                numbers[num] = num\n",
    "            else:\n",
    "                output.append(num)\n",
    "        \n",
    "        for i in range(1,len(numbers)):\n",
    "            if numbers[i] == -1:\n",
    "                output.append(i)\n",
    "        return output"
   ]
  }
 ],
 "metadata": {
  "kernelspec": {
   "display_name": "Python 3 (ipykernel)",
   "language": "python",
   "name": "python3"
  },
  "language_info": {
   "codemirror_mode": {
    "name": "ipython",
    "version": 3
   },
   "file_extension": ".py",
   "mimetype": "text/x-python",
   "name": "python",
   "nbconvert_exporter": "python",
   "pygments_lexer": "ipython3",
   "version": "3.9.12"
  }
 },
 "nbformat": 4,
 "nbformat_minor": 5
}
