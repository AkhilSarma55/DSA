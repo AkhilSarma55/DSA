{
  "nbformat": 4,
  "nbformat_minor": 0,
  "metadata": {
    "colab": {
      "provenance": []
    },
    "kernelspec": {
      "name": "python3",
      "display_name": "Python 3"
    },
    "language_info": {
      "name": "python"
    }
  },
  "cells": [
    {
      "cell_type": "markdown",
      "source": [
        " **Question 1**\n",
        "Given a string s, find the first non-repeating character in it and return its index. If it does not exist, return -1.\n",
        "\n",
        "Example 1:\n",
        "\n",
        "Input: s = \"leetcode\" Output: 0\n",
        "\n",
        "Example 2\n",
        "\n",
        "Input: s = \"loveleetcode\"\n",
        "\n",
        "Output: 2"
      ],
      "metadata": {
        "id": "jCESU4nvOHzq"
      }
    },
    {
      "cell_type": "code",
      "execution_count": 3,
      "metadata": {
        "id": "bALKtqP0N6bT"
      },
      "outputs": [],
      "source": [
        "def firstUniq(s):\n",
        "\n",
        "    character_count = {}\n",
        "\n",
        "\n",
        "    for char in s:\n",
        "        if char in character_count:\n",
        "            character_count[char] += 1\n",
        "        else:\n",
        "            character_count[char] = 1\n",
        "\n",
        "    # Find the first non-repeating character\n",
        "    for i in range(len(s)):\n",
        "        if character_count[s[i]] == 1:\n",
        "            return i\n",
        "\n",
        "    # If no non-repeating character is found, return -1\n",
        "    return -1\n",
        ""
      ]
    },
    {
      "cell_type": "code",
      "source": [
        "# Test Example 1\n",
        "s = \"leetcode\"\n",
        "print(firstUniq(s))\n",
        "\n",
        "# Test Example 2\n",
        "s = \"loveleetcode\"\n",
        "print(firstUniq(s))"
      ],
      "metadata": {
        "colab": {
          "base_uri": "https://localhost:8080/"
        },
        "id": "6YqvXzSUOZNX",
        "outputId": "d68f3ec6-0f18-457e-bc6f-120e204b81ed"
      },
      "execution_count": 4,
      "outputs": [
        {
          "output_type": "stream",
          "name": "stdout",
          "text": [
            "0\n",
            "2\n"
          ]
        }
      ]
    },
    {
      "cell_type": "code",
      "source": [],
      "metadata": {
        "id": "3gY8OaGuO0NN"
      },
      "execution_count": null,
      "outputs": []
    },
    {
      "cell_type": "markdown",
      "source": [
        "**Question 2**\n",
        "Given a circular integer array nums of length n, return the maximum possible sum of a non-empty subarray of nums.\n",
        "\n",
        "A circular array means the end of the array connects to the beginning of the array. Formally, the next element of nums[i] is nums[(i + 1) % n] and the previous element of nums[i] is nums[(i - 1 + n) % n].\n",
        "\n",
        "A subarray may only include each element of the fixed buffer nums at most once. Formally, for a subarray nums[i], nums[i + 1], ..., nums[j], there does not exist i <= k1, k2 <= j with k1 % n == k2 % n.\n",
        "\n",
        "Example 1:\n",
        "\n",
        "Input: nums = [1,-2,3,-2] Output: 3 Explanation: Subarray [3] has maximum sum 3.\n",
        "\n",
        "Example 2: Input: nums = [5,-3,5] Output: 10 Explanation: Subarray [5,5] has maximum sum 5 + 5 = 10."
      ],
      "metadata": {
        "id": "1DCfFWJqOwHD"
      }
    },
    {
      "cell_type": "code",
      "source": [
        "def maxSubarraySum(nums):\n",
        "    def kadane(arr):\n",
        "        maximum_sum = float('-inf')\n",
        "        current_sum = 0\n",
        "\n",
        "        for num in arr:\n",
        "            current_sum = max(num, current_sum + num)\n",
        "            maximum_sum = max(maximum_sum, current_sum)\n",
        "\n",
        "        return maximum_sum\n",
        "\n",
        "    # Case 1: Maximum subarray sum without circular property\n",
        "    max_sum_normal = kadane(nums)\n",
        "\n",
        "    # Case 2: Maximum subarray sum with circular property\n",
        "    max_sum_circular = sum(nums) + kadane([-num for num in nums[1:-1]])\n",
        "\n",
        "    # Return the maximum of both cases\n",
        "    return max(max_sum_normal, max_sum_circular)\n"
      ],
      "metadata": {
        "id": "YpBP7RLyOuy2"
      },
      "execution_count": 5,
      "outputs": []
    },
    {
      "cell_type": "code",
      "source": [
        "\n",
        "# Test Example 1\n",
        "nums = [1, -2, 3, -2]\n",
        "print(maxSubarraySum(nums))\n",
        "\n",
        "# Test Example 2\n",
        "nums = [5, -3, 5]\n",
        "print(maxSubarraySum(nums))"
      ],
      "metadata": {
        "colab": {
          "base_uri": "https://localhost:8080/"
        },
        "id": "j_xuCFM2Ou8z",
        "outputId": "80710b21-bf8f-49b6-ca78-b8be77173fd6"
      },
      "execution_count": 6,
      "outputs": [
        {
          "output_type": "stream",
          "name": "stdout",
          "text": [
            "3\n",
            "10\n"
          ]
        }
      ]
    },
    {
      "cell_type": "code",
      "source": [],
      "metadata": {
        "id": "ploHfrR4PWfZ"
      },
      "execution_count": null,
      "outputs": []
    },
    {
      "cell_type": "markdown",
      "source": [
        "**Question 3**\n",
        "The school cafeteria offers circular and square sandwiches at lunch break, referred to by numbers 0 and 1 respectively. All students stand in a queue. Each student either prefers square or circular sandwiches.\n",
        "\n",
        "The number of sandwiches in the cafeteria is equal to the number of students. The sandwiches are placed in a stack. At each step:\n",
        "\n",
        "If the student at the front of the queue prefers the sandwich on the top of the stack, they will take it and leave the queue.\n",
        "Otherwise, they will leave it and go to the queue's end.\n",
        "This continues until none of the queue students want to take the top sandwich and are thus unable to eat.\n",
        "\n",
        "You are given two integer arrays students and sandwiches where sandwiches[i] is the type of the ith sandwich in the stack (i = 0 is the top of the stack) and students[j] is the preference of the jth student in the initial queue (j = 0 is the front of the queue). Return the number of students that are unable to eat.\n",
        "\n",
        "Example 1:\n",
        "\n",
        "Input: students = [1,1,0,0], sandwiches = [0,1,0,1] Output: 0 Explanation:\n",
        "\n",
        "Front student leaves the top sandwich and returns to the end of the line making students = [1,0,0,1].\n",
        "\n",
        "Front student leaves the top sandwich and returns to the end of the line making students = [0,0,1,1].\n",
        "\n",
        "Front student takes the top sandwich and leaves the line making students = [0,1,1] and sandwiches = [1,0,1].\n",
        "\n",
        "Front student leaves the top sandwich and returns to the end of the line making students = [1,1,0].\n",
        "\n",
        "Front student takes the top sandwich and leaves the line making students = [1,0] and sandwiches = [0,1].\n",
        "\n",
        "Front student leaves the top sandwich and returns to the end of the line making students = [0,1].\n",
        "\n",
        "Front student takes the top sandwich and leaves the line making students = [1] and sandwiches = [1].\n",
        "\n",
        "Front student takes the top sandwich and leaves the line making students = [] and sandwiches = [].\n",
        "Hence all students are able to eat."
      ],
      "metadata": {
        "id": "WADL9PaPPWwU"
      }
    },
    {
      "cell_type": "code",
      "source": [
        "def countStudent(stu, sandwiches):\n",
        "    count = 0  # Counter for students unable to eat\n",
        "    n = len(stu)\n",
        "    i = 0  # Index for iterating through students\n",
        "    j = 0  # Index for iterating through sandwiches\n",
        "\n",
        "    while count < n:\n",
        "        if stu[i] == sandwiches[j]:\n",
        "            count = 0  # Reset the counter since the student got their preferred sandwich\n",
        "            i += 1  # Move to the next student\n",
        "            j += 1  # Move to the next sandwich\n",
        "        else:\n",
        "            count += 1  # Increment the counter for students unable to eat\n",
        "            i += 1  # Move the current student to the end of the queue\n",
        "\n",
        "        if i == n:  # Reached the end of the queue, wrap around to the beginning\n",
        "            i = 0\n",
        "\n",
        "        if j == n:  # Reached the end of the sandwich stack, all students were able to eat\n",
        "            return 0\n",
        "\n",
        "    return count\n",
        ""
      ],
      "metadata": {
        "id": "xM-UqURmPY3D"
      },
      "execution_count": 7,
      "outputs": []
    },
    {
      "cell_type": "code",
      "source": [
        "students = [1, 1, 0, 0]\n",
        "sandwiches = [0, 1, 0, 1]\n",
        "print(countStudent(students, sandwiches))\n",
        ""
      ],
      "metadata": {
        "colab": {
          "base_uri": "https://localhost:8080/"
        },
        "id": "kCI93SwcPztw",
        "outputId": "781b8f19-c88f-4487-9890-5370de8cb8f0"
      },
      "execution_count": 8,
      "outputs": [
        {
          "output_type": "stream",
          "name": "stdout",
          "text": [
            "0\n"
          ]
        }
      ]
    },
    {
      "cell_type": "markdown",
      "source": [],
      "metadata": {
        "id": "q3uT6HC3QJrO"
      }
    },
    {
      "cell_type": "markdown",
      "source": [
        "**Question 4**\n",
        "\n",
        "You have a RecentCounter class which counts the number of recent requests within a certain time frame.\n",
        "\n",
        "Implement the RecentCounter class:\n",
        "\n",
        "RecentCounter() Initializes the counter with zero recent requests.\n",
        "int ping(int t) Adds a new request at time t, where t represents some time in milliseconds, and returns the number of requests that has happened in the past 3000 milliseconds (including the new request). Specifically, return the number of requests that have happened in the inclusive range [t - 3000, t].\n",
        "It is guaranteed that every call to ping uses a strictly larger value of t than the previous call.\n",
        "\n",
        "Example 1:\n",
        "\n",
        "Input [\"RecentCounter\", \"ping\", \"ping\", \"ping\", \"ping\"] [[], [1], [100], [3001], [3002]] Output [null, 1, 2, 3, 3]\n",
        "\n",
        "Explanation RecentCounter recentCounter = new RecentCounter(); recentCounter.ping(1); // requests = [1], range is [-2999,1], return 1 recentCounter.ping(100); // requests = [1,100], range is [-2900,100], return 2 recentCounter.ping(3001); // requests = [1,100,3001], range is [1,3001], return 3 recentCounter.ping(3002); // requests = [1,100,3001,3002], range is [2,3002], return 3"
      ],
      "metadata": {
        "id": "eIo_vclKQJ1L"
      }
    },
    {
      "cell_type": "code",
      "source": [
        "from collections import deque\n",
        "\n",
        "\n",
        "class RecentCounter:\n",
        "    def __init__(self):\n",
        "        self.requests = deque()\n",
        "\n",
        "    def ping(self, t: int) -> int:\n",
        "        self.requests.append(t)  # Add the new request to the queue\n",
        "\n",
        "        while self.requests[0] < t - 3000:  # Remove requests outside the time range\n",
        "            self.requests.popleft()\n",
        "\n",
        "        return len(self.requests)"
      ],
      "metadata": {
        "id": "-OqlZSWZQLwq"
      },
      "execution_count": 9,
      "outputs": []
    },
    {
      "cell_type": "code",
      "source": [
        "\n",
        "recentCounter = RecentCounter()\n",
        "print(recentCounter.ping(1))\n",
        "print(recentCounter.ping(100))\n",
        "print(recentCounter.ping(3001))\n",
        "print(recentCounter.ping(3002))\n",
        ""
      ],
      "metadata": {
        "colab": {
          "base_uri": "https://localhost:8080/"
        },
        "id": "_rdOBZGGQUZ7",
        "outputId": "8cfe2857-dfa5-40a4-e11f-c7e59161d800"
      },
      "execution_count": 10,
      "outputs": [
        {
          "output_type": "stream",
          "name": "stdout",
          "text": [
            "1\n",
            "2\n",
            "3\n",
            "3\n"
          ]
        }
      ]
    },
    {
      "cell_type": "code",
      "source": [],
      "metadata": {
        "id": "GVpSQ6LbQZG3"
      },
      "execution_count": null,
      "outputs": []
    },
    {
      "cell_type": "markdown",
      "source": [
        "**Question 5**\n",
        "There are n friends that are playing a game. The friends are sitting in a circle and are numbered from 1 to n in clockwise order. More formally, moving clockwise from the ith friend brings you to the (i+1)th friend for 1 <= i < n, and moving clockwise from the nth friend brings you to the 1st friend.\n",
        "\n",
        "The rules of the game are as follows:\n",
        "\n",
        "Start at the 1st friend.\n",
        "Count the next k friends in the clockwise direction including the friend you started at. The counting wraps around the circle and may count some friends more than once.\n",
        "The last friend you counted leaves the circle and loses the game.\n",
        "If there is still more than one friend in the circle, go back to step 2 starting from the friend immediately clockwise of the friend who just lost and repeat.\n",
        "Else, the last friend in the circle wins the game.\n",
        "Given the number of friends, n, and an integer k, return the winner of the game.\n",
        "\n",
        "Example 1:\n",
        "\n",
        "Input: n = 5, k = 2 Output: 3 Explanation: Here are the steps of the game:\n",
        "\n",
        "Start at friend 1.\n",
        "Count 2 friends clockwise, which are friends 1 and 2.\n",
        "\n",
        "Friend 2 leaves the circle. Next start is friend 3.\n",
        "\n",
        "Count 2 friends clockwise, which are friends 3 and 4.\n",
        "\n",
        "Friend 4 leaves the circle. Next start is friend 5.\n",
        "\n",
        "Count 2 friends clockwise, which are friends 5 and 1.\n",
        "\n",
        "Friend 1 leaves the circle. Next start is friend 3.\n",
        "\n",
        "Count 2 friends clockwise, which are friends 3 and 5.\n",
        "\n",
        "Friend 5 leaves the circle. Only friend 3 is left, so they are the winner.\n"
      ],
      "metadata": {
        "id": "_VyTa4AVQZW1"
      }
    },
    {
      "cell_type": "code",
      "source": [
        "class ListNode:\n",
        "    def __init__(self, val=0):\n",
        "        self.val = val\n",
        "        self.next = None\n",
        "\n",
        "def findTheWin(n, k):\n",
        "    # Create the circular linked list with n nodes\n",
        "    head = ListNode(1)\n",
        "    current = head\n",
        "    for i in range(2, n+1):\n",
        "        current.next = ListNode(i)\n",
        "        current = current.next\n",
        "    current.next = head  # Make it circular\n",
        "\n",
        "    # Traverse the linked list and remove friends until only one is left\n",
        "    while current.next != current:\n",
        "        # Move k-1 steps\n",
        "        for _ in range(k - 1):\n",
        "            current = current.next\n",
        "        # Remove the next friend\n",
        "        current.next = current.next.next\n",
        "\n",
        "    return current.val\n",
        ""
      ],
      "metadata": {
        "id": "7yd4xo_uQnFN"
      },
      "execution_count": 14,
      "outputs": []
    },
    {
      "cell_type": "code",
      "source": [
        "\n",
        "# Test Example\n",
        "n = 5\n",
        "k = 2\n",
        "winner = findTheWin(n, k)\n",
        "print(winner)"
      ],
      "metadata": {
        "colab": {
          "base_uri": "https://localhost:8080/"
        },
        "id": "40iraYjQQ13O",
        "outputId": "bc9654b9-7353-439a-ecc1-3ac17d723a4c"
      },
      "execution_count": 15,
      "outputs": [
        {
          "output_type": "stream",
          "name": "stdout",
          "text": [
            "3\n"
          ]
        }
      ]
    },
    {
      "cell_type": "code",
      "source": [],
      "metadata": {
        "id": "JNTOlyUHRIvw"
      },
      "execution_count": null,
      "outputs": []
    },
    {
      "cell_type": "markdown",
      "source": [
        "**Question 6**\n",
        "You are given an integer array deck. There is a deck of cards where every card has a unique integer. The integer on the ith card is deck[i].\n",
        "\n",
        "You can order the deck in any order you want. Initially, all the cards start face down (unrevealed) in one deck.\n",
        "\n",
        "You will do the following steps repeatedly until all cards are revealed:\n",
        "\n",
        "Take the top card of the deck, reveal it, and take it out of the deck.\n",
        "If there are still cards in the deck then put the next top card of the deck at the bottom of the deck.\n",
        "If there are still unrevealed cards, go back to step 1. Otherwise, stop.\n",
        "Return an ordering of the deck that would reveal the cards in increasing order.\n",
        "\n",
        "Note that the first entry in the answer is considered to be the top of the deck.\n",
        "\n",
        "Example 1:\n",
        "\n",
        "Input: deck = [17,13,11,2,3,5,7] Output: [2,13,3,11,5,17,7]\n",
        "\n",
        "Explanation: We get the deck in the order [17,13,11,2,3,5,7] (this order does not matter), and reorder it. After reordering, the deck starts as [2,13,3,11,5,17,7], where 2 is the top of the deck. We reveal 2, and move 13 to the bottom. The deck is now [3,11,5,17,7,13]. We reveal 3, and move 11 to the bottom. The deck is now [5,17,7,13,11]. We reveal 5, and move 17 to the bottom. The deck is now [7,13,11,17]. We reveal 7, and move 13 to the bottom. The deck is now [11,17,13]. We reveal 11, and move 17 to the bottom. The deck is now [13,17]. We reveal 13, and move 17 to the bottom. The deck is now [17]. We reveal 17. Since all the cards revealed are in increasing order, the answer is correct"
      ],
      "metadata": {
        "id": "JaU9Tx7gRI9I"
      }
    },
    {
      "cell_type": "code",
      "source": [
        "from collections import deque\n",
        "import math\n",
        "\n",
        "def deckRevealedIncrease(decks):\n",
        "    n = len(decks)\n",
        "    decks.sort()\n",
        "    queue = deque(range(n))\n",
        "    result = [0] * n\n",
        "\n",
        "    for card in decks:\n",
        "        result[queue.popleft()] = card\n",
        "        if queue:\n",
        "            queue.append(queue.popleft())\n",
        "\n",
        "    return result\n",
        "\n"
      ],
      "metadata": {
        "id": "QQ4LhwAYRMQm"
      },
      "execution_count": 16,
      "outputs": []
    },
    {
      "cell_type": "code",
      "source": [
        "# Test Example\n",
        "deck = [17, 13, 11, 2, 3, 5, 7]\n",
        "result = deckRevealedIncrease(deck)\n",
        "print(result)"
      ],
      "metadata": {
        "colab": {
          "base_uri": "https://localhost:8080/"
        },
        "id": "BTzgNhDURdDq",
        "outputId": "ebdda68d-e19f-4238-9417-3863fcaecaf4"
      },
      "execution_count": 17,
      "outputs": [
        {
          "output_type": "stream",
          "name": "stdout",
          "text": [
            "[2, 13, 3, 11, 5, 17, 7]\n"
          ]
        }
      ]
    },
    {
      "cell_type": "code",
      "source": [],
      "metadata": {
        "id": "CZ6ej_k4Rj1U"
      },
      "execution_count": null,
      "outputs": []
    },
    {
      "cell_type": "markdown",
      "source": [
        "**Question 7**\n",
        "Design a queue that supports push and pop operations in the front, middle, and back.\n",
        "\n",
        "Implement the FrontMiddleBack class:\n",
        "\n",
        "FrontMiddleBack() Initializes the queue.\n",
        "void pushFront(int val) Adds val to the front of the queue.\n",
        "void pushMiddle(int val) Adds val to the middle of the queue.\n",
        "void pushBack(int val) Adds val to the back of the queue.\n",
        "int popFront() Removes the front element of the queue and returns it. If the queue is empty, return 1.\n",
        "int popMiddle() Removes the middle element of the queue and returns it. If the queue is empty, return 1.\n",
        "int popBack() Removes the back element of the queue and returns it. If the queue is empty, return 1.\n",
        "Notice that when there are two middle position choices, the operation is performed on the frontmost middle position choice. For example:\n",
        "\n",
        "Pushing 6 into the middle of [1, 2, 3, 4, 5] results in [1, 2, 6, 3, 4, 5].\n",
        "Popping the middle from [1, 2, 3, 4, 5, 6] returns 3 and results in [1, 2, 4, 5, 6].\n",
        "Example 1:\n",
        "\n",
        "Input: [\"FrontMiddleBackQueue\", \"pushFront\", \"pushBack\", \"pushMiddle\", \"pushMiddle\", \"popFront\", \"popMiddle\", \"popMiddle\", \"popBack\", \"popFront\"] [[], [1], [2], [3], [4], [], [], [], [], []] Output: [null, null, null, null, null, 1, 3, 4, 2, -1]\n",
        "\n",
        "Explanation: FrontMiddleBackQueue q = new FrontMiddleBackQueue(); q.pushFront(1); // [1] q.pushBack(2); // [1,2] q.pushMiddle(3); // [1,3, 2] q.pushMiddle(4); // [1,4, 3, 2] q.popFront(); // return 1 -> [4, 3, 2] q.popMiddle(); // return 3 -> [4, 2] q.popMiddle(); // return 4 -> [2] q.popBack(); // return 2 -> [] q.popFront(); // return -1 -> [] (The queue is empty)\n",
        "\n"
      ],
      "metadata": {
        "id": "4xOdfgRrRkBk"
      }
    },
    {
      "cell_type": "code",
      "source": [
        "from collections import deque\n",
        "\n",
        "class FrontMiddleQueue:\n",
        "    def __init__(self):\n",
        "        self.queue = deque()\n",
        "\n",
        "    def pushFront(self, val):\n",
        "        self.queue.appendleft(val)\n",
        "\n",
        "    def pushMiddle(self, val):\n",
        "        middle = len(self.queue) // 2\n",
        "        self.queue.insert(middle, val)\n",
        "\n",
        "    def pushBack(self, val):\n",
        "        self.queue.append(val)\n",
        "\n",
        "    def popFront(self):\n",
        "        if self.queue:\n",
        "            return self.queue.popleft()\n",
        "        return -1\n",
        "\n",
        "    def popMiddle(self):\n",
        "        if self.queue:\n",
        "            middle = (len(self.queue) - 1) // 2\n",
        "            self.queue.rotate(-middle)\n",
        "            return self.queue.popleft()\n",
        "        return -1\n",
        "\n",
        "    def popBack(self):\n",
        "        if self.queue:\n",
        "            return self.queue.pop()\n",
        "        return -1\n",
        "\n"
      ],
      "metadata": {
        "id": "GJAQVwcwRlT3"
      },
      "execution_count": 18,
      "outputs": []
    },
    {
      "cell_type": "code",
      "source": [
        "commands = [\"FrontMiddleBackQueue\", \"pushFront\", \"pushBack\", \"pushMiddle\", \"pushMiddle\", \"popFront\", \"popMiddle\", \"popMiddle\", \"popBack\", \"popFront\"]\n",
        "arguments = [[], [1], [2], [3], [4], [], [], [], [], []]\n",
        "\n",
        "q = FrontMiddleQueue()\n",
        "output = [None]\n",
        "\n",
        "for command, args in zip(commands[1:], arguments[1:]):\n",
        "    if command == \"pushFront\":\n",
        "        q.pushFront(*args)\n",
        "        output.append(None)\n",
        "    elif command == \"pushMiddle\":\n",
        "        q.pushMiddle(*args)\n",
        "        output.append(None)\n",
        "    elif command == \"pushBack\":\n",
        "        q.pushBack(*args)\n",
        "        output.append(None)\n",
        "    elif command == \"popFront\":\n",
        "        output.append(q.popFront())\n",
        "    elif command == \"popMiddle\":\n",
        "        output.append(q.popMiddle())\n",
        "    elif command == \"popBack\":\n",
        "        output.append(q.popBack())\n",
        "print(\"Output:\")\n",
        "print(output)"
      ],
      "metadata": {
        "colab": {
          "base_uri": "https://localhost:8080/"
        },
        "id": "MiDkCiGkRzQ3",
        "outputId": "bbed7be8-3dbe-4d6e-f63c-0ef798cc239a"
      },
      "execution_count": 20,
      "outputs": [
        {
          "output_type": "stream",
          "name": "stdout",
          "text": [
            "Output:\n",
            "[None, None, None, None, None, 1, 3, 2, 4, -1]\n"
          ]
        }
      ]
    },
    {
      "cell_type": "code",
      "source": [],
      "metadata": {
        "id": "XZNrvR8HR--t"
      },
      "execution_count": null,
      "outputs": []
    },
    {
      "cell_type": "markdown",
      "source": [
        " **Question 8**\n",
        "For a stream of integers, implement a data structure that checks if the last k integers parsed in the stream are equal to value.\n",
        "\n",
        "Implement the DataStream class:\n",
        "\n",
        "DataStream(int value, int k) Initializes the object with an empty integer stream and the two integers value and k.\n",
        "boolean consec(int num) Adds num to the stream of integers. Returns true if the last k integers are equal to value, and false otherwise. If there are less than k integers, the condition does not hold true, so returns false.\n",
        "*Example 1: Input [\"DataStream\", \"consec\", \"consec\", \"consec\", \"consec\"] [[4, 3], [4], [4], [4], [3]] Output [null, false, false, true, false]\n",
        "\n",
        "Explanation DataStream dataStream = new DataStream(4, 3); //value = 4, k = 3 dataStream.consec(4); // Only 1 integer is parsed, so returns False. dataStream.consec(4); // Only 2 integers are parsed. // Since 2 is less than k, returns False. dataStream.consec(4); // The 3 integers parsed are all equal to value, so returns True. dataStream.consec(3); // The last k integers parsed in the stream are [4,4,3]. // Since 3 is not equal to value, it returns False"
      ],
      "metadata": {
        "id": "U32gJA4JR_JE"
      }
    },
    {
      "cell_type": "code",
      "source": [
        "from collections import deque\n",
        "\n",
        "class DataStreaming:\n",
        "    def __init__(self, val, k):\n",
        "        self.stream = deque()\n",
        "        self.val = val\n",
        "        self.k = k\n",
        "\n",
        "    def consec(self, num):\n",
        "        self.stream.append(num)\n",
        "        if len(self.stream) < self.k:\n",
        "            return False\n",
        "        if len(self.stream) > self.k:\n",
        "            self.stream.popleft()\n",
        "        return all(x == self.val for x in self.stream)"
      ],
      "metadata": {
        "id": "Abp7sxh2SAhY"
      },
      "execution_count": 21,
      "outputs": []
    },
    {
      "cell_type": "code",
      "source": [
        "commands = [\"DataStream\", \"consec\", \"consec\", \"consec\", \"consec\"]\n",
        "arguments = [[4, 3], [4], [4], [4], [3]]\n",
        "\n",
        "dataStream = DataStreaming(*arguments[0])\n",
        "output = [None]\n",
        "\n",
        "for command, args in zip(commands[1:], arguments[1:]):\n",
        "    if command == \"consec\":\n",
        "        output.append(dataStream.consec(*args))\n",
        "\n",
        "print(\"Output:\")\n",
        "print(output)"
      ],
      "metadata": {
        "colab": {
          "base_uri": "https://localhost:8080/"
        },
        "id": "8xOozjMmSQov",
        "outputId": "50a0c6d7-cb3d-473e-d49f-c1364625f89f"
      },
      "execution_count": 22,
      "outputs": [
        {
          "output_type": "stream",
          "name": "stdout",
          "text": [
            "Output:\n",
            "[None, False, False, True, False]\n"
          ]
        }
      ]
    },
    {
      "cell_type": "code",
      "source": [],
      "metadata": {
        "id": "0KJC216VSAsu"
      },
      "execution_count": null,
      "outputs": []
    }
  ]
}