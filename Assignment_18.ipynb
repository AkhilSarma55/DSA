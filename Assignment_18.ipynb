{
  "nbformat": 4,
  "nbformat_minor": 0,
  "metadata": {
    "colab": {
      "provenance": []
    },
    "kernelspec": {
      "name": "python3",
      "display_name": "Python 3"
    },
    "language_info": {
      "name": "python"
    }
  },
  "cells": [
    {
      "cell_type": "markdown",
      "source": [
        "1. **Merge Intervals**\n",
        "\n",
        "Given an array of intervals where intervals[i] = [starti, endi], merge all overlapping intervals, and return an array of the non-overlapping intervals that cover all the intervals in the input.\n",
        "\n",
        "Example 1:\n",
        "\n",
        "Input: intervals = [[1,3],[2,6],[8,10],[15,18]] Output: [[1,6],[8,10],[15,18]] Explanation: Since intervals [1,3] and [2,6] overlap, merge them into [1,6]."
      ],
      "metadata": {
        "id": "GibQIIlXSlG9"
      }
    },
    {
      "cell_type": "code",
      "source": [
        "def merge_interva(inter):\n",
        "    inter.sort(key=lambda x: x[0])  # Sort intervals based on start time\n",
        "    merged = []\n",
        "    for interval in inter:\n",
        "        if not merged or interval[0] > merged[-1][1]:\n",
        "            # If no overlap, add the current interval to the re|sult list\n",
        "            merged.append(interval)\n",
        "        else:\n",
        "            # If overlap, merge the current interval with the last interval in the result list\n",
        "            merged[-1][1] = max(merged[-1][1], interval[1])\n",
        "    return merged"
      ],
      "metadata": {
        "id": "BRNg0RfgTV7z"
      },
      "execution_count": 23,
      "outputs": []
    },
    {
      "cell_type": "code",
      "source": [
        "intervals = [[1, 3], [2, 6], [8, 10], [15, 18]]\n",
        "merged_intervals = merge_interva(intervals)\n",
        "print(merged_intervals)\n",
        ""
      ],
      "metadata": {
        "colab": {
          "base_uri": "https://localhost:8080/"
        },
        "id": "J34EEwzgTtiV",
        "outputId": "becb16cc-b38c-4d78-bbfa-cdc375aabb0c"
      },
      "execution_count": 25,
      "outputs": [
        {
          "output_type": "stream",
          "name": "stdout",
          "text": [
            "[[1, 6], [8, 10], [15, 18]]\n"
          ]
        }
      ]
    },
    {
      "cell_type": "code",
      "source": [],
      "metadata": {
        "id": "mhRazAfbT0Ke"
      },
      "execution_count": null,
      "outputs": []
    },
    {
      "cell_type": "markdown",
      "source": [
        " 2. **Sort Colors**\n",
        "\n",
        "Given an array nums with n objects colored red, white, or blue, sort them in-place so that objects of the same color are adjacent, with the colors in the order red, white, and blue.\n",
        "\n",
        "We will use the integers 0, 1, and 2 to represent the color red, white, and blue, respectively.\n",
        "\n",
        "You must solve this problem without using the library's sort function.\n",
        "\n",
        "Example 1:\n",
        "\n",
        "Input: nums = [2,0,2,1,1,0] Output: [0,0,1,1,2,2]\n",
        "Example 2 Input: nums = [2,0,1] Output: [0,1,2]"
      ],
      "metadata": {
        "id": "xNDQGGchT0eE"
      }
    },
    {
      "cell_type": "code",
      "source": [
        "def sortColoring(nums):\n",
        "    lower = 0\n",
        "    mid = 0\n",
        "    higher= len(nums) - 1\n",
        "\n",
        "    while mid <= higher:\n",
        "        if nums[mid] == 0:\n",
        "            nums[mid], nums[lower] = nums[lower], nums[mid]\n",
        "            lower += 1\n",
        "            mid += 1\n",
        "        elif nums[mid] == 1:\n",
        "            mid += 1\n",
        "        else:\n",
        "            nums[mid], nums[higher] = nums[higher], nums[mid]\n",
        "            higher -= 1"
      ],
      "metadata": {
        "id": "WusAFdO8T9_2"
      },
      "execution_count": 26,
      "outputs": []
    },
    {
      "cell_type": "code",
      "source": [
        "\n",
        "nums = [2, 0, 2, 1, 1, 0]\n",
        "sortColoring(nums)\n",
        "print(nums)"
      ],
      "metadata": {
        "colab": {
          "base_uri": "https://localhost:8080/"
        },
        "id": "DuHMkYYjUfX9",
        "outputId": "42187da1-8508-44b0-9be1-a1e40d9090da"
      },
      "execution_count": 27,
      "outputs": [
        {
          "output_type": "stream",
          "name": "stdout",
          "text": [
            "[0, 0, 1, 1, 2, 2]\n"
          ]
        }
      ]
    },
    {
      "cell_type": "code",
      "source": [],
      "metadata": {
        "id": "ieF8lCjBUnYq"
      },
      "execution_count": null,
      "outputs": []
    },
    {
      "cell_type": "markdown",
      "source": [
        "**First Bad Version Solution**\n",
        "You are a product manager and currently leading a team to develop a new product. Unfortunately, the latest version of your product fails the quality check. Since each version is developed based on the previous version, all the versions after a bad version are also bad.\n",
        "\n",
        "Suppose you have n versions [1, 2, ..., n] and you want to find out the first bad one, which causes all the following ones to be bad.\n",
        "\n",
        "You are given an API bool isBadVersion(version) which returns whether version is bad. Implement a function to find the first bad version. You should minimize the number of calls to the API.\n",
        "\n",
        "Example 1:\n",
        "\n",
        "Input: n = 5, bad = 4 Output: 4 Explanation: call isBadVersion(3) -> false call isBadVersion(5) -> true call isBadVersion(4) -> true Then 4 is the first bad version.\n",
        "\n",
        "Example 2:\n",
        "\n",
        "Input: n = 1, bad = 1 Output: 1"
      ],
      "metadata": {
        "id": "76P3e0myUnmw"
      }
    },
    {
      "cell_type": "code",
      "source": [
        "def isBadVersion(version):\n",
        "    pass\n",
        "\n",
        "def firstBadVersion(n):\n",
        "    left = 1\n",
        "    right = n\n",
        "\n",
        "    while left < right:\n",
        "        mid = left + (right - left) // 2\n",
        "        if isBadVersion(mid):\n",
        "            right = mid\n",
        "        else:\n",
        "            left = mid + 1\n",
        "\n",
        "    return left\n"
      ],
      "metadata": {
        "id": "DS5NlPHIUqI2"
      },
      "execution_count": 28,
      "outputs": []
    },
    {
      "cell_type": "code",
      "source": [
        "n = 5\n",
        "bad = 4\n",
        "first_bad = firstBadVersion(n)\n",
        "print(first_bad)"
      ],
      "metadata": {
        "colab": {
          "base_uri": "https://localhost:8080/"
        },
        "id": "2dd6t7uLVQRP",
        "outputId": "fc402963-559d-4e83-9535-7944e96923c6"
      },
      "execution_count": 29,
      "outputs": [
        {
          "output_type": "stream",
          "name": "stdout",
          "text": [
            "5\n"
          ]
        }
      ]
    },
    {
      "cell_type": "code",
      "source": [
        "n1 = 5\n",
        "bad1 = 4\n",
        "print(firstBadVersion(n1))\n",
        "\n",
        "n2 = 1\n",
        "bad2 = 1\n",
        "print(firstBadVersion(n2))"
      ],
      "metadata": {
        "colab": {
          "base_uri": "https://localhost:8080/"
        },
        "id": "w_OZL7g3VU_Z",
        "outputId": "e80115f5-56c8-474a-cca0-fe0d94dd99b3"
      },
      "execution_count": 30,
      "outputs": [
        {
          "output_type": "stream",
          "name": "stdout",
          "text": [
            "5\n",
            "1\n"
          ]
        }
      ]
    },
    {
      "cell_type": "code",
      "source": [],
      "metadata": {
        "id": "nOrwk5zZVhsA"
      },
      "execution_count": null,
      "outputs": []
    },
    {
      "cell_type": "markdown",
      "source": [
        "4. Maximum Gap\n",
        "\n",
        "Given an integer array nums, return the maximum difference between two successive elements in its sorted form. If the array contains less than two elements, return 0.\n",
        "\n",
        "You must write an algorithm that runs in linear time and uses linear extra space.\n",
        "\n",
        "Example 1:\n",
        "\n",
        "Input: nums = [3,6,9,1] Output: 3 Explanation: The sorted form of the array is [1,3,6,9], either (3,6) or (6,9) has the maximum difference 3.\n",
        "\n",
        "Example 2:\n",
        "\n",
        "Input: nums = [10] Output: 0 Explanation: The array contains less than 2 elements, therefore return 0.\n",
        "\n",
        "Constraints:\n",
        "\n",
        "1 <= nums.length <= 10^5\n",
        "0 <= nums[i] <= 10^9\n",
        "Algorithm\n",
        "1.Find the maximum element in the input array nums and store it in the variable max_num.\n",
        "\n",
        "2.Initialize a variable exp to 1, which represents the current digit being sorted. Set up a loop that will run until max_num // exp is greater than 0.\n",
        "\n",
        "3.Inside the loop, create a counting array of size 10, where each index represents a digit from 0 to 9. Initialize all counts to 0.\n",
        "\n",
        "4.Traverse the input array nums and count the occurrence of each digit at the current digit position exp. Increment the corresponding count in the counting array.\n",
        "\n",
        "5.Compute the cumulative sum of the counting array. This step determines the position of each element in the sorted order.\n",
        "\n",
        "6.Create a temporary array output of the same size as nums.\n",
        "\n",
        "7.Traverse the input array nums from right to left. For each element, find its digit at the current position exp. Use the counting array to determine the position of the element in the output array. Decrement the count of the corresponding digit in the counting array.\n",
        "\n",
        "8.Copy the elements from the output array back to the input array nums.\n",
        "\n",
        "9.Multiply exp by 10 to move to the next digit position.\n",
        "\n",
        "10.After the loop finishes, the input array nums will be sorted in ascending order.\n",
        "\n",
        "11.Initialize a variable max_gap to 0, which represents the maximum gap between two successive elements.\n",
        "\n",
        "12.Traverse the sorted array nums and compute the difference between each pair of successive elements. Update max_gap with the maximum difference.\n",
        "\n",
        "13.Return max_gap."
      ],
      "metadata": {
        "id": "9GRKN4V4Vh4E"
      }
    },
    {
      "cell_type": "code",
      "source": [
        "def maximumGap(nums):\n",
        "    if len(nums) < 2:\n",
        "        return 0\n",
        "\n",
        "    maximum_num = max(nums)\n",
        "    experience = 1\n",
        "\n",
        "    while maximum_num // experience > 0:\n",
        "        counting_array = [0] * 10\n",
        "\n",
        "        for num in nums:\n",
        "            digit = (num // experience) % 10\n",
        "            counting_array[digit] += 1\n",
        "\n",
        "        for i in range(1, 10):\n",
        "            counting_array[i] += counting_array[i - 1]\n",
        "\n",
        "        output = [0] * len(nums)\n",
        "\n",
        "        for i in range(len(nums) - 1, -1, -1):\n",
        "            num = nums[i]\n",
        "            digit = (num // experience) % 10\n",
        "            position = counting_array[digit] - 1\n",
        "            output[position] = num\n",
        "            counting_array[digit] -= 1\n",
        "\n",
        "        nums = output\n",
        "        experience *= 10\n",
        "\n",
        "    max_gap = 0\n",
        "\n",
        "    for i in range(1, len(nums)):\n",
        "        max_gap = max(max_gap, nums[i] - nums[i - 1])\n",
        "\n",
        "    return max_gap\n",
        "nums1 = [3, 6, 9, 1]\n",
        "print(maximumGap(nums1))\n",
        "\n",
        "nums2 = [10]\n",
        "print(maximumGap(nums2))"
      ],
      "metadata": {
        "colab": {
          "base_uri": "https://localhost:8080/"
        },
        "id": "OKmVJrYtVnT1",
        "outputId": "c87a5635-0f37-4bef-dc22-162646f72ece"
      },
      "execution_count": 34,
      "outputs": [
        {
          "output_type": "stream",
          "name": "stdout",
          "text": [
            "3\n",
            "0\n"
          ]
        }
      ]
    },
    {
      "cell_type": "code",
      "source": [],
      "metadata": {
        "id": "U1dTBRk3WRxR"
      },
      "execution_count": null,
      "outputs": []
    },
    {
      "cell_type": "markdown",
      "source": [
        "5. Contains Duplicate\n",
        "\n",
        "Given an integer array nums, return true if any value appears at least twice in the array, and return false if every element is distinct.\n",
        "\n",
        "Example 1:\n",
        "\n",
        "Input: nums = [1,2,3,1] Output: true\n",
        "\n",
        "Example 2:\n",
        "\n",
        "Input: nums = [1,2,3,4] Output: false\n",
        "\n",
        "Example 3:\n",
        "\n",
        "Input: nums = [1,1,1,3,3,4,3,2,4,2] Output: true\n",
        "\n",
        "Constraints:\n",
        "\n",
        "1 <= nums.length <= 10^5\n",
        "109 <= nums[i] <= 10^9\n",
        "Algorithm\n",
        "Initialize an empty hash set.\n",
        "\n",
        "Iterate through each element num in the input array nums.\n",
        "\n",
        "If num is already in the hash set, return true as it indicates a duplicate value.\n",
        "\n",
        "If num is not in the hash set, add it to the hash set.\n",
        "\n",
        "If the loop completes without finding any duplicates, return false\n",
        "\n"
      ],
      "metadata": {
        "id": "JtF_Y3hTWR8_"
      }
    },
    {
      "cell_type": "code",
      "source": [
        "def containsDuplicate(number):\n",
        "    seen = set()\n",
        "    for num in number:\n",
        "        if num in seen:\n",
        "            return True\n",
        "        seen.add(num)\n",
        "    return False\n",
        "nums1 = [1, 2, 3, 1]\n",
        "print(containsDuplicate(nums1))\n",
        "\n",
        "nums2 = [1, 2, 3, 4]\n",
        "print(containsDuplicate(nums2))\n",
        "\n",
        "nums3 = [1, 1, 1, 3, 3, 4, 3, 2, 4, 2]\n",
        "print(containsDuplicate(nums3))"
      ],
      "metadata": {
        "colab": {
          "base_uri": "https://localhost:8080/"
        },
        "id": "g3DgFWR-WTyG",
        "outputId": "0f8147d4-bb2a-48bf-87ad-0edd6883274c"
      },
      "execution_count": 36,
      "outputs": [
        {
          "output_type": "stream",
          "name": "stdout",
          "text": [
            "True\n",
            "False\n",
            "True\n"
          ]
        }
      ]
    },
    {
      "cell_type": "code",
      "source": [],
      "metadata": {
        "id": "JGLaNqnDXiVw"
      },
      "execution_count": null,
      "outputs": []
    },
    {
      "cell_type": "markdown",
      "source": [
        "6. Minimum Number of Arrows to Burst Balloons\n",
        "There are some spherical balloons taped onto a flat wall that represents the XY-plane. The balloons are represented as a 2D integer array points where points[i] = [xstart, xend] denotes a balloon whose horizontal diameter stretches between xstart and xend. You do not know the exact y-coordinates of the balloons.\n",
        "\n",
        "Arrows can be shot up directly vertically (in the positive y-direction) from different points along the x-axis. A balloon with xstart and xend is burst by an arrow shot at x if xstart <= x <= xend. There is no limit to the number of arrows that can be shot. A shot arrow keeps traveling up infinitely, bursting any balloons in its path.\n",
        "\n",
        "Given the array points, return the minimum number of arrows that must be shot to burst all balloons.\n",
        "\n",
        "Example 1:\n",
        "\n",
        "Input: points = [[10,16],[2,8],[1,6],[7,12]] Output: 2 Explanation: The balloons can be burst by 2 arrows:\n",
        "\n",
        "Shoot an arrow at x = 6, bursting the balloons [2,8] and [1,6].\n",
        "Shoot an arrow at x = 11, bursting the balloons [10,16] and [7,12].\n",
        "Example 2:\n",
        "\n",
        "Input: points = [[1,2],[3,4],[5,6],[7,8]] Output: 4 Explanation: One arrow needs to be shot for each balloon for a total of 4 arrows.\n",
        "\n",
        "Example 3:\n",
        "\n",
        "Input: points = [[1,2],[2,3],[3,4],[4,5]] Output: 2 Explanation: The balloons can be burst by 2 arrows:\n",
        "\n",
        "Shoot an arrow at x = 2, bursting the balloons [1,2] and [2,3].\n",
        "Shoot an arrow at x = 4, bursting the balloons [3,4] and [4,5].\n",
        "Constraints:\n",
        "\n",
        "1 <= points.length <= 10^5\n",
        "points[i].length == 2\n",
        "231 <= xstart < xend <= 2^31 - 1\n",
        "Algorithm\n",
        "Sort the input array points based on the end points of the balloons in ascending order.\n",
        "\n",
        "Initialize a variable count to 1 to represent the minimum number of arrows needed. This variable will be incremented each time a new arrow is required.\n",
        "\n",
        "Iterate through the sorted points array starting from the second balloon.\n",
        "\n",
        "For each balloon, compare its start point with the previous balloon's end point.\n",
        "\n",
        "If the start point of the current balloon is greater than the previous balloon's end point, it means a new arrow is required to burst this balloon. Increment count by 1.\n",
        "\n",
        "If the start point of the current balloon is less than or equal to the previous balloon's end point, it means the current balloon can be burst by the same arrow that was used for the previous balloon. No need to increment count.\n",
        "\n",
        "After iterating through all the balloons, return the value of count as the minimum number of arrows required."
      ],
      "metadata": {
        "id": "wk9fkR5fXiiw"
      }
    },
    {
      "cell_type": "code",
      "source": [
        "def findMinArrow(point):\n",
        "    if not point:\n",
        "        return 0\n",
        "\n",
        "    point.sort(key=lambda x: x[1])\n",
        "    count = 1\n",
        "    end = point[0][1]\n",
        "\n",
        "    for i in range(1, len(point)):\n",
        "        if point[i][0] > end:\n",
        "            count += 1\n",
        "            end = point[i][1]\n",
        "\n",
        "    return count\n",
        "points1 = [[10, 16], [2, 8], [1, 6], [7, 12]]\n",
        "print(findMinArrow(points1))\n",
        "points2 = [[1, 2], [3, 4], [5, 6], [7, 8]]\n",
        "print(findMinArrow(points2))\n",
        "\n",
        "points3 = [[1, 2], [2, 3], [3, 4], [4, 5]]\n",
        "print(findMinArrow(points3))"
      ],
      "metadata": {
        "colab": {
          "base_uri": "https://localhost:8080/"
        },
        "id": "7BbAs0YlXlGr",
        "outputId": "1a375322-133a-416f-e174-62b9e1bc4cd6"
      },
      "execution_count": 37,
      "outputs": [
        {
          "output_type": "stream",
          "name": "stdout",
          "text": [
            "2\n",
            "4\n",
            "2\n"
          ]
        }
      ]
    },
    {
      "cell_type": "code",
      "source": [],
      "metadata": {
        "id": "hnOHku9uX6xO"
      },
      "execution_count": null,
      "outputs": []
    },
    {
      "cell_type": "markdown",
      "source": [
        "7. Longest Increasing Subsequence\n",
        "Given an integer array nums, return the length of the longest strictly increasing**\n",
        "\n",
        "*subsequence*\n",
        "\n",
        "Example 1:\n",
        "\n",
        "Input: nums = [10,9,2,5,3,7,101,18] Output: 4 Explanation: The longest increasing subsequence is [2,3,7,101], therefore the length is 4.\n",
        "\n",
        "Example 2:\n",
        "\n",
        "Input: nums = [0,1,0,3,2,3] Output: 4\n",
        "\n",
        "Example 3:\n",
        "\n",
        "Input: nums = [7,7,7,7,7,7,7] Output: 1\n",
        "\n",
        "Constraints:\n",
        "\n",
        "1 <= nums.length <= 2500\n",
        "-10^4 <= nums[i] <= 10^4\n",
        "Algorithm\n",
        "1.Initialize an array dp of length n (where n is the length of nums) with all values set to 1. This array will store the length of the longest increasing subsequence ending at each index.\n",
        "\n",
        "2.Iterate through the array nums starting from the second element.\n",
        "\n",
        "3.For each element nums[i], iterate through all the previous elements nums[j] (where 0 <= j < i).\n",
        "\n",
        "4.If nums[i] is greater than nums[j], update dp[i] to the maximum value between dp[i] and dp[j] + 1. This means that the longest increasing subsequence ending at index i can be extended by including the current element.\n",
        "\n",
        "5.After iterating through all the elements, find the maximum value in the dp array, which represents the length of the longest increasing subsequence in nums.\n",
        "\n",
        "6.Return the maximum value found"
      ],
      "metadata": {
        "id": "vOd6bhRPX6-1"
      }
    },
    {
      "cell_type": "code",
      "source": [
        "def lengthOfLIS(num):\n",
        "    n = len(num)\n",
        "    if n == 0:\n",
        "        return 0\n",
        "\n",
        "    dp = [1] * n\n",
        "\n",
        "    for i in range(1, n):\n",
        "        for j in range(i):\n",
        "            if num[i] > num[j]:\n",
        "                dp[i] = max(dp[i], dp[j] + 1)\n",
        "\n",
        "    return max(dp)\n",
        "nums1 = [10, 9, 2, 5, 3, 7, 101, 18]\n",
        "print(lengthOfLIS(nums1))\n",
        "nums2 = [0, 1, 0, 3, 2, 3]\n",
        "print(lengthOfLIS(nums2))\n",
        "nums3 = [7, 7, 7, 7, 7, 7, 7]\n",
        "print(lengthOfLIS(nums3))"
      ],
      "metadata": {
        "colab": {
          "base_uri": "https://localhost:8080/"
        },
        "id": "cEVQFwPFX92E",
        "outputId": "0b35e148-0ee8-4cc2-c676-14bfc309bc65"
      },
      "execution_count": 38,
      "outputs": [
        {
          "output_type": "stream",
          "name": "stdout",
          "text": [
            "4\n",
            "4\n",
            "1\n"
          ]
        }
      ]
    },
    {
      "cell_type": "code",
      "source": [],
      "metadata": {
        "id": "ro_3o2dBYUS4"
      },
      "execution_count": null,
      "outputs": []
    },
    {
      "cell_type": "markdown",
      "source": [
        "8. 132 Pattern\n",
        "Given an array of n integers nums, a 132 pattern is a subsequence of three integers nums[i], nums[j] and nums[k] such that i < j < k and nums[i] < nums[k] < nums[j].\n",
        "\n",
        "Return true if there is a 132 pattern in nums, otherwise, return false.\n",
        "\n",
        "Example 1:\n",
        "\n",
        "Input: nums = [1,2,3,4] Output: false Explanation: There is no 132 pattern in the sequence.\n",
        "\n",
        "Example 2:\n",
        "\n",
        "Input: nums = [3,1,4,2] Output: true Explanation: There is a 132 pattern in the sequence: [1, 4, 2].\n",
        "\n",
        "Example 3:\n",
        "\n",
        "Input: nums = [-1,3,2,0] Output: true Explanation: There are three 132 patterns in the sequence: [-1, 3, 2], [-1, 3, 0] and [-1, 2, 0].\n",
        "\n",
        "Constraints:\n",
        "\n",
        "n == nums.length\n",
        "1 <= n <= 2 * 10^5\n",
        "-10^9 <= nums[i] <= 10^9\n",
        "Algorithm\n",
        "1.Initialize an empty stack.\n",
        "\n",
        "2.Iterate through the array nums from right to left.\n",
        "\n",
        "3.Keep track of the maximum value encountered so far. Initialize a variable max_val to negative infinity.\n",
        "\n",
        "4.While the stack is not empty and the top element of the stack is less than the current element of nums, pop elements from the stack and update max_val to the maximum value between max_val and the popped element.\n",
        "\n",
        "5.If the current element of nums is greater than max_val, it means we have found a \"132 pattern\". Return True.\n",
        "\n",
        "6.Push the current element of nums onto the stack.\n",
        "\n",
        "7.If the loop completes without finding a \"132 pattern\", return False.\n",
        "\n"
      ],
      "metadata": {
        "id": "10__Z357YUqf"
      }
    },
    {
      "cell_type": "code",
      "source": [
        "def find132pattern(num):\n",
        "    stacks = []\n",
        "    maximum_val = float('-inf')\n",
        "\n",
        "    for i in range(len(num) - 1, -1, -1):\n",
        "        if num[i] < maximum_val:\n",
        "            return True\n",
        "\n",
        "        while stacks and num[i] > stacks[-1]:\n",
        "            maximum_val = max(maximum_val, stacks.pop())\n",
        "\n",
        "        stacks.append(num[i])\n",
        "\n",
        "    return False\n",
        "nums1 = [1, 2, 3, 4]\n",
        "print(find132pattern(nums1))\n",
        "\n",
        "nums2 = [3, 1, 4, 2]\n",
        "print(find132pattern(nums2))\n",
        "nums3 = [-1, 3, 2, 0]\n",
        "print(find132pattern(nums3))"
      ],
      "metadata": {
        "colab": {
          "base_uri": "https://localhost:8080/"
        },
        "id": "AEf0DaO3YWsE",
        "outputId": "fa9dddd5-ac78-4f60-eecc-bdbcc39d43e8"
      },
      "execution_count": 39,
      "outputs": [
        {
          "output_type": "stream",
          "name": "stdout",
          "text": [
            "False\n",
            "True\n",
            "True\n"
          ]
        }
      ]
    }
  ]
}