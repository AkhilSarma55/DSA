{
  "nbformat": 4,
  "nbformat_minor": 0,
  "metadata": {
    "colab": {
      "provenance": []
    },
    "kernelspec": {
      "name": "python3",
      "display_name": "Python 3"
    },
    "language_info": {
      "name": "python"
    }
  },
  "cells": [
    {
      "cell_type": "markdown",
      "source": [
        "1. **Merge k Sorted Lists**\n",
        "You are given an array of k linked-lists lists, each linked-list is sorted in ascending order.\n",
        "\n",
        "Merge all the linked-lists into one sorted linked-list and return it.\n",
        "\n",
        "Example 1:\n",
        "\n",
        "Input: lists = [[1,4,5],[1,3,4],[2,6]] Output: [1,1,2,3,4,4,5,6] Explanation: The linked-lists are: [ 1->4->5, 1->3->4, 2->6 ] merging them into one sorted list: 1->1->2->3->4->4->5->6\n",
        "\n",
        "Example 2\n",
        "\n",
        "Input: lists = [] Output: []\n",
        "\n",
        "Example 3\n",
        "\n",
        "Input: lists = [[]] Output: []"
      ],
      "metadata": {
        "id": "f6xTKVhZZGXL"
      }
    },
    {
      "cell_type": "code",
      "source": [
        "import heapq\n",
        "\n",
        "class ListNode:\n",
        "    def __init__(self, value=0, next=None):\n",
        "        self.value = value\n",
        "        self.next = next\n",
        "\n",
        "def mergeKLists(lists):\n",
        "    # Create a min-heap\n",
        "    heap = []\n",
        "    # Add the first node from each list to the min-heap\n",
        "    for i in range(len(lists)):\n",
        "        if lists[i]:\n",
        "            heapq.heappush(heap, (lists[i].value, i))\n",
        "\n",
        "    # Create a dummy node and a pointer to the current position\n",
        "    dummy = ListNode(0)\n",
        "    curr = dummy\n",
        "\n",
        "    # Merge the linked lists using the min-heap\n",
        "    while heap:\n",
        "        # Remove the node with the minimum value from the min-heap\n",
        "        value, idx = heapq.heappop(heap)\n",
        "        # Append the node to the merged list\n",
        "        curr.next = ListNode(value)\n",
        "        curr = curr.next\n",
        "        # Move to the next position in the linked list\n",
        "        lists[idx] = lists[idx].next\n",
        "        # Add the next node to the min-heap if it exists\n",
        "        if lists[idx]:\n",
        "            heapq.heappush(heap, (lists[idx].value, idx))\n",
        "\n",
        "    # Return the merged sorted linked list\n",
        "    return dummy.next\n",
        "\n",
        "\n",
        "# Example 1\n",
        "lists = [ListNode(1, ListNode(4, ListNode(5))),\n",
        "         ListNode(1, ListNode(3, ListNode(4))),\n",
        "         ListNode(2, ListNode(6))]\n",
        "\n",
        "result = mergeKLists(lists)\n",
        "while result:\n",
        "    print(result.value, end=\" \")\n",
        "    result = result.next\n",
        "\n",
        "\n",
        "# Example 2\n",
        "lists = []\n",
        "result = mergeKLists(lists)\n",
        "while result:\n",
        "    print(result.value, end=\" \")\n",
        "    result = result.next\n",
        "\n",
        "\n",
        "# Example 3\n",
        "lists = [[]]\n",
        "result = mergeKLists(lists)\n",
        "while result:\n",
        "    print(result.value, end=\" \")\n",
        "    result = result.next\n"
      ],
      "metadata": {
        "colab": {
          "base_uri": "https://localhost:8080/"
        },
        "id": "9Tk_OFa9ZqEn",
        "outputId": "490dc93b-70d9-4e6f-b107-768650db9edf"
      },
      "execution_count": 40,
      "outputs": [
        {
          "output_type": "stream",
          "name": "stdout",
          "text": [
            "1 1 2 3 4 4 5 6 "
          ]
        }
      ]
    },
    {
      "cell_type": "code",
      "source": [],
      "metadata": {
        "id": "yzEM6ZJaaE7N"
      },
      "execution_count": null,
      "outputs": []
    },
    {
      "cell_type": "markdown",
      "source": [],
      "metadata": {
        "id": "nhLeRaI8aFGx"
      }
    },
    {
      "cell_type": "markdown",
      "source": [
        "2. **Count of Smaller Numbers After Self**\n",
        "\n",
        "Given an integer array nums, return an integer array counts where counts[i] is the number of smaller elements to the right of nums[i].\n",
        "\n",
        "Example 1:\n",
        "\n",
        "Input: nums = [5,2,6,1] Output: [2,1,1,0] Explanation: To the right of 5 there are2 smaller elements (2 and 1). To the right of 2 there is only1 smaller element (1). To the right of 6 there is1 smaller element (1). To the right of 1 there is0 smaller element.\n",
        "\n",
        "Example 2\n",
        "\n",
        "Input: nums = [-1] Output: [0]\n",
        "\n",
        "Example 3 Input: nums = [-1,-1] Output: [0,0]"
      ],
      "metadata": {
        "id": "BP-RARHyaFRk"
      }
    },
    {
      "cell_type": "code",
      "source": [
        "def countSmall(num):\n",
        "    def mergeSort(array):\n",
        "        if len(array) <= 1:\n",
        "            return array\n",
        "\n",
        "        mid = len(array) // 2\n",
        "        left = mergeSort(array[:mid])\n",
        "        right = mergeSort(array[mid:])\n",
        "        merged = []\n",
        "        i, j = 0, 0\n",
        "        while i < len(left):\n",
        "            if j == len(right) or left[i][0] <= right[j][0]:\n",
        "                counts[left[i][1]] += j\n",
        "                merged.append(left[i])\n",
        "                i += 1\n",
        "            else:\n",
        "                merged.append(right[j])\n",
        "                j += 1\n",
        "        merged.extend(right[j:])\n",
        "        return merged\n",
        "\n",
        "    n = len(num)\n",
        "    pairs = [(num[i], i) for i in range(n)]\n",
        "    counts = [0] * n\n",
        "    mergeSort(pairs)\n",
        "\n",
        "    return counts\n",
        "\n",
        "\n",
        "# Example usage:\n",
        "nums = [5, 2, 6, 1]\n",
        "result = countSmall(nums)\n",
        "print(result)\n",
        "\n",
        "\n",
        "nums = [-1]\n",
        "result = countSmall(nums)\n",
        "print(result)\n",
        "\n",
        "\n",
        "nums = [-1, -1]\n",
        "result = countSmall(nums)\n",
        "print(result)\n"
      ],
      "metadata": {
        "colab": {
          "base_uri": "https://localhost:8080/"
        },
        "id": "j-bOYndyaIH-",
        "outputId": "4b85eba4-7f7f-423d-b757-0623890a0af6"
      },
      "execution_count": 41,
      "outputs": [
        {
          "output_type": "stream",
          "name": "stdout",
          "text": [
            "[2, 1, 1, 0]\n",
            "[0]\n",
            "[0, 0]\n"
          ]
        }
      ]
    },
    {
      "cell_type": "code",
      "source": [],
      "metadata": {
        "id": "Iv9fUAB_am-s"
      },
      "execution_count": null,
      "outputs": []
    },
    {
      "cell_type": "markdown",
      "source": [
        " 3. **Sort an Array**\n",
        "\n",
        "Given an array of integers nums, sort the array in ascending order and return it.\n",
        "\n",
        "You must solve the problem without using any built-in functions in O(nlog(n)) time complexity and with the smallest space complexity possible.\n",
        "\n",
        "Example 1:\n",
        "\n",
        "Input: nums = [5,2,3,1] Output: [1,2,3,5] Explanation: After sorting the array, the positions of some numbers are not changed (for example, 2 and 3), while the positions of other numbers are changed (for example, 1 and 5).\n",
        "\n",
        "Example 2:\n",
        "\n",
        "Input: nums = [5,1,1,2,0,0] Output: [0,0,1,1,2,5] Explanation: Note that the values of nums are not necessairly unique.\n",
        "\n"
      ],
      "metadata": {
        "id": "SzhNS6NOanJe"
      }
    },
    {
      "cell_type": "code",
      "source": [
        "def partitions(number, lower, higher):\n",
        "    pivot = number[higher]\n",
        "    i = lower\n",
        "    for j in range(lower, higher):\n",
        "        if number[j] <= pivot:\n",
        "            number[i], number[j] = number[j], number[i]\n",
        "            i += 1\n",
        "    number[i], number[higher] = number[higher], number[i]\n",
        "    return i\n",
        "\n",
        "def quicksort(number, lower, higher):\n",
        "    if lower < higher:\n",
        "        pivot = partitions(number, lower, higher)\n",
        "        quicksort(number, lower, pivot - 1)\n",
        "        quicksort(number, pivot + 1, higher)\n",
        "\n",
        "def sortArray(number):\n",
        "    quicksort(number, 0, len(number) - 1)\n",
        "    return number\n",
        "\n",
        "\n",
        "nums = [5, 2, 3, 1]\n",
        "result = sortArray(nums)\n",
        "print(result)\n",
        "\n",
        "\n",
        "nums = [5, 1, 1, 2, 0, 0]\n",
        "result = sortArray(nums)\n",
        "print(result)\n",
        ""
      ],
      "metadata": {
        "colab": {
          "base_uri": "https://localhost:8080/"
        },
        "id": "5r-Psj5hapNQ",
        "outputId": "ef0c89d5-9740-49dc-ebfd-5947f85c7efe"
      },
      "execution_count": 42,
      "outputs": [
        {
          "output_type": "stream",
          "name": "stdout",
          "text": [
            "[1, 2, 3, 5]\n",
            "[0, 0, 1, 1, 2, 5]\n"
          ]
        }
      ]
    },
    {
      "cell_type": "code",
      "source": [],
      "metadata": {
        "id": "ka0ZbS-Bbqcp"
      },
      "execution_count": null,
      "outputs": []
    },
    {
      "cell_type": "markdown",
      "source": [
        " 4. **Move all zeroes to end of array**\n",
        "\n",
        "Given an array of random numbers, Push all the zero’s of a given array to the end of the array. For example, if the given arrays is {1, 9, 8, 4, 0, 0, 2, 7, 0, 6, 0}, it should be changed to {1, 9, 8, 4, 2, 7, 6, 0, 0, 0, 0}. The order of all other elements should be same. Expected time complexity is O(n) and extra space is O(1).\n",
        "\n",
        "Example:\n",
        "\n",
        "Input : arr[] = {1, 2, 0, 4, 3, 0, 5, 0}; Output : arr[] = {1, 2, 4, 3, 5, 0, 0, 0};\n",
        "\n",
        "Input : arr[] = {1, 2, 0, 0, 0, 3, 6}; Output : arr[] = {1, 2, 3, 6, 0, 0, 0};"
      ],
      "metadata": {
        "id": "7EesgzkDbqnc"
      }
    },
    {
      "cell_type": "code",
      "source": [
        "def moveZero(array):\n",
        "    n = len(array)\n",
        "    j = 0\n",
        "    for i in range(n):\n",
        "        if array[i] != 0:\n",
        "            array[i], array[j] = array[j], array[i]\n",
        "            j += 1\n",
        "    for i in range(j, n):\n",
        "        array[i] = 0\n",
        "    return array\n",
        "\n",
        "\n",
        "array= [1, 2, 0, 4, 3, 0, 5, 0]\n",
        "result = moveZero(array)\n",
        "print(result)\n",
        "\n",
        "\n",
        "array = [1, 2, 0, 0, 0, 3, 6]\n",
        "result = moveZero(array)\n",
        "print(result)\n",
        ""
      ],
      "metadata": {
        "colab": {
          "base_uri": "https://localhost:8080/"
        },
        "id": "EXBdS-w2bvoZ",
        "outputId": "aa7567a5-fcae-4d18-9792-d13303053944"
      },
      "execution_count": 43,
      "outputs": [
        {
          "output_type": "stream",
          "name": "stdout",
          "text": [
            "[1, 2, 4, 3, 5, 0, 0, 0]\n",
            "[1, 2, 3, 6, 0, 0, 0]\n"
          ]
        }
      ]
    },
    {
      "cell_type": "code",
      "source": [],
      "metadata": {
        "id": "2VDzBpP6cyTb"
      },
      "execution_count": null,
      "outputs": []
    },
    {
      "cell_type": "markdown",
      "source": [
        "5. **Rearrange array in alternating positive & negative items with O(1) extra space**\n",
        "\n",
        "Given an array of positive and negative numbers, arrange them in an alternate fashion such that every positive number is followed by a negative and vice-versa maintaining the order of appearance. The number of positive and negative numbers need not be equal. If there are more positive numbers they appear at the end of the array. If there are more negative numbers, they too appear at the end of the array.\n",
        "\n",
        "Examples:\n",
        "\n",
        "Input:  arr[] = {1, 2, 3, -4, -1, 4}\n",
        "\n",
        "Output: arr[] = {-4, 1, -1, 2, 3, 4}\n",
        "\n",
        "Input:  arr[] = {-5, -2, 5, 2, 4, 7, 1, 8, 0, -8} Output: arr[] = {-5, 5, -2, 2, -8, 4, 7, 1, 8, 0}"
      ],
      "metadata": {
        "id": "voTX3fQ1cygP"
      }
    },
    {
      "cell_type": "code",
      "source": [
        "def rearrangeArray(array):\n",
        "    positive = []\n",
        "    negative = []\n",
        "\n",
        "    for num in array:\n",
        "        if num >= 0:\n",
        "            positive.append(num)\n",
        "        else:\n",
        "            negative.append(num)\n",
        "\n",
        "    result = []\n",
        "    i, j = 0, 0\n",
        "\n",
        "    while i < len(positive) and j < len(negative):\n",
        "        result.append(positive[i])\n",
        "        result.append(negative[j])\n",
        "        i += 1\n",
        "        j += 1\n",
        "\n",
        "    # Append any remaining positive or negative numbers\n",
        "    while i < len(positive):\n",
        "        result.append(positive[i])\n",
        "        i += 1\n",
        "\n",
        "    while j < len(negative):\n",
        "        result.append(negative[j])\n",
        "        j += 1\n",
        "\n",
        "    return result\n",
        "\n",
        "\n",
        "array = [1, 2, 3, -4, -1, 4]\n",
        "result = rearrangeArray(array)\n",
        "print(result)\n",
        "\n",
        "\n",
        "array= [-5, -2, 5, 2, 4, 7, 1, 8, 0, -8]\n",
        "result = rearrangeArray(array)\n",
        "print(result)\n"
      ],
      "metadata": {
        "colab": {
          "base_uri": "https://localhost:8080/"
        },
        "id": "GrghnvI3c0LM",
        "outputId": "df599131-660c-4065-b707-3c46737f6d4a"
      },
      "execution_count": 44,
      "outputs": [
        {
          "output_type": "stream",
          "name": "stdout",
          "text": [
            "[1, -4, 2, -1, 3, 4]\n",
            "[5, -5, 2, -2, 4, -8, 7, 1, 8, 0]\n"
          ]
        }
      ]
    },
    {
      "cell_type": "code",
      "source": [],
      "metadata": {
        "id": "YCRt7NJxdSlK"
      },
      "execution_count": null,
      "outputs": []
    },
    {
      "cell_type": "markdown",
      "source": [
        "**6. Merge two sorted arrays**\n",
        "\n",
        "Given two sorted arrays, the task is to merge them in a sorted manner.\n",
        "\n",
        "Examples:\n",
        "\n",
        "Input: arr1[] = { 1, 3, 4, 5}, arr2[] = {2, 4, 6, 8}\n",
        "\n",
        "Output: arr3[] = {1, 2, 3, 4, 4, 5, 6, 8}\n",
        "\n",
        "Input: arr1[] = { 5, 8, 9}, arr2[] = {4, 7, 8} Output: arr3[] = {4, 5, 7, 8, 8, 9}"
      ],
      "metadata": {
        "id": "mWPeDSAvdSwi"
      }
    },
    {
      "cell_type": "code",
      "source": [
        "def mergeSortArrays(array1, array2):\n",
        "    n1 = len(array1)\n",
        "    n2 = len(array2)\n",
        "    merged = []\n",
        "    i = 0\n",
        "    j = 0\n",
        "\n",
        "    # Merge the two arrays in a sorted manner\n",
        "    while i < n1 and j < n2:\n",
        "        if array1[i] <= array2[j]:\n",
        "            merged.append(array1[i])\n",
        "            i += 1\n",
        "        else:\n",
        "            merged.append(array2[j])\n",
        "            j += 1\n",
        "\n",
        "    # Append the remaining elements of arr1\n",
        "    while i < n1:\n",
        "        merged.append(array1[i])\n",
        "        i += 1\n",
        "\n",
        "    # Append the remaining elements of arr2\n",
        "    while j < n2:\n",
        "        merged.append(array2[j])\n",
        "        j += 1\n",
        "\n",
        "    return merged\n",
        "\n",
        "\n",
        "array1 = [1, 3, 4, 5]\n",
        "array2 = [2, 4, 6, 8]\n",
        "result = mergeSortArrays(array1, array2)\n",
        "print(result)\n",
        "\n",
        "\n",
        "array1 = [5, 8, 9]\n",
        "array2 = [4, 7, 8]\n",
        "result = mergeSortArrays(array1, array2)\n",
        "print(result)\n"
      ],
      "metadata": {
        "colab": {
          "base_uri": "https://localhost:8080/"
        },
        "id": "8NY6wNAGdUzC",
        "outputId": "2e5d64fe-dac1-4b01-de06-7e74528c9c12"
      },
      "execution_count": 46,
      "outputs": [
        {
          "output_type": "stream",
          "name": "stdout",
          "text": [
            "[1, 2, 3, 4, 4, 5, 6, 8]\n",
            "[4, 5, 7, 8, 8, 9]\n"
          ]
        }
      ]
    },
    {
      "cell_type": "code",
      "source": [],
      "metadata": {
        "id": "CrmbIJg9eO7_"
      },
      "execution_count": null,
      "outputs": []
    },
    {
      "cell_type": "markdown",
      "source": [
        " 7. **Intersection of Two Arrays**\n",
        "\n",
        "Given two integer arrays nums1 and nums2, return an array of their intersection. Each element in the result must be unique and you may return the result in any order.\n",
        "\n",
        "Example 1:\n",
        "\n",
        "Input: nums1 = [1,2,2,1], nums2 = [2,2] Output: [2]\n",
        "\n",
        "Example 2\n",
        "\n",
        "Input: nums1 = [4,9,5], nums2 = [9,4,9,8,4] Output: [9,4] Explanation: [4,9] is also accepted.\n",
        "\n"
      ],
      "metadata": {
        "id": "FxiEt_r_ePHZ"
      }
    },
    {
      "cell_type": "code",
      "source": [
        "def intersection1(number1, number2):\n",
        "    set1 = set(number1)\n",
        "    set2 = set(number2)\n",
        "    return list(set1.intersection(set2))\n",
        "\n",
        "\n",
        "number1 = [1, 2, 2, 1]\n",
        "number2 = [2, 2]\n",
        "result = intersection1(number1, number2)\n",
        "print(result)\n",
        "\n",
        "\n",
        "number1 = [4, 9, 5]\n",
        "number2 = [9, 4, 9, 8, 4]\n",
        "result = intersection1(number1, number2)\n",
        "print(result)"
      ],
      "metadata": {
        "colab": {
          "base_uri": "https://localhost:8080/"
        },
        "id": "EhC4gcUreRgU",
        "outputId": "89bf3722-ec57-4f04-8d11-596707acbe64"
      },
      "execution_count": 48,
      "outputs": [
        {
          "output_type": "stream",
          "name": "stdout",
          "text": [
            "[2]\n",
            "[9, 4]\n"
          ]
        }
      ]
    },
    {
      "cell_type": "code",
      "source": [],
      "metadata": {
        "id": "I_nD_iCwe1e4"
      },
      "execution_count": null,
      "outputs": []
    },
    {
      "cell_type": "markdown",
      "source": [
        "8. **Intersection of Two Arrays II**\n",
        "\n",
        "Given two integer arrays nums1 and nums2, return an array of their intersection. Each element in the result must appear as many times as it shows in both arrays and you may return the result in any order.\n",
        "\n",
        "Example 1:\n",
        "\n",
        "Input: nums1 = [1,2,2,1], nums2 = [2,2] Output: [2,2]\n",
        "\n",
        "Example 2\n",
        "\n",
        "Input: nums1 = [4,9,5], nums2 = [9,4,9,8,4] Output: [4,9] Explanation: [9,4] is also accepted."
      ],
      "metadata": {
        "id": "i9--ElAZe1vr"
      }
    },
    {
      "cell_type": "code",
      "source": [
        "\n",
        "from collections import Counter\n",
        "def intersection(number1, number2):\n",
        "    counter1 = Counter(number1)\n",
        "    result = []\n",
        "\n",
        "    for num in number2:\n",
        "        if num in counter1 and counter1[num] > 0:\n",
        "            result.append(num)\n",
        "            counter1[num] -= 1\n",
        "\n",
        "    return result\n",
        "\n",
        "\n",
        "# Example usage:\n",
        "number1 = [1, 2, 2, 1]\n",
        "number2 = [2, 2]\n",
        "result = intersection(number1, number2)\n",
        "print(result)\n",
        "\n",
        "\n",
        "number1 = [4, 9, 5]\n",
        "number2 = [9, 4, 9, 8, 4]\n",
        "result = intersection(number1, number2)\n",
        "print(result)"
      ],
      "metadata": {
        "colab": {
          "base_uri": "https://localhost:8080/"
        },
        "id": "by-zX9vYfEhf",
        "outputId": "f421b6d6-8220-49e6-cf21-85752f100e47"
      },
      "execution_count": 49,
      "outputs": [
        {
          "output_type": "stream",
          "name": "stdout",
          "text": [
            "[2, 2]\n",
            "[9, 4]\n"
          ]
        }
      ]
    },
    {
      "cell_type": "code",
      "source": [],
      "metadata": {
        "id": "xRctGlaofEs5"
      },
      "execution_count": null,
      "outputs": []
    }
  ]
}