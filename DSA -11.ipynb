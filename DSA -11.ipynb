{
 "cells": [
  {
   "cell_type": "markdown",
   "id": "087c0e1f",
   "metadata": {},
   "source": [
    "### Question 1\n",
    "Given a non-negative integer x, return the square root of x rounded down to the nearest integer. The returned integer should be non-negative as well.\n",
    "You must not use any built-in exponent function or operator.\n",
    "\n",
    "For example, do not use pow(x, 0.5) in c++ or x ** 0.5 in python.\n",
    "Example 1: Input: x = 4 Output: 2 Explanation: The square root of 4 is 2, so we return 2. Example 2: Input: x = 8 Output: 2 Explanation: The square root of 8 is 2.82842..., and since we round it down to the nearest integer, 2 is returned."
   ]
  },
  {
   "cell_type": "code",
   "execution_count": 1,
   "id": "513b5c5b",
   "metadata": {},
   "outputs": [
    {
     "name": "stdout",
     "output_type": "stream",
     "text": [
      "2\n"
     ]
    }
   ],
   "source": [
    "def floorSqrt(x):\n",
    " \n",
    "    # Base cases\n",
    "    if (x == 0 or x == 1):\n",
    "        return x\n",
    " \n",
    "    # Do Binary Search for floor(sqrt(x))\n",
    "    start = 1\n",
    "    end = x//2\n",
    "    while (start <= end):\n",
    "        mid = (start + end) // 2\n",
    " \n",
    "        # If x is a perfect square\n",
    "        if (mid*mid == x):\n",
    "            return mid\n",
    " \n",
    "        # Since we need floor, we update\n",
    "        # answer when mid*mid is smaller\n",
    "        # than x, and move closer to sqrt(x)\n",
    "        if (mid * mid < x):\n",
    "            start = mid + 1\n",
    "            ans = mid\n",
    " \n",
    "        else:\n",
    " \n",
    "            # If mid*mid is greater than x\n",
    "            end = mid-1\n",
    " \n",
    "    return ans\n",
    " \n",
    " \n",
    "# driver code\n",
    "x =4\n",
    "print(floorSqrt(x))\n",
    "#x =8\n",
    "#print(floorSqrt(x))\n",
    "#Ans=2.878~2"
   ]
  },
  {
   "cell_type": "code",
   "execution_count": null,
   "id": "e1f052ba",
   "metadata": {},
   "outputs": [],
   "source": []
  },
  {
   "cell_type": "markdown",
   "id": "1bc7944d",
   "metadata": {},
   "source": [
    "### Question 2\n",
    "A peak element is an element that is strictly greater than its neighbors.\n",
    "\n",
    "Given a **0-indexed** integer array `nums`, find a peak element, and return its index. If the array contains multiple peaks, return the index to **any of the peaks**.\n",
    "\n",
    "You may imagine that `nums[-1] = nums[n] = -∞`. In other words, an element is always considered to be strictly greater than a neighbor that is outside the array.\n",
    "\n",
    "You must write an algorithm that runs in `O(log n)` time."
   ]
  },
  {
   "cell_type": "markdown",
   "id": "6c5a3e5c",
   "metadata": {},
   "source": [
    "Algorithm:\n",
    "\n",
    "1.Initialize two pointers, left and right, where left is set to 0 and right is set to len(nums) - 1.\n",
    "\n",
    "2.Perform a binary search while left < right:\n",
    "\n",
    "a. Calculate the middle index mid as (left + right) // 2.\n",
    "\n",
    "b. Compare nums[mid] with its neighboring elements, nums[mid-1] and nums[mid+1], if they exist.\n",
    "\n",
    "c. If nums[mid] is greater than both of its neighbors, return mid as the peak element index.\n",
    "\n",
    "d. If nums[mid] is less than nums[mid+1], update left = mid + 1.\n",
    "\n",
    "e. If nums[mid] is less than nums[mid-1], update right = mid - 1.\n",
    "\n",
    "3.If the binary search ends without finding a peak element, return left\n"
   ]
  },
  {
   "cell_type": "code",
   "execution_count": 2,
   "id": "079a8cb4",
   "metadata": {},
   "outputs": [],
   "source": [
    "def findPeakElement(nums):\n",
    "    left = 0\n",
    "    right = len(nums) - 1\n",
    "\n",
    "    while left < right:\n",
    "        mid = (left + right) // 2\n",
    "\n",
    "        if nums[mid] > nums[mid+1] and nums[mid] > nums[mid-1]:\n",
    "            return mid\n",
    "        elif nums[mid] < nums[mid+1]:\n",
    "            left = mid + 1\n",
    "        else:\n",
    "            right = mid - 1\n",
    "\n",
    "    return left"
   ]
  },
  {
   "cell_type": "code",
   "execution_count": 3,
   "id": "ddc7e0cd",
   "metadata": {},
   "outputs": [
    {
     "name": "stdout",
     "output_type": "stream",
     "text": [
      "2\n",
      "5\n"
     ]
    }
   ],
   "source": [
    "print(findPeakElement([1, 2, 3, 1]))           \n",
    "print(findPeakElement([1, 2, 1, 3, 5, 6, 4]))  "
   ]
  },
  {
   "cell_type": "code",
   "execution_count": null,
   "id": "b3e993fb",
   "metadata": {},
   "outputs": [],
   "source": []
  },
  {
   "cell_type": "markdown",
   "id": "aacb9586",
   "metadata": {},
   "source": [
    "### Question 3\n",
    "Given an array nums containing n distinct numbers in the range [0, n], return the only number in the range that is missing from the array.\n",
    "\n",
    "Input: nums = [3,0,1]\n",
    "Output: 2\n",
    "Explanation: n = 3 since there are 3 numbers, so all numbers are in the range [0,3]. 2 is the missing number in the range since it does not appear in nums.\n",
    "\n",
    "Input: nums = [0,1]\n",
    "Output: 2\n",
    "Explanation: n = 2 since there are 2 numbers, so all numbers are in the range [0,2]. 2 is the missing number in the range since it does not appear in nums.\n"
   ]
  },
  {
   "cell_type": "code",
   "execution_count": 4,
   "id": "45d09334",
   "metadata": {},
   "outputs": [
    {
     "name": "stdout",
     "output_type": "stream",
     "text": [
      "2\n"
     ]
    }
   ],
   "source": [
    "#3\n",
    "def findMissing(arr, N):\n",
    "   \n",
    "    # create a list of zeroes\n",
    "    temp = [0] * (N+1)\n",
    " \n",
    "    for i in range(0, N):\n",
    "        temp[arr[i] - 1] = 1\n",
    " \n",
    "    for i in range(0, N+1):\n",
    "        if(temp[i] == 0):\n",
    "            ans = i + 1\n",
    " \n",
    "    print(ans)\n",
    " \n",
    "# Driver code\n",
    "if __name__ == '__main__':\n",
    "    arr = [3,0,1]\n",
    "    N = len(arr)\n",
    " \n",
    "    # Function call\n",
    "    findMissing(arr, N)\n",
    " "
   ]
  },
  {
   "cell_type": "code",
   "execution_count": null,
   "id": "ef0dc76d",
   "metadata": {},
   "outputs": [],
   "source": []
  },
  {
   "cell_type": "markdown",
   "id": "550988d0",
   "metadata": {},
   "source": [
    "### Question 4\n",
    "Given an array of integers `nums` containing `n + 1` integers where each integer is in the range `[1, n]` inclusive.\n",
    "\n",
    "There is only **one repeated number** in `nums`, return *this repeated number*.\n",
    "\n",
    "You must solve the problem **without** modifying the array `nums` and uses only constant extra space.\n",
    "\n",
    "Input: nums = [1,3,4,2,2]\n",
    "Output: 2\n",
    "\n",
    "Input: nums = [3,1,3,4,2]\n",
    "Output: 3"
   ]
  },
  {
   "cell_type": "markdown",
   "id": "f254ccd5",
   "metadata": {},
   "source": [
    "### Algorithm\n",
    "\n",
    "1.Start by initializing two pointers, slow and fast, to the first element of nums.\n",
    "\n",
    "2.Move slow one step forward and fast two steps forward in each iteration until they meet.\n",
    "\n",
    "3.Once slow and fast meet, reset fast to the first element of nums.\n",
    "\n",
    "4.Move both slow and fast one step forward in each iteration until they meet again. The point at which they meet is the starting point of the cycle.\n",
    "\n",
    "5.Return the value of either slow or fast as the repeated number."
   ]
  },
  {
   "cell_type": "code",
   "execution_count": 5,
   "id": "bd4e76e4",
   "metadata": {},
   "outputs": [],
   "source": [
    "def findDuplicates(nums):\n",
    "    slowl= nums[0]\n",
    "    fastt= nums[0]\n",
    "\n",
    "    while True:\n",
    "        slowl = nums[slowl]\n",
    "        fastt = nums[nums[fastt]]\n",
    "        if slowl == fastt:\n",
    "            break\n",
    "\n",
    "    fastt = nums[0]\n",
    "\n",
    "    while slowl != fastt:\n",
    "        slowl = nums[slowl]\n",
    "        fastt = nums[fastt]\n",
    "\n",
    "    return slowl\n"
   ]
  },
  {
   "cell_type": "code",
   "execution_count": 6,
   "id": "51598464",
   "metadata": {},
   "outputs": [
    {
     "name": "stdout",
     "output_type": "stream",
     "text": [
      "2\n",
      "3\n"
     ]
    }
   ],
   "source": [
    "print(findDuplicates([1, 3, 4, 2, 2]))  \n",
    "print(findDuplicates([3, 1, 3, 4, 2])) "
   ]
  },
  {
   "cell_type": "code",
   "execution_count": null,
   "id": "5282fe29",
   "metadata": {},
   "outputs": [],
   "source": []
  },
  {
   "cell_type": "markdown",
   "id": "00a373c5",
   "metadata": {},
   "source": [
    "### Question 5\n",
    "Given two integer arrays nums1 and nums2, return an array of their intersection. Each element in the result must be unique and you may return the result in any order.\n",
    "\n",
    "Input: nums1 = [1,2,2,1], nums2 = [2,2]\n",
    "Output: [2]\n",
    "\n",
    "Input: nums1 = [4,9,5], nums2 = [9,4,9,8,4]\n",
    "Output: [9,4]\n",
    "Explanation: [4,9] is also accepted."
   ]
  },
  {
   "cell_type": "markdown",
   "id": "a136ea5d",
   "metadata": {},
   "source": [
    "### Algorithm\n",
    "1.Initialize an empty set, nums1_set, and a result list, intersection, to store the unique elements and the intersection, respectively.\n",
    "\n",
    "2.Iterate through each element num in nums1 and add it to nums1_set.\n",
    "\n",
    "3.Iterate through each element num in nums2:\n",
    "\n",
    "4.If num is present in nums1_set and not already in the intersection list, add it to the intersection list.\n",
    "\n",
    "5.Return the intersection list as the result."
   ]
  },
  {
   "cell_type": "code",
   "execution_count": 7,
   "id": "1c69dcb6",
   "metadata": {},
   "outputs": [],
   "source": [
    "def intersection1(nums1, nums2):\n",
    "    num1_set = set(nums1)\n",
    "    intersection = []\n",
    "\n",
    "    for num in nums2:\n",
    "        if num in num1_set and num not in intersection:\n",
    "            intersection.append(num)\n",
    "\n",
    "    return intersection"
   ]
  },
  {
   "cell_type": "code",
   "execution_count": 8,
   "id": "ad10d09c",
   "metadata": {},
   "outputs": [
    {
     "name": "stdout",
     "output_type": "stream",
     "text": [
      "[2]\n",
      "[9, 4]\n"
     ]
    }
   ],
   "source": [
    "print(intersection1([1, 2, 2, 1], [2, 2]))                      \n",
    "print(intersection1([4, 9, 5], [9, 4, 9, 8, 4]))"
   ]
  },
  {
   "cell_type": "code",
   "execution_count": null,
   "id": "3462371d",
   "metadata": {},
   "outputs": [],
   "source": []
  },
  {
   "cell_type": "markdown",
   "id": "fe4b4a30",
   "metadata": {},
   "source": [
    "### Question 6\n",
    "Suppose an array of length `n` sorted in ascending order is **rotated** between `1` and `n` times. For example, the array `nums = [0,1,2,4,5,6,7]` might become:\n",
    "\n",
    "- `[4,5,6,7,0,1,2]` if it was rotated `4` times.\n",
    "- `[0,1,2,4,5,6,7]` if it was rotated `7` times.\n",
    "\n",
    "Notice that **rotating** an array `[a[0], a[1], a[2], ..., a[n-1]]` 1 time results in the array `[a[n-1], a[0], a[1], a[2], ..., a[n-2]]`.\n",
    "\n",
    "Given the sorted rotated array `nums` of **unique** elements, return *the minimum element of this array*.\n",
    "\n",
    "You must write an algorithm that runs in `O(log n) time.`"
   ]
  },
  {
   "cell_type": "markdown",
   "id": "9ba4e806",
   "metadata": {},
   "source": [
    "### Algorithm\n",
    "1.Initialize two pointers, left and right, where left is set to 0 and right is set to len(nums) - 1.\n",
    "\n",
    "2.Perform a binary search while left < right:\n",
    "\n",
    "a. Calculate the middle index mid as (left + right) // 2.\n",
    "\n",
    "b. Check if nums[mid] is greater than nums[right]. If it is, it means the minimum element lies in the right half of the array, so update left = mid + 1.\n",
    "\n",
    "c. Otherwise, the minimum element lies in the left half of the array or could be the middle element itself, so update right = mid.\n",
    "\n",
    "3.When the binary search ends, the value at nums[left] (or nums[right]) will be the minimum element.\n",
    "\n",
    "4.Return the value at nums[left] (or nums[right]) as the result."
   ]
  },
  {
   "cell_type": "code",
   "execution_count": 9,
   "id": "19d59215",
   "metadata": {},
   "outputs": [],
   "source": [
    "def findMinvalue(nums):\n",
    "    left = 0\n",
    "    right = len(nums) - 1\n",
    "\n",
    "    while left < right:\n",
    "        mid = (left + right) // 2\n",
    "\n",
    "        if nums[mid] > nums[right]:\n",
    "            left = mid + 1\n",
    "        else:\n",
    "            right = mid\n",
    "\n",
    "    return nums[left]"
   ]
  },
  {
   "cell_type": "code",
   "execution_count": 10,
   "id": "da1530a8",
   "metadata": {},
   "outputs": [
    {
     "name": "stdout",
     "output_type": "stream",
     "text": [
      "1\n",
      "0\n",
      "11\n"
     ]
    }
   ],
   "source": [
    "print(findMinvalue([3, 4, 5, 1, 2]))       \n",
    "print(findMinvalue([4, 5, 6, 7, 0, 1, 2]))   \n",
    "print(findMinvalue([11, 13, 15, 17]))"
   ]
  },
  {
   "cell_type": "code",
   "execution_count": null,
   "id": "575a02d5",
   "metadata": {},
   "outputs": [],
   "source": []
  },
  {
   "cell_type": "markdown",
   "id": "f07420a5",
   "metadata": {},
   "source": [
    "### Question 7\n",
    "Given an array of integers nums sorted in non-decreasing order, find the starting and ending position of a given target value.\n",
    "If target is not found in the array, return [-1, -1].\n",
    "\n",
    "You must write an algorithm with O(log n) runtime complexity.\n",
    "\n",
    "Example 1: Input: nums = [5,7,7,8,8,10], target = 8 Output: [3,4] Example 2: Input: nums = [5,7,7,8,8,10], target = 6 Output: [-1,-1] Example 3: Input: nums = [], target = 0 Output: [-1,-1]"
   ]
  },
  {
   "cell_type": "markdown",
   "id": "3b6cada2",
   "metadata": {},
   "source": [
    "### Algorithm\n",
    "1.Initialize two variables, left and right, to store the leftmost and rightmost occurrences of the target, respectively. Set left to the index of the first element in nums and right to the index of the last element in nums.\n",
    "\n",
    "2.Perform the first binary search to find the leftmost occurrence:\n",
    "\n",
    "a. While left < right, calculate the middle index mid as (left + right) // 2.\n",
    "\n",
    "b. If nums[mid] is less than the target, update left = mid + 1.\n",
    "\n",
    "c. If nums[mid] is greater than or equal to the target, update right = mid.\n",
    "\n",
    "3.After the first binary search, the left variable will contain the index of the leftmost occurrence of the target. If nums[left] is not equal to the target, return [-1, -1].\n",
    "\n",
    "4.Reset the right variable to the index of the last element in nums.\n",
    "\n",
    "5.Perform the second binary search to find the rightmost occurrence:\n",
    "\n",
    "a. While left < right, calculate the middle index mid as (left + right + 1) // 2.\n",
    "\n",
    "b. If nums[mid] is greater than the target, update right = mid - 1.\n",
    "\n",
    "c. If nums[mid] is less than or equal to the target, update left = mid.\n",
    "\n",
    "6.After the second binary search, the right variable will contain the index of the rightmost occurrence of the target.\n",
    "\n",
    "7.Return [left, right] as the result."
   ]
  },
  {
   "cell_type": "code",
   "execution_count": 11,
   "id": "630a554f",
   "metadata": {},
   "outputs": [],
   "source": [
    "def searchingRange(nums, target):\n",
    "    if not nums:\n",
    "        return [-1, -1]\n",
    "\n",
    "    left = 0\n",
    "    right = len(nums) - 1\n",
    "\n",
    "    while left < right:\n",
    "        mid = (left + right) // 2\n",
    "\n",
    "        if nums[mid] < target:\n",
    "            left = mid + 1\n",
    "        else:\n",
    "            right = mid\n",
    "\n",
    "    if nums[left] != target:\n",
    "        return [-1, -1]\n",
    "\n",
    "    right = len(nums) - 1\n",
    "\n",
    "    while left < right:\n",
    "        mid = (left + right + 1) // 2\n",
    "\n",
    "        if nums[mid] > target:\n",
    "            right = mid - 1\n",
    "        else:\n",
    "            left = mid\n",
    "\n",
    "    return [left, right]\n"
   ]
  },
  {
   "cell_type": "code",
   "execution_count": 12,
   "id": "8f1df845",
   "metadata": {},
   "outputs": [
    {
     "name": "stdout",
     "output_type": "stream",
     "text": [
      "[4, 4]\n",
      "[-1, -1]\n",
      "[-1, -1]\n"
     ]
    }
   ],
   "source": [
    "print(searchingRange([5, 7, 7, 8, 8, 10], 8))   \n",
    "print(searchingRange([5, 7, 7, 8, 8, 10], 6))   \n",
    "print(searchingRange([], 0))  "
   ]
  },
  {
   "cell_type": "code",
   "execution_count": null,
   "id": "ac445f6b",
   "metadata": {},
   "outputs": [],
   "source": []
  },
  {
   "cell_type": "markdown",
   "id": "69e691ad",
   "metadata": {},
   "source": [
    "### Question 8\n",
    "Given two integer arrays nums1 and nums2, return an array of their intersection. Each element in the result must appear as many times as it shows in both arrays and you may return the result in any order.\n",
    "\n",
    "Example 1: Input: nums1 = [1,2,2,1], nums2 = [2,2] Output: [2,2] Example 2: Input: nums1 = [4,9,5], nums2 = [9,4,9,8,4] Output: [4,9] Explanation: [9,4] is also accepted."
   ]
  },
  {
   "cell_type": "markdown",
   "id": "a28d712f",
   "metadata": {},
   "source": [
    "### Algorithm\n",
    "1.Initialize an empty hash map freq_map to store the frequency of elements in nums1.\n",
    "\n",
    "2.Iterate through each element num in nums1 and update its frequency in freq_map. If num is not present in freq_map, set its frequency to 1. Otherwise, increment its frequency by 1.\n",
    "\n",
    "3.Initialize an empty list result to store the intersection elements.\n",
    "\n",
    "4.Iterate through each element num in nums2:\n",
    "\n",
    "a. If num is present in freq_map and its frequency is greater than 0, append it to result and decrement its frequency in freq_map.\n",
    "\n",
    "5.Return result as the output."
   ]
  },
  {
   "cell_type": "code",
   "execution_count": 13,
   "id": "c58699ac",
   "metadata": {},
   "outputs": [],
   "source": [
    "from collections import defaultdict\n",
    "\n",
    "def intersects(nums1, nums2):\n",
    "    freq_map = defaultdict(int)\n",
    "\n",
    "    for num in nums1:\n",
    "        freq_map[num] += 1\n",
    "\n",
    "    result = []\n",
    "\n",
    "    for num in nums2:\n",
    "        if freq_map[num] > 0:\n",
    "            result.append(num)\n",
    "            freq_map[num] -= 1\n",
    "\n",
    "    return result"
   ]
  },
  {
   "cell_type": "code",
   "execution_count": 14,
   "id": "ad36f1cc",
   "metadata": {},
   "outputs": [
    {
     "name": "stdout",
     "output_type": "stream",
     "text": [
      "[2, 2]\n",
      "[9, 4]\n"
     ]
    }
   ],
   "source": [
    "print(intersects([1, 2, 2, 1], [2, 2]))            \n",
    "print(intersects([4, 9, 5], [9, 4, 9, 8, 4])) "
   ]
  },
  {
   "cell_type": "code",
   "execution_count": null,
   "id": "f09ca3be",
   "metadata": {},
   "outputs": [],
   "source": []
  }
 ],
 "metadata": {
  "kernelspec": {
   "display_name": "Python 3 (ipykernel)",
   "language": "python",
   "name": "python3"
  },
  "language_info": {
   "codemirror_mode": {
    "name": "ipython",
    "version": 3
   },
   "file_extension": ".py",
   "mimetype": "text/x-python",
   "name": "python",
   "nbconvert_exporter": "python",
   "pygments_lexer": "ipython3",
   "version": "3.9.12"
  }
 },
 "nbformat": 4,
 "nbformat_minor": 5
}
