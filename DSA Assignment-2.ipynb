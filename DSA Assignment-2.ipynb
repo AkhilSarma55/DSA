{
 "cells": [
  {
   "cell_type": "markdown",
   "id": "81488234",
   "metadata": {},
   "source": [
    "\n",
    "### Question 1\n",
    "    \n",
    "Given an integer array nums of 2n integers, group these integers into n pairs (a1, b1), (a2, b2),..., (an, bn) such that the sum of min(ai, bi) for all i is maximized. Return the maximized sum.\n",
    "\n",
    "**Example 1:**\n",
    "Input: nums = [1,4,3,2]\n",
    "Output: 4\n",
    "\n",
    "**Explanation:** All possible pairings (ignoring the ordering of elements) are:\n",
    "\n",
    "1. (1, 4), (2, 3) -> min(1, 4) + min(2, 3) = 1 + 2 = 3\n",
    "2. (1, 3), (2, 4) -> min(1, 3) + min(2, 4) = 1 + 2 = 3\n",
    "3. (1, 2), (3, 4) -> min(1, 2) + min(3, 4) = 1 + 3 = 4\n",
    "So the maximum possible sum is 4\n",
    "</aside>"
   ]
  },
  {
   "cell_type": "markdown",
   "id": "02b8d266",
   "metadata": {},
   "source": [
    "### Constraints:\n",
    "1.1 <= n <= 104\n",
    "\n",
    "2.nums.length == 2 * n\n",
    "\n",
    "3.-104 <= nums[i] <= 104"
   ]
  },
  {
   "cell_type": "code",
   "execution_count": 1,
   "id": "71d7f011",
   "metadata": {},
   "outputs": [],
   "source": [
    "#1.\n",
    "from typing import List\n",
    "class Solution:\n",
    "    def arrayPairSum(self, nums: List[int]) -> int:\n",
    "        nums.sort()\n",
    "        r=0\n",
    "        for i in range(0,len(nums),2):\n",
    "            r+=min(nums[i],nums[i+1])\n",
    "        return(r)"
   ]
  },
  {
   "cell_type": "code",
   "execution_count": 2,
   "id": "24dc8744",
   "metadata": {},
   "outputs": [],
   "source": [
    "class Solution:\n",
    "    def arrayPairSum(self, nums):\n",
    "        \"\"\"\n",
    "        :type nums: List[int]\n",
    "        :rtype: int\n",
    "        \"\"\"\n",
    "\n",
    "        # approach: sort list, take smaller ones and sum them up\n",
    "\n",
    "        nums.sort()\n",
    "        return sum(nums[::2])"
   ]
  },
  {
   "cell_type": "markdown",
   "id": "aa9dec9a",
   "metadata": {},
   "source": [
    "### Question 2\n",
    "Alice has n candies, where the ith candy is of type candyType[i]. Alice noticed that she started to gain weight, so she visited a doctor. \n",
    "\n",
    "The doctor advised Alice to only eat n / 2 of the candies she has (n is always even). Alice likes her candies very much, and she wants to eat the maximum number of different types of candies while still following the doctor's advice. \n",
    "\n",
    "Given the integer array candyType of length n, return the maximum number of different types of candies she can eat if she only eats n / 2 of them.\n",
    "\n",
    "### Example 1:\n",
    "Input: candyType = [1,1,2,2,3,3]\n",
    "Output: 3\n",
    "\n",
    "### Explanation: \n",
    "Alice can only eat 6 / 2 = 3 candies. Since there are only 3 types, she can eat one of each type"
   ]
  },
  {
   "cell_type": "markdown",
   "id": "2d4a48d1",
   "metadata": {},
   "source": [
    "### Constraints:\n",
    "1. n == candyType.length\n",
    "2.1 <= n <= 10^4\n",
    "3.n is even.\n",
    "4.-10^5 <= candyType[i] <= 10^5"
   ]
  },
  {
   "cell_type": "code",
   "execution_count": 3,
   "id": "f57a44e8",
   "metadata": {},
   "outputs": [],
   "source": [
    "#2\n",
    "class Solution:\n",
    "    def distributeCandies(self, C: List[int]) -> int:\n",
    "        return min(len(set(C)), len(C) // 2)"
   ]
  },
  {
   "cell_type": "markdown",
   "id": "e862dc58",
   "metadata": {},
   "source": [
    "### Question 3\n",
    "\n",
    "- We define a harmonious array as an array where the difference between its maximum value\n",
    "and its minimum value is exactly 1.\n",
    "\n",
    "Given an integer array nums, return the length of its longest harmonious subsequence\n",
    "among all its possible subsequences.\n",
    "\n",
    "A subsequence of an array is a sequence that can be derived from the array by deleting some or no elements without changing the order of the remaining elements.\n",
    "\n",
    "### Example 1:\n",
    "\n",
    "Input: nums = [1,3,2,2,5,2,3,7]\n",
    "Output: 5\n",
    "\n",
    "### Explanation:\n",
    "The longest harmonious subsequence is [3,2,2,2,3]."
   ]
  },
  {
   "cell_type": "code",
   "execution_count": 4,
   "id": "eb3facd5",
   "metadata": {},
   "outputs": [],
   "source": [
    "import collections\n",
    "\n",
    "class Solution(object):\n",
    "    def findLHS(self, nums):\n",
    "        \"\"\"\n",
    "        :type nums: List[int]\n",
    "        :rtype: int\n",
    "        \"\"\"\n",
    "        lookup = collections.defaultdict(int)\n",
    "        result = 0\n",
    "        for num in nums:\n",
    "            lookup[num] += 1\n",
    "            for diff in [-1, 1]:\n",
    "                if (num + diff) in lookup:\n",
    "                    result = max(result, lookup[num] + lookup[num + diff])\n",
    "        return result"
   ]
  },
  {
   "cell_type": "code",
   "execution_count": 5,
   "id": "fda91d68",
   "metadata": {},
   "outputs": [],
   "source": [
    "class Solution(object):\n",
    "    def findLHS(self, nums):\n",
    "        \"\"\"\n",
    "        :type nums: List[int]\n",
    "        :rtype: int\n",
    "        \"\"\"\n",
    "        numsLen, result = len(nums), 0\n",
    "        counts = {}\n",
    "        for val in nums:\n",
    "            if val in counts:\n",
    "                counts[val] += 1\n",
    "            else:\n",
    "                counts[val] = 1\n",
    "            inc = val + 1\n",
    "            dec = val - 1\n",
    "            if dec in counts:\n",
    "                result = max(result, counts[val] + counts[dec])\n",
    "            if inc in counts:\n",
    "                result = max(result, counts[val] + counts[inc])\n",
    "        return result"
   ]
  },
  {
   "cell_type": "markdown",
   "id": "29bcf7dc",
   "metadata": {},
   "source": [
    "### Question 4:\n",
    "\n",
    "You have a long flowerbed in which some of the plots are planted, and some are not.\n",
    "However, flowers cannot be planted in adjacent plots.\n",
    "Given an integer array flowerbed containing 0's and 1's, where 0 means empty and 1 means not empty, and an integer n, return true if n new flowers can be planted in the flowerbed without violating the no-adjacent-flowers rule and false otherwise.\n",
    "\n",
    "### Example 1:\n",
    "Input: flowerbed = [1,0,0,0,1], n = 1\n",
    "Output:true"
   ]
  },
  {
   "cell_type": "code",
   "execution_count": 6,
   "id": "665a131e",
   "metadata": {},
   "outputs": [],
   "source": [
    "\n",
    "def canPlaceFlowers(self, flowerbed:List[int], n: int) -> bool:\n",
    "    if n ==0: return True\n",
    "    flowerbed = [0] + flowerbed + [0]\n",
    "    size = len(flowerbed)\n",
    "    for i in range(1, size-1):\n",
    "        if flowerbed[i]:\n",
    "            continue\n",
    "        elif flowerbed[i - 1] == flowerbed[i + 1] == 0:\n",
    "            n-=1\n",
    "            flowerbed[i] = 1\n",
    "            if n == 0:return True\n",
    "    return False"
   ]
  },
  {
   "cell_type": "markdown",
   "id": "85a659c1",
   "metadata": {},
   "source": [
    "### Question 5\n",
    "Given an integer array nums, find three numbers whose product is maximum and return the maximum product.\n",
    "\n",
    "### Example 1:\n",
    "Input: nums = [1,2,3]\n",
    "Output: 6"
   ]
  },
  {
   "cell_type": "code",
   "execution_count": 7,
   "id": "ad89a16c",
   "metadata": {},
   "outputs": [],
   "source": [
    "#5.\n",
    "def maxProduct(nums):\n",
    "    if len(nums) == 0:\n",
    "        return 0\n",
    " \n",
    "    result = nums[0]\n",
    " \n",
    "    for i in range(len(nums)):\n",
    "        accu = 1\n",
    "        for j in range(i, len(nums)):\n",
    "            accu *= nums[j]\n",
    "            result = max(result, accu)\n",
    " \n",
    "    return result\n",
    "#1.Time Complexity: O(N^2), where N is total size of the array\n",
    "\n",
    "#2.Space Complexity: O(1), as no extra space is used"
   ]
  },
  {
   "cell_type": "markdown",
   "id": "26de3158",
   "metadata": {},
   "source": [
    "### Question 6\n",
    "Given an array of integers nums which is sorted in ascending order, and an integer target,\n",
    "write a function to search target in nums. If target exists, then return its index. Otherwise,\n",
    "return -1.\n",
    "\n",
    "You must write an algorithm with O(log n) runtime complexity.\n",
    "\n",
    "Input: nums = [-1,0,3,5,9,12], target = 9\n",
    "Output: 4\n",
    "\n",
    "### Explanation: 9 exists in nums and its index is 4"
   ]
  },
  {
   "cell_type": "code",
   "execution_count": 8,
   "id": "73324acd",
   "metadata": {},
   "outputs": [
    {
     "data": {
      "text/plain": [
       "4"
      ]
     },
     "execution_count": 8,
     "metadata": {},
     "output_type": "execute_result"
    }
   ],
   "source": [
    "#6\n",
    "def targetFinder(nums,target):\n",
    "    if target in nums:\n",
    "        return nums.index(target)\n",
    "    else:\n",
    "        return -1\n",
    "targetFinder([-1,0,3,5,9,12],9)\n",
    "#Explanation: 9 exists in nums and its index is 4\n"
   ]
  },
  {
   "cell_type": "markdown",
   "id": "dc9a3673",
   "metadata": {},
   "source": [
    "### Question 7\n",
    "An array is monotonic if it is either monotone increasing or monotone decreasing.\n",
    "\n",
    "An array nums is monotone increasing if for all i <= j, nums[i] <= nums[j]. An array nums is\n",
    "monotone decreasing if for all i <= j, nums[i] >= nums[j].\n",
    "\n",
    "Given an integer array nums, return true if the given array is monotonic, or false otherwise.\n",
    "\n",
    "### Example 1:\n",
    "Input: nums = [1,2,2,3]\n",
    "\n",
    "Output: true"
   ]
  },
  {
   "cell_type": "code",
   "execution_count": 9,
   "id": "fd206cf5",
   "metadata": {},
   "outputs": [
    {
     "name": "stdout",
     "output_type": "stream",
     "text": [
      "True\n"
     ]
    }
   ],
   "source": [
    "# 7.Check if given array is Monotonic\n",
    "def isMonotonic(A):\n",
    "    x, y = [], []\n",
    "    x.extend(A)\n",
    "    y.extend(A)\n",
    "    x.sort()\n",
    "    y.sort(reverse=True)\n",
    "    if(x == A or y == A):\n",
    "        return True\n",
    "    return False\n",
    " \n",
    " \n",
    "# Driver program\n",
    "A = [1,2,2,3]\n",
    " \n",
    "# Print required result\n",
    "print(isMonotonic(A))"
   ]
  },
  {
   "cell_type": "markdown",
   "id": "7a96dca3",
   "metadata": {},
   "source": [
    "### Question 8\n",
    "You are given an integer array nums and an integer k.\n",
    "\n",
    "In one operation, you can choose any index i where 0 <= i < nums.length and change nums[i] to nums[i] + x where x is an integer from the range [-k, k]. You can apply this operation at most once for each index i.\n",
    "\n",
    "The score of nums is the difference between the maximum and minimum elements in nums.\n",
    "\n",
    "Return the minimum score of nums after applying the mentioned operation at most once for each index in it.\n",
    "\n",
    "### Example 1:\n",
    "Input: nums = [1], k = 0\n",
    "Output: 0\n",
    "\n",
    "Explanation: The score is max(nums) - min(nums) = 1 - 1 = 0."
   ]
  },
  {
   "cell_type": "code",
   "execution_count": 10,
   "id": "b54a8e3e",
   "metadata": {},
   "outputs": [],
   "source": [
    "class Solution:\n",
    "    def minMaxGame(self, nums: List[int]) -> int:\n",
    "        n = len(nums)\n",
    "        \n",
    "        while n > 1:\n",
    "            new_nums = []\n",
    "            for i in range(n // 2):\n",
    "                # Update for even index\n",
    "                if i % 2 == 0:\n",
    "                    new_nums.append(min(nums[2 * i], nums[2 * i + 1]))\n",
    "                # Update for odd index\n",
    "                else:\n",
    "                    new_nums.append(max(nums[2 * i], nums[2 * i + 1]))\n",
    "                    \n",
    "            nums = new_nums[:]\n",
    "            n = len(nums)\n",
    "        \n",
    "        return nums[-1]"
   ]
  }
 ],
 "metadata": {
  "kernelspec": {
   "display_name": "Python 3 (ipykernel)",
   "language": "python",
   "name": "python3"
  },
  "language_info": {
   "codemirror_mode": {
    "name": "ipython",
    "version": 3
   },
   "file_extension": ".py",
   "mimetype": "text/x-python",
   "name": "python",
   "nbconvert_exporter": "python",
   "pygments_lexer": "ipython3",
   "version": "3.9.12"
  }
 },
 "nbformat": 4,
 "nbformat_minor": 5
}
