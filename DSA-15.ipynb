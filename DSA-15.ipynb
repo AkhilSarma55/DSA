{
 "cells": [
  {
   "cell_type": "markdown",
   "id": "e7ce9832",
   "metadata": {},
   "source": [
    "### Question 1\n",
    "Given an array arr[ ] of size N having elements, the task is to find the next greater element for each element of the array in order of their appearance in the array.Next greater element of an element in the array is the nearest element on the right which is greater than the current element.If there does not exist next greater of current element, then next greater element for current element is -1.\n",
    "For example, next greater of the last element is always -1.\n",
    "\n",
    "### Example 1:\n",
    "\n",
    "Input: N = 4, arr[] = [1 3 2 4] Output: 3 4 4 -1 Explanation: In the array, the next larger element to 1 is 3 , 3 is 4 , 2 is 4 and for 4 ? since it doesn't exist, it is -1.\n",
    "\n",
    "### Example 2:\n",
    "\n",
    "Input: N = 5, arr[] [6 8 0 1 3] Output: 8 -1 1 3 -1 Explanation: In the array, the next larger element to 6 is 8, for 8 there is no larger elements hence it is -1, for 0 it is 1 , for 1 it is 3 and then for 3 there is no larger element on right and hence -1."
   ]
  },
  {
   "cell_type": "markdown",
   "id": "7a6c28ac",
   "metadata": {},
   "source": [
    "### Algorithm\n",
    "1.Create an empty stack and initialize the result array with -1.\n",
    "\n",
    "2.Traverse the array from right to left.\n",
    "\n",
    "3.For each element, pop elements from the stack until the stack is empty or the top element is greater than the current element.\n",
    "\n",
    "4.If the stack is not empty, the top element is the next greater element for the current element.\n",
    "\n",
    "5.Update the result array with the next greater element.\n",
    "\n",
    "6.Push the current element onto the stack.\n",
    "\n",
    "7.Repeat steps 2-6 for all elements in the array.\n",
    "\n",
    "8.The result array will contain the next greater element for each element in the original order."
   ]
  },
  {
   "cell_type": "code",
   "execution_count": 1,
   "id": "5b72803d",
   "metadata": {},
   "outputs": [],
   "source": [
    "def nextGreatElements(arr):\n",
    "    n = len(arr)\n",
    "    stacks = []\n",
    "    result = [-1] * n\n",
    "\n",
    "    for i in range(n - 1, -1, -1):\n",
    "        while stacks and stacks[-1] <= arr[i]:\n",
    "            stacks.pop()\n",
    "\n",
    "        if stacks:\n",
    "            result[i] = stacks[-1]\n",
    "\n",
    "        stacks.append(arr[i])\n",
    "\n",
    "    return result"
   ]
  },
  {
   "cell_type": "code",
   "execution_count": 2,
   "id": "4d8ba6af",
   "metadata": {},
   "outputs": [
    {
     "name": "stdout",
     "output_type": "stream",
     "text": [
      "[3, 4, 4, -1]\n"
     ]
    }
   ],
   "source": [
    "arr = [1, 3, 2, 4]\n",
    "result = nextGreatElements(arr)\n",
    "print(result) "
   ]
  },
  {
   "cell_type": "code",
   "execution_count": 3,
   "id": "0100fd9d",
   "metadata": {},
   "outputs": [
    {
     "name": "stdout",
     "output_type": "stream",
     "text": [
      "[8, -1, 1, 3, -1]\n"
     ]
    }
   ],
   "source": [
    "arr = [6, 8, 0, 1, 3]\n",
    "result = nextGreatElements(arr)\n",
    "print(result) "
   ]
  },
  {
   "cell_type": "code",
   "execution_count": null,
   "id": "e207c48f",
   "metadata": {},
   "outputs": [],
   "source": []
  },
  {
   "cell_type": "markdown",
   "id": "260349bd",
   "metadata": {},
   "source": [
    "### Question 2\n",
    "Given an array a of integers of length n, find the nearest smaller number for every element such that the smaller element is on left side.If no small element present on the left print -1.\n",
    "### Example 1:\n",
    "\n",
    "Input: n = 3 a = {1, 6, 2} Output: -1 1 1 Explaination: There is no number at the left of 1. Smaller number than 6 and 2 is 1.\n",
    "\n",
    "### Example 2:\n",
    "Input: n = 6 a = {1, 5, 0, 3, 4, 5} Output: -1 1 -1 0 3 4 Explaination: Upto 3 it is easy to see the smaller numbers. But for 4 the smaller numbers are 1, 0 and 3. But among them 3 is closest. Similary for 5 it is 4."
   ]
  },
  {
   "cell_type": "markdown",
   "id": "b22f81b5",
   "metadata": {},
   "source": [
    "### Algorithm\n",
    "1.Create an empty stack and initialize the result array with -1.\n",
    "\n",
    "2.Traverse the array from left to right.\n",
    "\n",
    "3.For each element, pop elements from the stack until the stack is empty or the top element is smaller than the current element.\n",
    "\n",
    "4.If the stack is not empty, the top element is the nearest smaller number on the left for the current element.\n",
    "\n",
    "5.Update the result array with the nearest smaller number.\n",
    "\n",
    "6.Push the current element onto the stack.\n",
    "\n",
    "7.Repeat steps 2-6 for all elements in the array.\n",
    "\n",
    "8.The result array will contain the nearest smaller number on the left for each element."
   ]
  },
  {
   "cell_type": "code",
   "execution_count": 4,
   "id": "222ebeb0",
   "metadata": {},
   "outputs": [],
   "source": [
    "def nearestSmallNumbers(n, a):\n",
    "    stacks = []\n",
    "    result = [-1] * n\n",
    "\n",
    "    for i in range(n):\n",
    "        while stacks and stacks[-1] >= a[i]:\n",
    "            stacks.pop()\n",
    "\n",
    "        if stacks:\n",
    "            result[i] = stacks[-1]\n",
    "\n",
    "        stacks.append(a[i])\n",
    "\n",
    "    return result"
   ]
  },
  {
   "cell_type": "code",
   "execution_count": 5,
   "id": "381bad58",
   "metadata": {},
   "outputs": [
    {
     "name": "stdout",
     "output_type": "stream",
     "text": [
      "[-1, 1, 1]\n"
     ]
    }
   ],
   "source": [
    "n = 3\n",
    "a = [1, 6, 2]\n",
    "result = nearestSmallNumbers(n, a)\n",
    "print(result)  "
   ]
  },
  {
   "cell_type": "code",
   "execution_count": 6,
   "id": "a57e61f4",
   "metadata": {},
   "outputs": [
    {
     "name": "stdout",
     "output_type": "stream",
     "text": [
      "[-1, 1, -1, 0, 3, 4]\n"
     ]
    }
   ],
   "source": [
    "n = 6\n",
    "a = [1, 5, 0, 3, 4, 5]\n",
    "result = nearestSmallNumbers(n, a)\n",
    "print(result) "
   ]
  },
  {
   "cell_type": "code",
   "execution_count": null,
   "id": "74fe7876",
   "metadata": {},
   "outputs": [],
   "source": []
  },
  {
   "cell_type": "markdown",
   "id": "80c43d36",
   "metadata": {},
   "source": [
    "### Question 3\n",
    "Implement a Stack using two queues q1 and q2.\n",
    "### Example 1:\n",
    "\n",
    "Input: push(2) push(3) pop() push(4) pop() Output:3 4 Explanation: push(2) the stack will be {2} push(3) the stack will be {2 3} pop() poped element will be 3 the   stack will be {2} push(4) the stack will be {2 4} pop()   poped element will be 4\n",
    "\n",
    "### Example 2:\n",
    "\n",
    "Input: push(2) pop() pop() push(3) Output:2 -1"
   ]
  },
  {
   "cell_type": "markdown",
   "id": "5ec99458",
   "metadata": {},
   "source": [
    "### Algorithm\n",
    "1.Create an empty queue q1 and an empty queue q2.\n",
    "\n",
    "2.For the push operation:\n",
    "\n",
    "3.Add the new element to q2.\n",
    "\n",
    "4.If q1 is not empty, remove all elements from q1 and add them to q2.\n",
    "\n",
    "5.Swap the names of q1 and q2, so that q2 becomes the empty queue and q1 contains all the elements in the stack.\n",
    "\n",
    "6.For the pop operation:\n",
    "\n",
    "7.If q1 is empty, return -1 to indicate an empty stack.\n",
    "\n",
    "8.Remove and return the front element from q1."
   ]
  },
  {
   "cell_type": "code",
   "execution_count": 7,
   "id": "c543e86e",
   "metadata": {},
   "outputs": [],
   "source": [
    "class Stacks:\n",
    "    def __init__(self):\n",
    "        self.q1 = []\n",
    "        self.q2 = []\n",
    "\n",
    "    def push(self, value):\n",
    "        self.q2.append(value)\n",
    "        while self.q1:\n",
    "            self.q2.append(self.q1.pop(0))\n",
    "        self.q1, self.q2 = self.q2, self.q1\n",
    "\n",
    "    def pop(self):\n",
    "        if not self.q1:\n",
    "            return -1\n",
    "        return self.q1.pop(0)"
   ]
  },
  {
   "cell_type": "code",
   "execution_count": 8,
   "id": "f2732a53",
   "metadata": {},
   "outputs": [
    {
     "name": "stdout",
     "output_type": "stream",
     "text": [
      "3\n",
      "4\n"
     ]
    }
   ],
   "source": [
    "stack = Stacks()\n",
    "stack.push(2)\n",
    "stack.push(3)\n",
    "print(stack.pop())\n",
    "stack.push(4)\n",
    "print(stack.pop())"
   ]
  },
  {
   "cell_type": "code",
   "execution_count": 9,
   "id": "195dcab1",
   "metadata": {},
   "outputs": [
    {
     "name": "stdout",
     "output_type": "stream",
     "text": [
      "2\n",
      "-1\n",
      "3\n"
     ]
    }
   ],
   "source": [
    "stack = Stacks()\n",
    "stack.push(2)\n",
    "print(stack.pop())  \n",
    "print(stack.pop())   #empty stack\n",
    "stack.push(3)\n",
    "print(stack.pop())  "
   ]
  },
  {
   "cell_type": "code",
   "execution_count": null,
   "id": "39442730",
   "metadata": {},
   "outputs": [],
   "source": []
  },
  {
   "cell_type": "markdown",
   "id": "c7c55927",
   "metadata": {},
   "source": [
    "### Question 4\n",
    "You are given a stack St. You have to reverse the stack using recursion.\n",
    "### Example 1:\n",
    "\n",
    "Input:St = {3,2,1,7,6} Output:{6,7,1,2,3}\n",
    "\n",
    "### Example 2:\n",
    "\n",
    "Input:St = {4,3,9,6} Output:{6,9,3,4}"
   ]
  },
  {
   "cell_type": "markdown",
   "id": "9a50a05b",
   "metadata": {},
   "source": [
    "### Algorithm\n",
    "1.Define a recursive function reverseStack that takes a stack St as input.\n",
    "\n",
    "2.Base case: If the stack St is empty or contains only one element, return.\n",
    "\n",
    "3.Recursive case:\n",
    "\n",
    "4.Pop the top element from the stack St and store it in a variable top.\n",
    "\n",
    "5.Recursively call the reverseStack function on the remaining stack St.\n",
    "\n",
    "6.After the recursive call, insert the element top at the bottom of the stack St.\n",
    "\n",
    "7.If the stack is empty, push top onto the stack.\n",
    "\n",
    "8.If the stack is not empty, pop the top element and recursively insert it at the bottom of the stack.\n",
    "\n",
    "9.After the recursion ends, the stack St will be reversed."
   ]
  },
  {
   "cell_type": "code",
   "execution_count": 10,
   "id": "51a33a4e",
   "metadata": {},
   "outputs": [],
   "source": [
    "def reverseStacks(Stack):\n",
    "    if len(Stack) <= 1:\n",
    "        return\n",
    "    \n",
    "    top = Stack.pop()\n",
    "    reverseStacks(Stack)\n",
    "    insertAtBottom(Stack, top)\n",
    "\n",
    "def insertAtBottom(Stack, item):\n",
    "    if len(Stack) == 0:\n",
    "        Stack.append(item)\n",
    "        return\n",
    "    \n",
    "    top = Stack.pop()\n",
    "    insertAtBottom(Stack, item)\n",
    "    Stack.append(top)"
   ]
  },
  {
   "cell_type": "code",
   "execution_count": 11,
   "id": "0e83e5fd",
   "metadata": {},
   "outputs": [
    {
     "name": "stdout",
     "output_type": "stream",
     "text": [
      "[6, 7, 1, 2, 3]\n"
     ]
    }
   ],
   "source": [
    "Stack = [3, 2, 1, 7, 6]\n",
    "reverseStacks(Stack)\n",
    "print(Stack)  "
   ]
  },
  {
   "cell_type": "code",
   "execution_count": 12,
   "id": "9e23958d",
   "metadata": {},
   "outputs": [
    {
     "name": "stdout",
     "output_type": "stream",
     "text": [
      "[6, 9, 3, 4]\n"
     ]
    }
   ],
   "source": [
    "Stack = [4, 3, 9, 6]\n",
    "reverseStacks(Stack)\n",
    "print(Stack)"
   ]
  },
  {
   "cell_type": "code",
   "execution_count": null,
   "id": "ff9d6315",
   "metadata": {},
   "outputs": [],
   "source": []
  },
  {
   "cell_type": "markdown",
   "id": "da54c204",
   "metadata": {},
   "source": [
    "### Question 5\n",
    "You are given a string S, the task is to reverse the string using stack.\n",
    "###  Example 1:\n",
    "\n",
    "Input: S=\"GeeksforGeeks\" Output: skeeGrofskeeG"
   ]
  },
  {
   "cell_type": "markdown",
   "id": "04289e89",
   "metadata": {},
   "source": [
    "### Algorithm\n",
    "1.Create an empty stack.\n",
    "\n",
    "2.Iterate through each character in the string S.\n",
    "\n",
    "3.Push each character onto the stack.\n",
    "\n",
    "4.Create an empty string reversedStr.\n",
    "\n",
    "5.Pop each character from the stack and append it to reversedStr.\n",
    "\n",
    "6.reversedStr will be the reversed string of S"
   ]
  },
  {
   "cell_type": "code",
   "execution_count": 13,
   "id": "65fbd373",
   "metadata": {},
   "outputs": [],
   "source": [
    "def reverseStrings(S):\n",
    "    stacks = []\n",
    "    for char in S:\n",
    "        stacks.append(char)\n",
    "    \n",
    "    reversedStr = \"\"\n",
    "    while stacks:\n",
    "        reversedStr += stacks.pop()\n",
    "    \n",
    "    return reversedStr"
   ]
  },
  {
   "cell_type": "code",
   "execution_count": 14,
   "id": "f04db6e8",
   "metadata": {},
   "outputs": [
    {
     "name": "stdout",
     "output_type": "stream",
     "text": [
      "skeeGrofskeeG\n"
     ]
    }
   ],
   "source": [
    "S = \"GeeksforGeeks\"\n",
    "reversedStr = reverseStrings(S)\n",
    "print(reversedStr) "
   ]
  },
  {
   "cell_type": "code",
   "execution_count": null,
   "id": "905b451c",
   "metadata": {},
   "outputs": [],
   "source": []
  },
  {
   "cell_type": "markdown",
   "id": "4da0cadb",
   "metadata": {},
   "source": [
    "### Question 6\n",
    "Given string S representing a postfix expression, the task is to evaluate the expression and find the final value. Operators will only include the basic arithmetic operators like *, /, + and -.\n",
    "### Example 1:\n",
    "\n",
    "Input: S = \"231*+9-\" Output: -4 Explanation: After solving the given expression, we have -4 as result.\n",
    "\n",
    "### Example 2:\n",
    "\n",
    "Input: S = \"123+*8-\" Output: -3 Explanation: After solving the given postfix expression, we have -3 as result."
   ]
  },
  {
   "cell_type": "markdown",
   "id": "aa931814",
   "metadata": {},
   "source": [
    "### Algorithm\n",
    "1.Create an empty stack.\n",
    "\n",
    "2.Iterate through each character in the string S.\n",
    "\n",
    "3.If the character is a digit, push it onto the stack.\n",
    "\n",
    "4.If the character is an operator, pop the top two elements from the stack and perform the operation. Push the result back onto the stack.\n",
    "\n",
    "5.After iterating through all the characters, the final result will be the top element of the stack."
   ]
  },
  {
   "cell_type": "code",
   "execution_count": 15,
   "id": "5e6ebd6e",
   "metadata": {},
   "outputs": [
    {
     "name": "stdout",
     "output_type": "stream",
     "text": [
      "-4\n"
     ]
    }
   ],
   "source": [
    "\n",
    "def evaluatePostfix(S):\n",
    "    stacks = []\n",
    "    operators = set(['+', '-', '*', '/'])\n",
    "\n",
    "    for char in S:\n",
    "        if char.isdigit():\n",
    "            stacks.append(int(char))\n",
    "        elif char in operators:\n",
    "            operand2 = stacks.pop()\n",
    "            operand1 = stacks.pop()\n",
    "            result = performOperation(operand1, operand2, char)\n",
    "            stacks.append(result)\n",
    "    \n",
    "    return stacks.pop()\n",
    "\n",
    "def performOperation(operand1, operand2, operator):\n",
    "    if operator == '+':\n",
    "        return operand1 + operand2\n",
    "    elif operator == '-':\n",
    "        return operand1 - operand2\n",
    "    elif operator == '*':\n",
    "        return operand1 * operand2\n",
    "    elif operator == '/':\n",
    "        return operand1 / operand2\n",
    "\n",
    "S = \"231*+9-\"\n",
    "result = evaluatePostfix(S)\n",
    "print(result) "
   ]
  },
  {
   "cell_type": "code",
   "execution_count": null,
   "id": "5b525254",
   "metadata": {},
   "outputs": [],
   "source": []
  },
  {
   "cell_type": "markdown",
   "id": "acc6c4f1",
   "metadata": {},
   "source": [
    "### Question 7\n",
    "Design a stack that supports push, pop, top, and retrieving the minimum element in constant time.\n",
    "Implement the MinStack class:\n",
    "\n",
    "- MinStack() initializes the stack object.\n",
    "- void push(int val) pushes the element val onto the stack.\n",
    "- void pop() removes the element on the top of the stack.\n",
    "- int top() gets the top element of the stack.\n",
    "- int getMin() retrieves the minimum element in the stack.\n",
    "- You must implement a solution with O(1) time complexity for each function.\n",
    "\n",
    "### Example 1:\n",
    "\n",
    "Input [\"MinStack\",\"push\",\"push\",\"push\",\"getMin\",\"pop\",\"top\",\"getMin\"] [[],[-2],[0],[-3],[],[],[],[]]\n",
    "\n",
    "Output [null,null,null,null,-3,null,0,-2]\n",
    "\n",
    "Explanation MinStack minStack = new MinStack(); minStack.push(-2); minStack.push(0); minStack.push(-3); minStack.getMin(); // return -3 minStack.pop(); minStack.top(); // return 0 minStack.getMin(); // return -2"
   ]
  },
  {
   "cell_type": "markdown",
   "id": "61337a75",
   "metadata": {},
   "source": [
    "### Algorithm\n",
    "1.Initialize two stacks: stack to store the elements and min_stack to keep track of the minimum element at each step.\n",
    "\n",
    "2.Implement the push(val) method: Append the val to the stack. If min_stack is empty or the val is less than or equal to the top element of min_stack, append the val to min_stack.\n",
    "\n",
    "3.Implement the pop() method: If stack is not empty, remove the top element from stack. If the removed element is equal to the top element of min_stack, remove the top element from min_stack.\n",
    "\n",
    "4.Implement the top() method: If stack is not empty, return the top element of stack.\n",
    "\n",
    "5.Implement the getMin() method: If min_stack is not empty, return the top element of min_stack."
   ]
  },
  {
   "cell_type": "code",
   "execution_count": 16,
   "id": "0a23e984",
   "metadata": {},
   "outputs": [
    {
     "name": "stdout",
     "output_type": "stream",
     "text": [
      "-3\n",
      "0\n",
      "-2\n"
     ]
    }
   ],
   "source": [
    "class MinStacks:\n",
    "    def __init__(self):\n",
    "        self.stack = []\n",
    "        self.min_stack = []\n",
    "\n",
    "    def push(self, val):\n",
    "        self.stack.append(val)\n",
    "        if not self.min_stack or val <= self.min_stack[-1]:\n",
    "            self.min_stack.append(val)\n",
    "\n",
    "    def pop(self):\n",
    "        if self.stack:\n",
    "            val = self.stack.pop()\n",
    "            if val == self.min_stack[-1]:\n",
    "                self.min_stack.pop()\n",
    "\n",
    "    def top(self):\n",
    "        if self.stack:\n",
    "            return self.stack[-1]\n",
    "\n",
    "    def getMin(self):\n",
    "        if self.min_stack:\n",
    "            return self.min_stack[-1]\n",
    "\n",
    "minStack = MinStacks()\n",
    "minStack.push(-2)\n",
    "minStack.push(0)\n",
    "minStack.push(-3)\n",
    "print(minStack.getMin()) \n",
    "minStack.pop()\n",
    "print(minStack.top())     \n",
    "print(minStack.getMin()) "
   ]
  },
  {
   "cell_type": "code",
   "execution_count": null,
   "id": "e69c66cf",
   "metadata": {},
   "outputs": [],
   "source": []
  },
  {
   "cell_type": "markdown",
   "id": "1d7a4fa3",
   "metadata": {},
   "source": [
    "### Question 8\n",
    "Given n non-negative integers representing an elevation map where the width of each bar is 1, compute how much water it can trap after raining.\n",
    "### Example 1:\n",
    "\n",
    "Input: height = [0,1,0,2,1,0,1,3,2,1,2,1] Output: 6 Explanation: The above elevation map (black section) is represented by array [0,1,0,2,1,0,1,3,2,1,2,1]. In this case, 6 units of rain water (blue section) are being trapped.\n",
    "\n",
    "### Example 2:\n",
    "\n",
    "Input: height = [4,2,0,3,2,5] Output: 9"
   ]
  },
  {
   "cell_type": "markdown",
   "id": "56dbada1",
   "metadata": {},
   "source": [
    "### Algorithm\n",
    "1.Initialize two pointers, left and right, at the beginning and end of the elevation map, respectively.\n",
    "\n",
    "2.Initialize two variables, left_max and right_max, to keep track of the maximum elevation encountered from the left and right side, respectively. Set both variables to 0.\n",
    "\n",
    "3.Initialize a variable water to store the total amount of trapped water, initially set to 0.\n",
    "\n",
    "4.Iterate while left is less than or equal to right:\n",
    "\n",
    "5.If height[left] is less than or equal to height[right]: If height[left] is greater than left_max, update left_max with height[left]. Otherwise, calculate the amount of water that can be trapped at the current position left and add it to water. The trapped water is left_max - height[left]. Increment left by 1.\n",
    "\n",
    "6.Otherwise, do the same steps as above, but for the right side: If height[right] is greater than right_max, update right_max with height[right]. Otherwise, calculate the amount of water that can be trapped at the current position right and add it to water. The trapped water is right_max - height[right]. Decrement right by 1.\n",
    "\n",
    "7.Return the total amount of trapped water stored in the water variable."
   ]
  },
  {
   "cell_type": "code",
   "execution_count": 17,
   "id": "d41d0c6a",
   "metadata": {},
   "outputs": [],
   "source": [
    "def trap(height):\n",
    "    left = 0\n",
    "    right = len(height) - 1\n",
    "    left_max = 0\n",
    "    right_max = 0\n",
    "    water = 0\n",
    "    \n",
    "    while left <= right:\n",
    "        if height[left] <= height[right]:\n",
    "            if height[left] > left_max:\n",
    "                left_max = height[left]\n",
    "            else:\n",
    "                water += left_max - height[left]\n",
    "            left += 1\n",
    "        else:\n",
    "            if height[right] > right_max:\n",
    "                right_max = height[right]\n",
    "            else:\n",
    "                water += right_max - height[right]\n",
    "            right -= 1\n",
    "    \n",
    "    return water"
   ]
  },
  {
   "cell_type": "code",
   "execution_count": 18,
   "id": "7faa68ff",
   "metadata": {},
   "outputs": [
    {
     "name": "stdout",
     "output_type": "stream",
     "text": [
      "6\n",
      "9\n"
     ]
    }
   ],
   "source": [
    "height = [0, 1, 0, 2, 1, 0, 1, 3, 2, 1, 2, 1]\n",
    "print(trap(height)) \n",
    "\n",
    "height = [4, 2, 0, 3, 2, 5]\n",
    "print(trap(height))"
   ]
  },
  {
   "cell_type": "code",
   "execution_count": null,
   "id": "27dbc996",
   "metadata": {},
   "outputs": [],
   "source": []
  }
 ],
 "metadata": {
  "kernelspec": {
   "display_name": "Python 3 (ipykernel)",
   "language": "python",
   "name": "python3"
  },
  "language_info": {
   "codemirror_mode": {
    "name": "ipython",
    "version": 3
   },
   "file_extension": ".py",
   "mimetype": "text/x-python",
   "name": "python",
   "nbconvert_exporter": "python",
   "pygments_lexer": "ipython3",
   "version": "3.9.12"
  }
 },
 "nbformat": 4,
 "nbformat_minor": 5
}
