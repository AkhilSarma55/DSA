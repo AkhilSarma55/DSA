{
  "nbformat": 4,
  "nbformat_minor": 0,
  "metadata": {
    "colab": {
      "provenance": []
    },
    "kernelspec": {
      "name": "python3",
      "display_name": "Python 3"
    },
    "language_info": {
      "name": "python"
    }
  },
  "cells": [
    {
      "cell_type": "markdown",
      "source": [
        "### Question 1\n",
        "\n",
        "Given a binary tree, your task is to find subtree with maximum sum in tree.\n",
        "Examples:\n",
        "\n",
        "Input1 :\n",
        "\n",
        "   1\n",
        "\n",
        " /   \\\n",
        "\n",
        "2      3\n",
        "\n",
        "/ \\    / \\\n",
        "\n",
        "4   5  6   7\n",
        "\n",
        "Output1 : 28\n",
        "\n",
        "As all the tree elements are positive, the largest subtree sum is equal to sum of all tree elements.\n",
        "\n",
        "Input2 :\n",
        "\n",
        "1\n",
        "\n",
        " /    \\\n",
        "\n",
        "-2      3\n",
        "\n",
        "/ \\    /  \\\n",
        "\n",
        "4   5  -6   2\n",
        "\n",
        "Output2 : 7\n",
        "\n",
        "Subtree with largest sum is :\n",
        "\n",
        "-2\n",
        "\n",
        "/ \\\n",
        "\n",
        "4   5\n",
        "\n",
        "Also, entire tree sum is also 7.\n",
        "\n"
      ],
      "metadata": {
        "id": "fSePV159-764"
      }
    },
    {
      "cell_type": "markdown",
      "source": [
        "### Algorithm\n",
        "\n",
        "Define a recursive function subtreeSum(node) that takes a node as input and returns the sum of the subtree rooted at that node.\n",
        "\n",
        "Inside the subtreeSum function:\n",
        "\n",
        "If the node is None, return 0.\n",
        "\n",
        "Recursively calculate the sum of the left subtree by calling subtreeSum(node.left).\n",
        "\n",
        "Recursively calculate the sum of the right subtree by calling subtreeSum(node.right).\n",
        "\n",
        "Calculate the sum of the current subtree as the sum of the node's value, the sum of the left subtree, and the sum of the right subtree.\n",
        "\n",
        "Update a variable max_sum to keep track of the maximum sum encountered so far.\n",
        "\n",
        "Update max_sum if the current subtree sum is larger.\n",
        "\n",
        "Return the sum of the current subtree to be used by the parent node.\n",
        "\n",
        "Initialize max_sum as negative infinity.\n",
        "\n",
        "Call the subtreeSum function with the root of the binary tree.\n",
        "\n",
        "Return the value of max_sum as the maximum sum of a subtree in the binary tree."
      ],
      "metadata": {
        "id": "o0pH0p3q-_xG"
      }
    },
    {
      "cell_type": "code",
      "source": [
        "class TreeNodes:\n",
        "    def __init__(self, value=0, left=None, right=None):\n",
        "        self.value = value\n",
        "        self.left = left\n",
        "        self.right = right\n",
        "\n",
        "def maxSubtreeSum(root):\n",
        "    def subtreeSum(node):\n",
        "        nonlocal maximum_sum\n",
        "\n",
        "        if node is None:\n",
        "            return 0\n",
        "\n",
        "        left_sum = subtreeSum(node.left)\n",
        "        right_sum = subtreeSum(node.right)\n",
        "\n",
        "        # Calculate the sum of the subtree rooted at the current node\n",
        "        current_sum = node.value + left_sum + right_sum\n",
        "\n",
        "        # Update the maximum sum if the current subtree has a larger sum\n",
        "        maximum_sum = max(maximum_sum, current_sum)\n",
        "\n",
        "        # Return the sum of the current subtree to be used by the parent node\n",
        "        return current_sum\n",
        "\n",
        "    maximum_sum = float('-inf') #initializes the variable max_sum with a value of negative infinity.\n",
        "    subtreeSum(root)\n",
        "    return maximum_sum"
      ],
      "metadata": {
        "id": "xz4-rFFl_Kcb"
      },
      "execution_count": 1,
      "outputs": []
    },
    {
      "cell_type": "code",
      "source": [
        "# Create the first tree\n",
        "root = TreeNodes(1)\n",
        "root.left = TreeNodes(2)\n",
        "root.right = TreeNodes(3)\n",
        "root.left.left = TreeNodes(4)\n",
        "root.left.right = TreeNodes(5)\n",
        "root.right.left = TreeNodes(6)\n",
        "root.right.right = TreeNodes(7)\n",
        "\n",
        "# Calculate the subtree with the maximum sum\n",
        "maximum_sum = maxSubtreeSum(root)\n",
        "print(maximum_sum)"
      ],
      "metadata": {
        "id": "DTvW3Tts_lyx",
        "outputId": "6114a875-e536-4416-a3af-a301a4f09b89",
        "colab": {
          "base_uri": "https://localhost:8080/"
        }
      },
      "execution_count": 2,
      "outputs": [
        {
          "output_type": "stream",
          "name": "stdout",
          "text": [
            "28\n"
          ]
        }
      ]
    },
    {
      "cell_type": "code",
      "source": [],
      "metadata": {
        "id": "l_ICXueTAD_I"
      },
      "execution_count": 2,
      "outputs": []
    },
    {
      "cell_type": "markdown",
      "source": [
        "### Question-2\n",
        "Construct the BST (Binary Search Tree) from its given level order traversal.\n",
        "Example:\n",
        "\n",
        "Input: arr[] = {7, 4, 12, 3, 6, 8, 1, 5, 10}\n",
        "\n",
        "Output: BST:\n",
        "\n",
        "        7\n",
        "\n",
        "     /    \\\n",
        "\n",
        "   4     12\n",
        "\n",
        " /  \\     /\n",
        "\n",
        "3   6  8\n",
        "\n",
        "/   /   \\\n",
        "\n",
        "1  5   10"
      ],
      "metadata": {
        "id": "IZ4u174eAEUw"
      }
    },
    {
      "cell_type": "markdown",
      "source": [
        "### Algorithm\n",
        "\n",
        "Create an empty root node.\n",
        "\n",
        "Initialize an empty queue.\n",
        "\n",
        "Initialize the root node with the first element of the level order traversal array.\n",
        "\n",
        "Enqueue the root node into the queue.\n",
        "\n",
        "Iterate through the remaining elements of the level order traversal array from index 1:\n",
        "\n",
        "Create a new node with the current element as its value.\n",
        "\n",
        "Dequeue a node from the queue and assign it as the parent node.\n",
        "\n",
        "If the left child of the parent node is empty, assign the new node as the left child.\n",
        "\n",
        "Otherwise, assign the new node as the right child.\n",
        "\n",
        "Enqueue the new node into the queue.\n",
        "\n",
        "Return the root node of the constructed BST."
      ],
      "metadata": {
        "id": "h289_TVJAxpb"
      }
    },
    {
      "cell_type": "markdown",
      "source": [],
      "metadata": {
        "id": "8_LxmSbgAJym"
      }
    },
    {
      "cell_type": "code",
      "source": [
        "import math\n",
        "\n",
        "# Node of a BST\n",
        "\n",
        "\n",
        "class Node:\n",
        "    def __init__(self, Data):\n",
        "        self.Data = Data\n",
        "        self.left = None\n",
        "        self.right = None\n",
        "\n",
        "\n",
        "# Function to get a new node\n",
        "def getNode(data):\n",
        "\n",
        "    # Allocate memory\n",
        "    newNode = Node(data)\n",
        "\n",
        "    # put in the data\n",
        "    newNode.data = data\n",
        "    newNode.left = None\n",
        "    newNode.right = None\n",
        "    return newNode\n",
        "\n",
        "\n",
        "# Function to construct a BST from\n",
        "# its level order traversal\n",
        "def LevelOrder(root, data):\n",
        "    if(root == None):\n",
        "        root = getNode(data)\n",
        "        return root\n",
        "\n",
        "    if(data <= root.data):\n",
        "        root.left = LevelOrder(root.left, data)\n",
        "    else:\n",
        "        root.right = LevelOrder(root.right, data)\n",
        "    return root\n",
        "\n",
        "\n",
        "def constructBst(array, nn):\n",
        "    if(nn == 0):\n",
        "        return None\n",
        "    root = None\n",
        "\n",
        "    for i in range(0, nn):\n",
        "        root = LevelOrder(root, array[i])\n",
        "\n",
        "    return root\n",
        "\n",
        "\n",
        "# Function to print the inorder traversal\n",
        "def inorderTraversal(root):\n",
        "    if (root == None):\n",
        "        return None\n",
        "\n",
        "    inorderTraversal(root.left)\n",
        "    print(root.data, end=\" \")\n",
        "    inorderTraversal(root.right)\n",
        "\n",
        "\n",
        "# Driver program\n",
        "if __name__ == '__main__':\n",
        "\n",
        "    array = [7, 4, 12, 3, 6, 8, 1, 5, 10]\n",
        "    nN = len(array)\n",
        "\n",
        "    root = constructBst(array, nN)\n",
        "\n",
        "    print(\"Inorder Traversal: \", end=\"\")\n",
        "    root = inorderTraversal(root)\n",
        ""
      ],
      "metadata": {
        "id": "8Xk327CXDkc-",
        "outputId": "adf0d9a7-cdcf-4ee8-cb7b-af65015a473a",
        "colab": {
          "base_uri": "https://localhost:8080/"
        }
      },
      "execution_count": 4,
      "outputs": [
        {
          "output_type": "stream",
          "name": "stdout",
          "text": [
            "Inorder Traversal: 1 3 4 5 6 7 8 10 12 "
          ]
        }
      ]
    },
    {
      "cell_type": "code",
      "source": [],
      "metadata": {
        "id": "rTOirHUgEU9E"
      },
      "execution_count": null,
      "outputs": []
    },
    {
      "cell_type": "markdown",
      "source": [
        "### Question-3\n",
        "\n",
        "Given an array of size n. The problem is to check whether the given array can represent the level order traversal of a Binary Search Tree or not.\n",
        "Examples:\n",
        "\n",
        "Input1 : arr[] = {7, 4, 12, 3, 6, 8, 1, 5, 10}\n",
        "\n",
        "Output1 : Yes\n",
        "\n",
        "For the given arr[], the Binary Search Tree is:\n",
        "\n",
        "        7\n",
        "\n",
        "     /    \\\n",
        "\n",
        "   4     12\n",
        "\n",
        " /  \\     /\n",
        "\n",
        "3   6  8\n",
        "\n",
        "/   /   \\\n",
        "\n",
        "1  5   10\n",
        "\n",
        "Input2 : arr[] = {11, 6, 13, 5, 12, 10}\n",
        "\n",
        "Output2 : No\n",
        "\n",
        "The given arr[] does not represent the level order traversal of a BST."
      ],
      "metadata": {
        "id": "YApublItEVWA"
      }
    },
    {
      "cell_type": "code",
      "source": [
        "def representsBSTLevelOrder(array):\n",
        "    stacks= []\n",
        "    roots= float('-inf')\n",
        "    i = 0\n",
        "\n",
        "    for i in range(1, len(array)):\n",
        "        if array[i] < roots:\n",
        "            return False\n",
        "\n",
        "        while len(stacks) > 0 and array[i] > stacks[-1]:\n",
        "            roots = stacks.pop()\n",
        "\n",
        "        stacks.append(array[i])\n",
        "\n",
        "    return True"
      ],
      "metadata": {
        "id": "3pKXNFSuEgPs"
      },
      "execution_count": 5,
      "outputs": []
    },
    {
      "cell_type": "code",
      "source": [
        "array2 = [11, 6, 13, 5, 12, 10]\n",
        "print( representsBSTLevelOrder(array2))"
      ],
      "metadata": {
        "id": "tHtOCsQmE6hN",
        "outputId": "8dd2b1cf-edc1-41b0-ebcb-d5820ee65c72",
        "colab": {
          "base_uri": "https://localhost:8080/"
        }
      },
      "execution_count": 6,
      "outputs": [
        {
          "output_type": "stream",
          "name": "stdout",
          "text": [
            "False\n"
          ]
        }
      ]
    }
  ]
}