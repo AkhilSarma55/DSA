{
 "cells": [
  {
   "cell_type": "markdown",
   "id": "b30cfa28",
   "metadata": {},
   "source": [
    "### Question 1\n",
    "A permutation perm of n + 1 integers of all the integers in the range [0, n] can be represented as a string s of length n where:\n",
    "\n",
    "- s[i] == 'I' if perm[i] < perm[i + 1], and\n",
    "- s[i] == 'D' if perm[i] > perm[i + 1].\n",
    "\n",
    "Given a string s, reconstruct the permutation perm and return it. If there are multiple valid permutations perm, return **any of them**.\n",
    "\n",
    "**Example 1:**\n",
    "\n",
    "**Input:** s = \"IDID\"\n",
    "\n",
    "**Output:**\n",
    "\n",
    "[0,4,1,3,2]"
   ]
  },
  {
   "cell_type": "code",
   "execution_count": 2,
   "id": "62f26a8e",
   "metadata": {},
   "outputs": [],
   "source": [
    "#1\n",
    "from typing import List\n",
    "class Solution:\n",
    "    def diStringMatch(self, S: str) -> List[int]:\n",
    "        mini=0\n",
    "        maxi=len(S)\n",
    "        l=[]\n",
    "        \n",
    "        for i in S:\n",
    "            if i==\"I\":\n",
    "                l.append(mini)\n",
    "                mini+=1\n",
    "            else:\n",
    "                l.append(maxi)\n",
    "                maxi-=1\n",
    "        return l+[maxi]"
   ]
  },
  {
   "cell_type": "code",
   "execution_count": null,
   "id": "6f7e222f",
   "metadata": {},
   "outputs": [],
   "source": []
  },
  {
   "cell_type": "markdown",
   "id": "db0f869d",
   "metadata": {},
   "source": [
    "### Question 2\n",
    "You are given an m x n integer matrix matrix with the following two properties:\n",
    "\n",
    "- Each row is sorted in non-decreasing order.\n",
    "- The first integer of each row is greater than the last integer of the previous row.\n",
    "\n",
    "Given an integer target, return true *if* target *is in* matrix *or* false *otherwise*.\n",
    "\n",
    "You must write a solution in O(log(m * n)) time complexity.\n",
    "\n",
    "**Input:** matrix = [[1,3,5,7],[10,11,16,20],[23,30,34,60]], target = 3\n",
    "\n",
    "**Output:** true"
   ]
  },
  {
   "cell_type": "code",
   "execution_count": 3,
   "id": "b5bebe42",
   "metadata": {},
   "outputs": [],
   "source": [
    "#2\n",
    "class Solution:\n",
    "    def searchMatrix(self, matrix: List[List[int]], target: int) -> bool:\n",
    "        m, n = len(matrix), len(matrix[0])\n",
    "        left, right = 0, m * n - 1\n",
    "        while left < right:\n",
    "            mid = (left + right) >> 1\n",
    "            x, y = divmod(mid, n)\n",
    "            if matrix[x][y] >= target:\n",
    "                right = mid\n",
    "            else:\n",
    "                left = mid + 1\n",
    "        return matrix[left // n][left % n] == target"
   ]
  },
  {
   "cell_type": "code",
   "execution_count": 4,
   "id": "a7786a72",
   "metadata": {},
   "outputs": [],
   "source": [
    "class Solution:\n",
    "    def searchMatrix(self, matrix: List[List[int]], target: int) -> bool:\n",
    "        m, n = len(matrix), len(matrix[0])\n",
    "        i, j = m - 1, 0\n",
    "        while i >= 0 and j < n:\n",
    "            if matrix[i][j] == target:\n",
    "                return True\n",
    "            if matrix[i][j] > target:\n",
    "                i -= 1\n",
    "            else:\n",
    "                j += 1\n",
    "        return False"
   ]
  },
  {
   "cell_type": "code",
   "execution_count": null,
   "id": "8352fb3e",
   "metadata": {},
   "outputs": [],
   "source": []
  },
  {
   "cell_type": "markdown",
   "id": "b24f83f7",
   "metadata": {},
   "source": [
    "### Question 3\n",
    "Given an array of integers arr, return *true if and only if it is a valid mountain array*.\n",
    "\n",
    "Recall that arr is a mountain array if and only if:\n",
    "\n",
    "- arr.length >= 3\n",
    "- There exists some i with 0 < i < arr.length - 1 such that:\n",
    "    - arr[0] < arr[1] < ... < arr[i - 1] < arr[i]\n",
    "    - arr[i] > arr[i + 1] > ... > arr[arr.length - 1]\n",
    "    \n",
    "**Example 1:**\n",
    "\n",
    "**Input:** arr = [2,1]\n",
    "\n",
    "**Output:**\n",
    "\n",
    "false"
   ]
  },
  {
   "cell_type": "code",
   "execution_count": 6,
   "id": "7cc5d793",
   "metadata": {},
   "outputs": [],
   "source": [
    "#3\n",
    "def validMountainArray(arr: List[int]) -> bool:\n",
    "    n = len(arr)\n",
    "        \n",
    "    if n < 3:\n",
    "        return False\n",
    "        \n",
    "    i, j = 0, n - 1\n",
    "        \n",
    "    while i + 1 < n and arr[i] < arr[i + 1]:\n",
    "        i += 1\n",
    "        \n",
    "    while j > 0 and arr[j] < arr[j - 1]:\n",
    "        j -= 1\n",
    "        \n",
    "    return i == j and 0 < i and j < n - 1"
   ]
  },
  {
   "cell_type": "code",
   "execution_count": null,
   "id": "1d4d2791",
   "metadata": {},
   "outputs": [],
   "source": []
  },
  {
   "cell_type": "markdown",
   "id": "1eb8b243",
   "metadata": {},
   "source": [
    "### Question 4\n",
    "Given a binary array nums, return *the maximum length of a contiguous subarray with an equal number of* 0 *and* 1.\n",
    "\n",
    "**Example 1:**\n",
    "\n",
    "**Input:** nums = [0,1]\n",
    "\n",
    "**Output:** 2\n",
    "\n",
    "**Explanation:**\n",
    "\n",
    "[0, 1] is the longest contiguous subarray with an equal number of 0 and 1."
   ]
  },
  {
   "cell_type": "code",
   "execution_count": 7,
   "id": "1945b204",
   "metadata": {},
   "outputs": [],
   "source": [
    "#4\n",
    "def findMaxLength(nums):\n",
    "    maxlen = 0\n",
    "    for start in range(0, len(nums)):\n",
    "        zeroes = 0\n",
    "        ones = 0\n",
    "        for end in range(start, len(nums)):\n",
    "            if nums[end] == 0:\n",
    "                zeroes += 1\n",
    "            else:\n",
    "                ones += 1\n",
    " \n",
    "            if zeroes == ones:\n",
    "                maxlen = max(maxlen, end - start + 1)\n",
    " \n",
    "    return maxlen"
   ]
  },
  {
   "cell_type": "code",
   "execution_count": null,
   "id": "128c212f",
   "metadata": {},
   "outputs": [],
   "source": []
  },
  {
   "cell_type": "markdown",
   "id": "931dbadd",
   "metadata": {},
   "source": [
    "### Question 5\n",
    "The **product sum** of two equal-length arrays a and b is equal to the sum of a[i] * b[i] for all 0 <= i < a.length (**0-indexed**).\n",
    "\n",
    "- For example, if a = [1,2,3,4] and b = [5,2,3,1], the **product sum** would be 1*5 + 2*2 + 3*3 + 4*1 = 22.\n",
    "\n",
    "Given two arrays nums1 and nums2 of length n, return *the **minimum product sum** if you are allowed to **rearrange** the **order** of the elements in* nums1.\n",
    "\n",
    "**Example 1:**\n",
    "\n",
    "**Input:** nums1 = [5,3,4,2], nums2 = [4,2,2,5]\n",
    "\n",
    "**Output:** 40\n",
    "\n",
    "**Explanation:**\n",
    "\n",
    "We can rearrange nums1 to become [3,5,4,2]. The product sum of [3,5,4,2] and [4,2,2,5] is 3*4 + 5*2 + 4*2 + 2*5 = 40."
   ]
  },
  {
   "cell_type": "code",
   "execution_count": 8,
   "id": "233b3042",
   "metadata": {},
   "outputs": [],
   "source": [
    "#5\n",
    "class Solution:\n",
    "    def minProductSum(self, nums1: List[int], nums2: List[int]) -> int:\n",
    "        nums1.sort()\n",
    "        nums2.sort()\n",
    "        n, res = len(nums1), 0\n",
    "        for i in range(n):\n",
    "            res += nums1[i] * nums2[n - i - 1]\n",
    "        return res"
   ]
  },
  {
   "cell_type": "code",
   "execution_count": null,
   "id": "a8398e30",
   "metadata": {},
   "outputs": [],
   "source": []
  },
  {
   "cell_type": "markdown",
   "id": "e0e8633b",
   "metadata": {},
   "source": [
    "### Question 6\n",
    "An integer array original is transformed into a **doubled** array changed by appending **twice the value** of every element in original, and then randomly **shuffling** the resulting array.\n",
    "\n",
    "Given an array changed, return original *if* changed *is a **doubled** array. If* changed *is not a **doubled** array, return an empty array. The elements in* original *may be returned in **any** order*.\n",
    "\n",
    "**Example 1:**\n",
    "\n",
    "**Input:** changed = [1,3,4,2,6,8]\n",
    "\n",
    "**Output:** [1,3,4]\n",
    "\n",
    "**Explanation:** One possible original array could be [1,3,4]:\n",
    "\n",
    "- Twice the value of 1 is 1 * 2 = 2.\n",
    "- Twice the value of 3 is 3 * 2 = 6.\n",
    "- Twice the value of 4 is 4 * 2 = 8.\n",
    "\n",
    "Other original arrays could be [4,3,1] or [3,1,4]."
   ]
  },
  {
   "cell_type": "code",
   "execution_count": 11,
   "id": "442ced8d",
   "metadata": {},
   "outputs": [],
   "source": [
    "class Solution:\n",
    "  def findOriginalArray(self, changed: List[int]) -> List[int]:\n",
    "    ans = []\n",
    "    q = collections.deque()\n",
    "\n",
    "    for num in sorted(changed):\n",
    "      if q and num == q[0]:\n",
    "        q.popleft()\n",
    "      else:\n",
    "        q.append(num * 2)\n",
    "        ans.append(num)\n",
    "\n",
    "    return [] if q else ans"
   ]
  },
  {
   "cell_type": "code",
   "execution_count": null,
   "id": "a90812cb",
   "metadata": {},
   "outputs": [],
   "source": []
  },
  {
   "cell_type": "markdown",
   "id": "c3c970ae",
   "metadata": {},
   "source": [
    "### Question 7\n",
    "Given a positive integer n, generate an n x n matrix filled with elements from 1 to n2 in spiral order.\n",
    "\n",
    "**Input:** n = 3\n",
    "\n",
    "**Output:** [[1,2,3],[8,9,4],[7,6,5]]"
   ]
  },
  {
   "cell_type": "code",
   "execution_count": 9,
   "id": "3b524fbb",
   "metadata": {},
   "outputs": [],
   "source": [
    "#7\n",
    "def generateMatrix(n):\n",
    "    if n <= 0:\n",
    "        return []\n",
    "    result = [[None for i in range(n)] for j in range(n)]\n",
    "    xBeg,xEnd = 0,n-1\n",
    "    yBeg,yEnd = 0,n-1\n",
    "    current = 1\n",
    "    while (True):\n",
    "        for i in range(yBeg,yEnd+1):\n",
    "            result[xBeg][i] = current\n",
    "            current += 1\n",
    "        xBeg += 1\n",
    "        if (xBeg > xEnd):\n",
    "            break\n",
    "        for i in range(xBeg,xEnd+1):\n",
    "            result[i][yEnd] = current\n",
    "            current += 1\n",
    "        yEnd -= 1\n",
    "        if (yEnd < yBeg):\n",
    "            break\n",
    "        for i in range(yEnd,yBeg-1,-1):\n",
    "            result[xEnd][i] = current\n",
    "            current += 1\n",
    "        xEnd -= 1\n",
    "        if (xEnd < xBeg):\n",
    "            break\n",
    "        for i in range(xEnd,xBeg-1,-1):\n",
    "            result[i][yBeg] = current\n",
    "            current += 1\n",
    "        yBeg += 1\n",
    "        if (yBeg > yEnd):\n",
    "            break\n",
    "    return result"
   ]
  },
  {
   "cell_type": "code",
   "execution_count": null,
   "id": "d342db94",
   "metadata": {},
   "outputs": [],
   "source": []
  },
  {
   "cell_type": "markdown",
   "id": "96bf2e0a",
   "metadata": {},
   "source": [
    "### Question 8\n",
    "Given two sparse matrices mat1 of size m x k and mat2 of size k x n, return the result of mat1 x mat2. You may assume that multiplication is always possible.\n",
    "\n",
    "**Input:** mat1 = [[1,0,0],[-1,0,3]], mat2 = [[7,0,0],[0,0,0],[0,0,1]]\n",
    "\n",
    "**Output:**\n",
    "\n",
    "[[7,0,0],[-7,0,3]]"
   ]
  },
  {
   "cell_type": "code",
   "execution_count": 10,
   "id": "7cc1f5da",
   "metadata": {},
   "outputs": [],
   "source": [
    "class Solution:\n",
    "    def multiply(self, mat1: List[List[int]], mat2: List[List[int]]) -> List[List[int]]:\n",
    "        r1, c1, c2 = len(mat1), len(mat1[0]), len(mat2[0])\n",
    "        res = [[0] * c2 for _ in range(r1)]\n",
    "        for i in range(r1):\n",
    "            for j in range(c2):\n",
    "                for k in range(c1):\n",
    "                    res[i][j] += mat1[i][k] * mat2[k][j]\n",
    "        return res"
   ]
  },
  {
   "cell_type": "code",
   "execution_count": null,
   "id": "1f4a8db6",
   "metadata": {},
   "outputs": [],
   "source": []
  }
 ],
 "metadata": {
  "kernelspec": {
   "display_name": "Python 3 (ipykernel)",
   "language": "python",
   "name": "python3"
  },
  "language_info": {
   "codemirror_mode": {
    "name": "ipython",
    "version": 3
   },
   "file_extension": ".py",
   "mimetype": "text/x-python",
   "name": "python",
   "nbconvert_exporter": "python",
   "pygments_lexer": "ipython3",
   "version": "3.10.9"
  }
 },
 "nbformat": 4,
 "nbformat_minor": 5
}
