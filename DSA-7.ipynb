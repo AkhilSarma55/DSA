{
 "cells": [
  {
   "cell_type": "markdown",
   "id": "b509ef19",
   "metadata": {},
   "source": [
    "### Question1\n",
    "Given two strings s and t, *determine if they are isomorphic*.\n",
    "\n",
    "Two strings s and t are isomorphic if the characters in s can be replaced to get t.\n",
    "\n",
    "All occurrences of a character must be replaced with another character while preserving the order of characters. No two characters may map to the same character, but a character may map to itself.\n",
    "\n",
    "**Example 1:**\n",
    "\n",
    "**Input:** s = \"egg\", t = \"add\"\n",
    "\n",
    "**Output:** true"
   ]
  },
  {
   "cell_type": "code",
   "execution_count": 1,
   "id": "bf7429bb",
   "metadata": {},
   "outputs": [
    {
     "name": "stdout",
     "output_type": "stream",
     "text": [
      "True\n"
     ]
    }
   ],
   "source": [
    "def isisomorphic(str1, str2):\n",
    "    if len(str1) != len(str2):\n",
    "        return False\n",
    "    else:\n",
    "        map1, map2 = {}, {}\n",
    "        for i in range(len(str1)):\n",
    "            ch1, ch2 = str1[i], str2[i]\n",
    "            if ch1 not in map1:\n",
    "                map1[ch1] = ch2\n",
    "            if ch2 not in map2:\n",
    "                map2[ch2] = ch1\n",
    "            if map1[ch1] != ch2 or map2[ch2] != ch1:\n",
    "                return False\n",
    "    return True\n",
    "\n",
    "\n",
    "str1 = \"egg\"\n",
    "str2 = \"add\"\n",
    "print(isisomorphic(str1, str2))"
   ]
  },
  {
   "cell_type": "code",
   "execution_count": null,
   "id": "3d8f6864",
   "metadata": {},
   "outputs": [],
   "source": []
  },
  {
   "cell_type": "markdown",
   "id": "5205a804",
   "metadata": {},
   "source": [
    "### Question2\n",
    "Given a string num which represents an integer, return true *if* num *is a **strobogrammatic number***.\n",
    "\n",
    "A **strobogrammatic number** is a number that looks the same when rotated 180 degrees (looked at upside down).\n",
    "\n",
    "**Example 1:**\n",
    "\n",
    "**Input:** num = \"69\"\n",
    "\n",
    "**Output:**\n",
    "\n",
    "true"
   ]
  },
  {
   "cell_type": "code",
   "execution_count": 2,
   "id": "edee8f87",
   "metadata": {},
   "outputs": [],
   "source": [
    "class Solution(object):\n",
    "    def isStrobogrammatic(self, num):\n",
    "      \n",
    "        maps = {(\"0\", \"0\"), (\"1\", \"1\"), (\"6\", \"9\"), (\"8\", \"8\"), (\"9\", \"6\")}\n",
    "        i,j = 0, len(num) - 1\n",
    "        while i <= j:\n",
    "            if (num[i], num[j]) not in maps:\n",
    "                return False\n",
    "            i += 1\n",
    "            j -= 1\n",
    "        return True"
   ]
  },
  {
   "cell_type": "code",
   "execution_count": null,
   "id": "4b669803",
   "metadata": {},
   "outputs": [],
   "source": []
  },
  {
   "cell_type": "markdown",
   "id": "a0b83b26",
   "metadata": {},
   "source": [
    "### Question3\n",
    "Given two non-negative integers, num1 and num2 represented as string, return *the sum of* num1 *and* num2 *as a string*.\n",
    "\n",
    "You must solve the problem without using any built-in library for handling large integers (such as BigInteger). You must also not convert the inputs to integers directly.\n",
    "\n",
    "**Example 1:**\n",
    "\n",
    "**Input:** num1 = \"11\", num2 = \"123\"\n",
    "\n",
    "**Output:**\n",
    "\n",
    "\"134\""
   ]
  },
  {
   "cell_type": "code",
   "execution_count": 3,
   "id": "cff1b07c",
   "metadata": {},
   "outputs": [],
   "source": [
    "#3\n",
    "class Solution:\n",
    "    def addStrings(self, num1: str, num2: str) -> str:\n",
    "        i, j = len(num1) - 1, len(num2) - 1\n",
    "        ans = []\n",
    "        c = 0\n",
    "        while i >= 0 or j >= 0 or c:\n",
    "            a = 0 if i < 0 else int(num1[i])\n",
    "            b = 0 if j < 0 else int(num2[j])\n",
    "            c, v = divmod(a + b + c, 10)\n",
    "            ans.append(str(v))\n",
    "            i, j = i - 1, j - 1\n",
    "        return \"\".join(ans[::-1])\n",
    "\n",
    "    def subStrings(self, num1: str, num2: str) -> str:\n",
    "        m, n = len(num1), len(num2)\n",
    "        neg = m < n or (m == n and num1 < num2)\n",
    "        if neg:\n",
    "            num1, num2 = num2, num1\n",
    "        i, j = len(num1) - 1, len(num2) - 1\n",
    "        ans = []\n",
    "        c = 0\n",
    "        while i >= 0:\n",
    "            c = int(num1[i]) - c - (0 if j < 0 else int(num2[j]))\n",
    "            ans.append(str((c + 10) % 10))\n",
    "            c = 1 if c < 0 else 0\n",
    "            i, j = i - 1, j - 1\n",
    "        while len(ans) > 1 and ans[-1] == '0':\n",
    "            ans.pop()\n",
    "        if neg:\n",
    "            ans.append('-')\n",
    "        return ''.join(ans[::-1])\n"
   ]
  },
  {
   "cell_type": "code",
   "execution_count": null,
   "id": "2a7ed78c",
   "metadata": {},
   "outputs": [],
   "source": []
  },
  {
   "cell_type": "markdown",
   "id": "89e2d2c5",
   "metadata": {},
   "source": [
    "### Question 4\n",
    "\n",
    "Given a string s, reverse the order of characters in each word within a sentence while still preserving whitespace and initial word order.\n",
    "\n",
    "**Example 1:**\n",
    "\n",
    "**Input:** s = \"Let's take LeetCode contest\"\n",
    "\n",
    "**Output:** \"s'teL ekat edoCteeL tsetnoc\"\n",
    "\n",
    "</aside>"
   ]
  },
  {
   "cell_type": "code",
   "execution_count": 4,
   "id": "858ac682",
   "metadata": {},
   "outputs": [],
   "source": [
    "class Solution(object):\n",
    "    def reverseWords(self, s):\n",
    "        return \" \".join(s.split(\" \")[::-1])[::-1]"
   ]
  },
  {
   "cell_type": "code",
   "execution_count": null,
   "id": "a1fbdd8b",
   "metadata": {},
   "outputs": [],
   "source": []
  },
  {
   "cell_type": "markdown",
   "id": "e9741529",
   "metadata": {},
   "source": [
    "### Question 5\n",
    "Given a string s and an integer k, reverse the first k characters for every 2k characters counting from the start of the string.\n",
    "\n",
    "If there are fewer than k characters left, reverse all of them. If there are less than 2k but greater than or equal to k characters, then reverse the first k characters and leave the other as original.\n",
    "\n",
    "**Example 1:**\n",
    "\n",
    "**Input:** s = \"abcdefg\", k = 2\n",
    "\n",
    "**Output:**\n",
    "\n",
    "\"bacdfeg\"\n",
    "\n",
    "\n",
    "\n",
    "</aside>"
   ]
  },
  {
   "cell_type": "code",
   "execution_count": 5,
   "id": "6eacdf8b",
   "metadata": {},
   "outputs": [],
   "source": [
    "#5\n",
    "class Solution(object):\n",
    "    def reverseStr(self, s, k):\n",
    "        \"\"\"\n",
    "        :type s: str\n",
    "        :type k: int\n",
    "        :rtype: str\n",
    "        \"\"\"\n",
    "        sLen = len(s)\n",
    "        builder = \"\"\n",
    "        left = 0\n",
    "        rev = False\n",
    "        for i in range(sLen):\n",
    "            if i % k == 0:\n",
    "                subStr = s[left:i]\n",
    "                if rev:\n",
    "                    subStr = subStr[::-1]\n",
    "                builder += subStr\n",
    "                left = i\n",
    "                rev = not rev\n",
    "        subStr = s[left:sLen]\n",
    "        if rev:\n",
    "            subStr = subStr[::-1]\n",
    "        builder += subStr\n",
    "        return builder"
   ]
  },
  {
   "cell_type": "code",
   "execution_count": null,
   "id": "974345b2",
   "metadata": {},
   "outputs": [],
   "source": []
  },
  {
   "cell_type": "markdown",
   "id": "e38b3942",
   "metadata": {},
   "source": [
    "### Question 6\n",
    "Given two strings s and goal, return true *if and only if* s *can become* goal *after some number of **shifts** on* s.\n",
    "\n",
    "A **shift** on s consists of moving the leftmost character of s to the rightmost position.\n",
    "\n",
    "- For example, if s = \"abcde\", then it will be \"bcdea\" after one shift.\n",
    "\n",
    "**Example 1:**\n",
    "\n",
    "**Input:** s = \"abcde\", goal = \"cdeab\"\n",
    "\n",
    "**Output:**\n",
    "\n",
    "true"
   ]
  },
  {
   "cell_type": "code",
   "execution_count": 6,
   "id": "3d6e82b2",
   "metadata": {},
   "outputs": [],
   "source": [
    "#6\n",
    "class Solution :\n",
    "    def  rotateString(self, s,  goal) :\n",
    "        return (len(s) == len(goal) and  goal in (s + s) )"
   ]
  },
  {
   "cell_type": "code",
   "execution_count": null,
   "id": "bbd4980e",
   "metadata": {},
   "outputs": [],
   "source": []
  },
  {
   "cell_type": "markdown",
   "id": "9bad6aef",
   "metadata": {},
   "source": [
    "### Question 7\n",
    "Given two strings s and t, return true *if they are equal when both are typed into empty text editors*. '#' means a backspace character.\n",
    "\n",
    "Note that after backspacing an empty text, the text will continue empty.\n",
    "\n",
    "**Example 1:**\n",
    "\n",
    "**Input:** s = \"ab#c\", t = \"ad#c\"\n",
    "\n",
    "**Output:** true\n",
    "\n",
    "**Explanation:**\n",
    "\n",
    "Both s and t become \"ac\"."
   ]
  },
  {
   "cell_type": "code",
   "execution_count": 7,
   "id": "fa2b96d9",
   "metadata": {},
   "outputs": [],
   "source": [
    "#7\n",
    "class Solution:\n",
    "    def backspaceCompare(self, S: str, T: str) -> bool:\n",
    "        def bckspc(string):\n",
    "            stack=[]\n",
    "            for i in string:\n",
    "                if i =='#':\n",
    "                    try:\n",
    "                        stack.pop()\n",
    "                    except:\n",
    "                        pass\n",
    "                else:\n",
    "                    stack.append(i)\n",
    "            return ''.join(stack)\n",
    "        return (bckspc(S)==bckspc(T))"
   ]
  },
  {
   "cell_type": "code",
   "execution_count": null,
   "id": "8bddef77",
   "metadata": {},
   "outputs": [],
   "source": []
  },
  {
   "cell_type": "markdown",
   "id": "71a0fefd",
   "metadata": {},
   "source": [
    "### Question 8\n",
    "You are given an array coordinates, coordinates[i] = [x, y], where [x, y] represents the coordinate of a point. Check if these points make a straight line in the XY plane.\n",
    "\n",
    "**Input:** coordinates = [[1,2],[2,3],[3,4],[4,5],[5,6],[6,7]]\n",
    "\n",
    "**Output:** true"
   ]
  },
  {
   "cell_type": "code",
   "execution_count": 8,
   "id": "c77a0522",
   "metadata": {},
   "outputs": [
    {
     "name": "stdout",
     "output_type": "stream",
     "text": [
      "True\n"
     ]
    }
   ],
   "source": [
    "class Solution:\n",
    "   def solve(self, coordinates):\n",
    "      (x0, y0), (x1, y1) = coordinates[0], coordinates[1]\n",
    "      for i in range(2, len(coordinates)):\n",
    "         x, y = coordinates[i]\n",
    "         if (x0 - x1) * (y1 - y) != (x1 - x) * (y0 - y1):\n",
    "            return False\n",
    "      return True\n",
    "ob = Solution()\n",
    "coordinates = [[1,2],[2,3],[3,4],[4,5],[5,6],[6,7]]\n",
    "print(ob.solve(coordinates))"
   ]
  },
  {
   "cell_type": "code",
   "execution_count": null,
   "id": "063c4d11",
   "metadata": {},
   "outputs": [],
   "source": []
  }
 ],
 "metadata": {
  "kernelspec": {
   "display_name": "Python 3 (ipykernel)",
   "language": "python",
   "name": "python3"
  },
  "language_info": {
   "codemirror_mode": {
    "name": "ipython",
    "version": 3
   },
   "file_extension": ".py",
   "mimetype": "text/x-python",
   "name": "python",
   "nbconvert_exporter": "python",
   "pygments_lexer": "ipython3",
   "version": "3.9.12"
  }
 },
 "nbformat": 4,
 "nbformat_minor": 5
}
