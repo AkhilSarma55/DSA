{
 "cells": [
  {
   "cell_type": "markdown",
   "id": "e4ffe1b1",
   "metadata": {},
   "source": [
    "### Question 1\n",
    "Given an integer array nums of length n and an integer target, find three integers\n",
    "in nums such that the sum is closest to the target.\n",
    "Return the sum of the three integers.\n",
    "\n",
    "You may assume that each input would have exactly one solution.\n",
    "\n",
    "### Example 1:\n",
    "\n",
    "Input: nums = [-1,2,1,-4], target = 1\n",
    "Output: 2\n",
    "\n",
    "### Explanation:\n",
    "\n",
    "The sum that is closest to the target is 2. (-1 + 2 + 1 = 2)."
   ]
  },
  {
   "cell_type": "code",
   "execution_count": 2,
   "id": "2f2d2ab6",
   "metadata": {},
   "outputs": [],
   "source": [
    "from typing import List\n",
    "def threeSumClosest(nums: List[int], target: int) -> int:\n",
    "    # Sort the given array\n",
    "    nums.sort()\n",
    "    # Length of the array\n",
    "    n = len(nums)\n",
    "    # Closest value\n",
    "    closest = nums[0] + nums[1] + nums[n - 1]\n",
    "    # Loop for each element of the array\n",
    "    for i in range(0, n - 2):\n",
    "        # Left and right pointers\n",
    "        j = i + 1\n",
    "        k = n - 1\n",
    "        # Loop for all other pairs\n",
    "        while j < k:\n",
    "            current_sum = nums[i] + nums[j] + nums[k]\n",
    "            if current_sum <= target:\n",
    "                j += 1\n",
    "            else:\n",
    "                k -= 1\n",
    "            if abs(closest - target) > abs(current_sum - target):\n",
    "                closest = current_sum\n",
    "    return closest"
   ]
  },
  {
   "cell_type": "markdown",
   "id": "92ab8865",
   "metadata": {},
   "source": [
    "### Space Complexity\n",
    "\n",
    "We are not using any data structure for the intermediate computations, hence the space complexity is O(1)."
   ]
  },
  {
   "cell_type": "markdown",
   "id": "a9973cbe",
   "metadata": {},
   "source": [
    "### Time Complexity\n",
    "We are scanning the entire array keeping one element fixed. We are doing this for every element in the array. Thus, we are scanning each element of array n number of times. And we are doing this for n times, hence the worst case time complexity will be O(n2 + n * log n) which comes down to O(n2)."
   ]
  },
  {
   "cell_type": "code",
   "execution_count": null,
   "id": "956b7009",
   "metadata": {},
   "outputs": [],
   "source": []
  },
  {
   "cell_type": "markdown",
   "id": "7f2c9e77",
   "metadata": {},
   "source": [
    "### Question 2\n",
    "Given an array nums of n integers, return an array of all the unique quadruplets\n",
    "[nums[a], nums[b], nums[c], nums[d]] such that:\n",
    "           ● 0 <= a, b, c, d < n\n",
    "           ● a, b, c, and d are distinct.\n",
    "           ● nums[a] + nums[b] + nums[c] + nums[d] == target\n",
    "\n",
    "You may return the answer in any order.\n",
    "\n",
    "### Example 1:\n",
    "\n",
    "Input: nums = [1,0,-1,0,-2,2], target = 0\n",
    "Output: [[-2,-1,1,2],[-2,0,0,2],[-1,0,0,1]]"
   ]
  },
  {
   "cell_type": "code",
   "execution_count": 3,
   "id": "c0e5b814",
   "metadata": {},
   "outputs": [],
   "source": [
    "def fourSum(nums: List[int], target: int) -> List[List[int]]:\n",
    "    # Resultant list\n",
    "    quadruplets = list()\n",
    "    # Base condition\n",
    "    if nums is None or len(nums) < 4:\n",
    "        return quadruplets\n",
    "    # Sort the array\n",
    "    nums.sort()\n",
    "    # Length of the array\n",
    "    n = len(nums)\n",
    "    # Loop for each element of the array\n",
    "    for i in range(0, n - 3):\n",
    "        # Check for skipping duplicates\n",
    "        if i > 0 and nums[i] == nums[i - 1]:\n",
    "            continue\n",
    "        # Reducing to three sum problem\n",
    "        for j in range(i + 1, n - 2):\n",
    "            # Check for skipping duplicates\n",
    "            if j != i + 1 and nums[j] == nums[j - 1]:\n",
    "                continue\n",
    "            # Left and right pointers\n",
    "            k = j + 1\n",
    "            l = n - 1\n",
    "            # Reducing to two sum problem\n",
    "            while k < l:\n",
    "                current_sum = nums[i] + nums[j] + nums[k] + nums[l]\n",
    "                if current_sum < target:\n",
    "                    k += 1\n",
    "                elif current_sum > target:\n",
    "                    l -= 1\n",
    "                else:\n",
    "                    quadruplets.append([nums[i], nums[j], nums[k], nums[l]])\n",
    "                    k += 1\n",
    "                    l -= 1\n",
    "                    while k < l and nums[k] == nums[k - 1]:\n",
    "                        k += 1\n",
    "                    while k < l and nums[l] == nums[l + 1]:\n",
    "                        l -= 1\n",
    "    return quadruplets"
   ]
  },
  {
   "cell_type": "markdown",
   "id": "579dcf62",
   "metadata": {},
   "source": [
    "### Time Complexity\n",
    "We are scanning the entire array keeping one element fixed and then doing it for another element fixed. We are doing this for every element in the array. Thus, we are scanning each element of array n number of times. And we are doing this for n times, hence the worst case time complexity will be O(n3 + n * log n) which comes down to O(n3)."
   ]
  },
  {
   "cell_type": "markdown",
   "id": "b0302a2f",
   "metadata": {},
   "source": [
    "### Space Complexity\n",
    "\n",
    "We are not using any data structure for the intermediate computations, hence the space complexity is O(1)."
   ]
  },
  {
   "cell_type": "code",
   "execution_count": null,
   "id": "560f9cb4",
   "metadata": {},
   "outputs": [],
   "source": []
  },
  {
   "cell_type": "markdown",
   "id": "8bc04e09",
   "metadata": {},
   "source": [
    "### Question 3:\n",
    "\n",
    "A permutation of an array of integers is an arrangement of its members into a\n",
    "sequence or linear order.\n",
    "\n",
    "For example, for arr = [1,2,3], the following are all the permutations of arr:\n",
    "[1,2,3], [1,3,2], [2, 1, 3], [2, 3, 1], [3,1,2], [3,2,1].\n",
    "\n",
    "The next permutation of an array of integers is the next lexicographically greater\n",
    "permutation of its integer. More formally, if all the permutations of the array are\n",
    "sorted in one container according to their lexicographical order, then the next\n",
    "permutation of that array is the permutation that follows it in the sorted container.\n",
    "\n",
    "If such an arrangement is not possible, the array must be rearranged as the\n",
    "lowest possible order (i.e., sorted in ascending order).\n",
    "\n",
    "● For example, the next permutation of arr = [1,2,3] is [1,3,2].\n",
    "● Similarly, the next permutation of arr = [2,3,1] is [3,1,2].\n",
    "● While the next permutation of arr = [3,2,1] is [1,2,3] because [3,2,1] does not\n",
    "have a lexicographical larger rearrangement.\n",
    "\n",
    "Given an array of integers nums, find the next permutation of nums.\n",
    "The replacement must be in place and use only constant extra memory.\n",
    "\n",
    "### Example 1:\n",
    "\n",
    "Input: nums = [1,2,3]\n",
    "Output: [1,3,2]\n",
    "\n",
    "</aside>"
   ]
  },
  {
   "cell_type": "code",
   "execution_count": 4,
   "id": "b1c462d3",
   "metadata": {},
   "outputs": [],
   "source": [
    "def reverse(nums, i, j):\n",
    "    while i < j:\n",
    "        nums[i], nums[j] = nums[j], nums[i]\n",
    "        i += 1\n",
    "        j -= 1\n",
    "\n",
    "\n",
    "def nextPermutation(nums: List[int]):\n",
    "    # Length of the array\n",
    "    n = len(nums)\n",
    "    # Index of the first element that is smaller than\n",
    "    # the element to its right.\n",
    "    index = -1\n",
    "    # Loop from right to left\n",
    "    for i in range(n - 1, 0, -1):\n",
    "        if nums[i] > nums[i - 1]:\n",
    "            index = i - 1\n",
    "            break\n",
    "    # Base condition\n",
    "    if index == -1:\n",
    "        reverse(nums, 0, n - 1)\n",
    "        return\n",
    "    j = n - 1\n",
    "    # Again swap from right to left to find first element\n",
    "    # that is greater than the above find element\n",
    "    for i in range(n - 1, index, -1):\n",
    "        if nums[i] > nums[index]:\n",
    "            j = i\n",
    "            break\n",
    "    # Swap the elements\n",
    "    nums[index], nums[j] = nums[j], nums[index]\n",
    "    # Reverse the elements from index + 1 to the nums.length\n",
    "    reverse(nums, index + 1, n - 1)"
   ]
  },
  {
   "cell_type": "markdown",
   "id": "8e061e85",
   "metadata": {},
   "source": [
    "### Time Complexity:\n",
    "\n",
    "We are iterating the array two times. In the worst case, the time complexity will be O(2n) which is equivalent to O(n)."
   ]
  },
  {
   "cell_type": "markdown",
   "id": "533d6b84",
   "metadata": {},
   "source": [
    "### Space Complexity:\n",
    "\n",
    "We are not using any data structure for intermediate computations. Hence, the space complexity will be O(1)"
   ]
  },
  {
   "cell_type": "code",
   "execution_count": null,
   "id": "98377cf4",
   "metadata": {},
   "outputs": [],
   "source": []
  },
  {
   "cell_type": "markdown",
   "id": "85f6ab14",
   "metadata": {},
   "source": [
    "### Question 4:\n",
    "\n",
    "Given a sorted array of distinct integers and a target value, return the index if the\n",
    "target is found. If not, return the index where it would be if it were inserted in\n",
    "order.\n",
    "\n",
    "You must write an algorithm with O(log n) runtime complexity.\n",
    "\n",
    "### Example 1:\n",
    "\n",
    "Input: nums = [1,3,5,6], target = 5\n",
    "Output: 2"
   ]
  },
  {
   "cell_type": "markdown",
   "id": "4bca5946",
   "metadata": {},
   "source": [
    "- Here we can solve this problem by traversing whole array, but for that time complexity will be O(n). Here it is clearly mentioned that we must write an algorithm with O(log n) runtime complexity."
   ]
  },
  {
   "cell_type": "code",
   "execution_count": 5,
   "id": "51768449",
   "metadata": {},
   "outputs": [],
   "source": [
    "class Solution(object):\n",
    "    def searchInsert(self, nums, target):\n",
    "        \"\"\"\n",
    "        :type nums: List[int]\n",
    "        :type target: int\n",
    "        :rtype: int\n",
    "        \"\"\"\n",
    "        # Last and First indexes\n",
    "        start = 0\n",
    "        end = len(nums) - 1\n",
    "        \n",
    "        # Traverse an array\n",
    "        while (start <= end):\n",
    "            \n",
    "            mid = (start + end)/2\n",
    "             \n",
    "            # if target value found.\n",
    "            if nums[mid] == target:\n",
    "                return mid\n",
    "            \n",
    "            # If target value is greater then mid elements's value\n",
    "            elif target > nums[mid]:\n",
    "                start = mid + 1\n",
    "                \n",
    "            # otherwise target value is less, \n",
    "            else:\n",
    "                end = mid -1\n",
    "        # Return the insertion position\n",
    "        return end + 1\n",
    "                \n",
    "        "
   ]
  },
  {
   "cell_type": "code",
   "execution_count": null,
   "id": "48144150",
   "metadata": {},
   "outputs": [],
   "source": []
  },
  {
   "cell_type": "markdown",
   "id": "7ae53aa8",
   "metadata": {},
   "source": [
    "### Question:5\n",
    "\n",
    "You are given a large integer represented as an integer array digits, where each\n",
    "digits[i] is the ith digit of the integer. The digits are ordered from most significant\n",
    "to least significant in left-to-right order. The large integer does not contain any\n",
    "leading 0's.\n",
    "\n",
    "Increment the large integer by one and return the resulting array of digits.\n",
    "\n",
    "### Example 1:\n",
    "Input: digits = [1,2,3]\n",
    "Output: [1,2,4]\n",
    "\n",
    "### Explanation:\n",
    "The array represents the integer 123.\n",
    "\n",
    "Incrementing by one gives 123 + 1 = 124.\n",
    "\n",
    "Thus, the result should be [1,2,4].\n",
    "\n",
    "</aside>"
   ]
  },
  {
   "cell_type": "code",
   "execution_count": 6,
   "id": "18f834ba",
   "metadata": {},
   "outputs": [],
   "source": [
    "class Solution(object):\n",
    "    def plusOne(self, digits):\n",
    "        \"\"\"\n",
    "        :type digits: List[int]\n",
    "        :rtype: List[int]\n",
    "        \"\"\"\n",
    "        digit_length = len(digits)\n",
    "        \n",
    "        i = digit_length - 1\n",
    "        \n",
    "        while digits[i] == 9 and i >= 0:\n",
    "            i -= 1\n",
    "        \n",
    "        if i == -1:\n",
    "            results = [0]*(digit_length + 1)\n",
    "            results[0] = 1\n",
    "            return results\n",
    "        \n",
    "        results = [0]*(digit_length)\n",
    "        \n",
    "        results[i] = digits[i] + 1\n",
    "        \n",
    "        for j in range(i-1, -1, -1):\n",
    "            results[j] = digits[j]\n",
    "        \n",
    "        return results\n"
   ]
  },
  {
   "cell_type": "markdown",
   "id": "47f5f47c",
   "metadata": {},
   "source": [
    "### Time Complexity\n",
    "We are traversing an whole array (from right to left) until we find space, so time complexity will be O(n)."
   ]
  },
  {
   "cell_type": "markdown",
   "id": "3ad9fb44",
   "metadata": {},
   "source": [
    "### Space Complexity:\n",
    "\n",
    "Since we have used an extra array with +1 more space, the space complexity will be O(n+1)."
   ]
  },
  {
   "cell_type": "code",
   "execution_count": null,
   "id": "3f0cb2d2",
   "metadata": {},
   "outputs": [],
   "source": []
  },
  {
   "cell_type": "markdown",
   "id": "beb7f6b9",
   "metadata": {},
   "source": [
    "### Question 6\n",
    "Given a non-empty array of integers nums, every element appears twice except\n",
    "for one. Find that single one.\n",
    "\n",
    "You must implement a solution with a linear runtime complexity and use only\n",
    "constant extra space.\n",
    "\n",
    "### Example 1:\n",
    "\n",
    "Input:nums=[2,2,1]\n",
    "Output: "
   ]
  },
  {
   "cell_type": "code",
   "execution_count": 7,
   "id": "cb8fa64e",
   "metadata": {},
   "outputs": [],
   "source": [
    "class Solution:\n",
    "    def singleNumber(self, nums: List[int]) -> int:\n",
    "        out = 0\n",
    "        for i in range(len(nums)):\n",
    "            out = out^nums[i]\n",
    "        return(out)"
   ]
  },
  {
   "cell_type": "markdown",
   "id": "c23021c4",
   "metadata": {},
   "source": [
    "### Time Complexity\n",
    "\n",
    "Here, we are traversing an whole array so, total time complexity will be O(n).\n",
    "\n",
    "### Space Complexity\n",
    "\n",
    "Here, We have used one variables only, so total space complexity will also be O(1)"
   ]
  },
  {
   "cell_type": "code",
   "execution_count": null,
   "id": "fdf5aef5",
   "metadata": {},
   "outputs": [],
   "source": []
  },
  {
   "cell_type": "markdown",
   "id": "c62fd41f",
   "metadata": {},
   "source": [
    "### Question:7\n",
    "\n",
    "You are given an inclusive range [lower, upper] and a sorted unique integer array\n",
    "nums, where all elements are within the inclusive range.\n",
    "\n",
    "A number x is considered missing if x is in the range [lower, upper] and x is not in\n",
    "nums.\n",
    "\n",
    "Return the shortest sorted list of ranges that exactly covers all the missing\n",
    "numbers. That is, no element of nums is included in any of the ranges, and each\n",
    "missing number is covered by one of the ranges.\n",
    "\n",
    "### Example 1:\n",
    "\n",
    "Input: nums = [0,1,3,50,75], lower = 0, upper = 99\n",
    "Output: [[2,2],[4,49],[51,74],[76,99]]\n",
    "\n",
    "### Explanation:\n",
    "The ranges are:\n",
    "\n",
    "[2,2]\n",
    "\n",
    "[4,49]\n",
    "\n",
    "[51,74]\n",
    "\n",
    "[76,99]"
   ]
  },
  {
   "cell_type": "code",
   "execution_count": 11,
   "id": "a8e210d0",
   "metadata": {},
   "outputs": [],
   "source": [
    "class Solution:\n",
    "    def findMissingRanges(self, nums: List[int], lower: int, upper: int) -> List[str]:\n",
    "        def f(a, b):\n",
    "            return str(a) if a == b else f'{a}->{b}'\n",
    "\n",
    "        n = len(nums)\n",
    "        if n == 0:\n",
    "            return [f(lower, upper)]\n",
    "        ans = []\n",
    "        if nums[0] > lower:\n",
    "            ans.append(f(lower, nums[0] - 1))\n",
    "        for a, b in pairwise(nums):\n",
    "            if b - a > 1:\n",
    "                ans.append(f(a + 1, b - 1))\n",
    "        if nums[-1] < upper:\n",
    "            ans.append(f(nums[-1] + 1, upper))\n",
    "        return ans"
   ]
  },
  {
   "cell_type": "code",
   "execution_count": null,
   "id": "7679eb44",
   "metadata": {},
   "outputs": [],
   "source": []
  },
  {
   "cell_type": "markdown",
   "id": "5636de02",
   "metadata": {},
   "source": [
    "### Question 8\n",
    "\n",
    "Given an array of meeting time intervals where intervals[i] = [starti, endi],\n",
    "determine if a person could attend all meetings.\n",
    "\n",
    "### Example 1:\n",
    "\n",
    "Input: intervals = [[0,30],[5,10],[15,20]]\n",
    "Output: false"
   ]
  },
  {
   "cell_type": "code",
   "execution_count": 10,
   "id": "9194d639",
   "metadata": {},
   "outputs": [],
   "source": [
    "def canAttendMeetings(intervals):\n",
    "        \n",
    "    intervals.sort(key=lambda a: a.start)\n",
    "    for i in range(len(intervals)-1):\n",
    "        if intervals[i].end > intervals[i+1].start:\n",
    "            return False\n",
    "    return True"
   ]
  },
  {
   "cell_type": "markdown",
   "id": "ceb34c21",
   "metadata": {},
   "source": [
    "### Complex Analysis:\n",
    "\n",
    "- Time Complexity: O(nlogn).\n",
    "- Space Complexity: O(1)."
   ]
  },
  {
   "cell_type": "code",
   "execution_count": null,
   "id": "882fd64a",
   "metadata": {},
   "outputs": [],
   "source": []
  }
 ],
 "metadata": {
  "kernelspec": {
   "display_name": "Python 3 (ipykernel)",
   "language": "python",
   "name": "python3"
  },
  "language_info": {
   "codemirror_mode": {
    "name": "ipython",
    "version": 3
   },
   "file_extension": ".py",
   "mimetype": "text/x-python",
   "name": "python",
   "nbconvert_exporter": "python",
   "pygments_lexer": "ipython3",
   "version": "3.10.9"
  }
 },
 "nbformat": 4,
 "nbformat_minor": 5
}
