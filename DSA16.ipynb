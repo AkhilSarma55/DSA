{
  "nbformat": 4,
  "nbformat_minor": 0,
  "metadata": {
    "colab": {
      "provenance": []
    },
    "kernelspec": {
      "name": "python3",
      "display_name": "Python 3"
    },
    "language_info": {
      "name": "python"
    }
  },
  "cells": [
    {
      "cell_type": "markdown",
      "source": [
        "\n",
        "### Question 1\n",
        "Given an array, for each element find the value of the nearest element to the right which is having a frequency greater than that of the current element. If there does not exist an answer for a position, then make the value ‘-1’.\n",
        "\n",
        "### Examples:\n",
        "\n",
        "Input: a[] = [1, 1, 2, 3, 4, 2, 1] Output : [-1, -1, 1, 2, 2, 1, -1]\n",
        "\n",
        "### Explanation:\n",
        "Given array a[] = [1, 1, 2, 3, 4, 2, 1] Frequency of each element is: 3, 3, 2, 1, 1, 2, 3\n",
        "\n",
        "Lets calls Next Greater Frequency element as NGF\n",
        "\n",
        "For element a[0] = 1 which has a frequency = 3, As it has frequency of 3 and no other next element has frequency more than 3 so '-1'\n",
        "For element a[1] = 1 it will be -1 same logic like a[0]\n",
        "For element a[2] = 2 which has frequency = 2, NGF element is 1 at position = 6 with frequency of 3 > 2\n",
        "For element a[3] = 3 which has frequency = 1, NGF element is 2 at position = 5 with frequency of 2 > 1\n",
        "For element a[4] = 4 which has frequency = 1, NGF element is 2 at position = 5 with frequency of 2 > 1\n",
        "For element a[5] = 2 which has frequency = 2, NGF element is 1 at position = 6 with frequency of 3 > 2\n",
        "For element a[6] = 1 there is no element to its right, hence -1\n",
        "Input : a[] = [1, 1, 1, 2, 2, 2, 2, 11, 3, 3]\n",
        "\n",
        "Output : [2, 2, 2, -1, -1, -1, -1, 3, -1, -1]"
      ],
      "metadata": {
        "id": "zbQHN7ym0cya"
      }
    },
    {
      "cell_type": "code",
      "source": [
        "def nearGreaterFrequency(arr):\n",
        "    # Count the frequency of each element\n",
        "    frequenci = {}\n",
        "    for number in arr:\n",
        "        frequenci[number] = frequenci.get(number, 0) + 1\n",
        "\n",
        "    # Use a stack to find the next greater frequency element\n",
        "    stack = []\n",
        "    result = [-1] * len(arr)\n",
        "\n",
        "    for i, number in enumerate(arr):\n",
        "        while stack and frequenci[arr[stack[-1]]] < frequenci[number]:\n",
        "            result[stack.pop()] = number\n",
        "        stack.append(i)\n",
        "\n",
        "    return result\n"
      ],
      "metadata": {
        "id": "RYMePunh0p11"
      },
      "execution_count": 1,
      "outputs": []
    },
    {
      "cell_type": "code",
      "source": [
        "arr = [1, 1, 2, 3, 4, 2, 1]\n",
        "print(nearGreaterFrequency(arr))\n",
        "\n",
        "\n",
        "arr = [1, 1, 1, 2, 2, 2, 2, 11, 3, 3]\n",
        "print(nearGreaterFrequency(arr))\n"
      ],
      "metadata": {
        "colab": {
          "base_uri": "https://localhost:8080/"
        },
        "id": "_61W5Vo-08e3",
        "outputId": "42fe0315-8853-4cc5-bff4-7f415adb9f25"
      },
      "execution_count": 2,
      "outputs": [
        {
          "output_type": "stream",
          "name": "stdout",
          "text": [
            "[-1, -1, 1, 2, 2, 1, -1]\n",
            "[2, 2, 2, -1, -1, -1, -1, 3, -1, -1]\n"
          ]
        }
      ]
    },
    {
      "cell_type": "markdown",
      "source": [
        "### Question 2\n",
        "Given a stack of integers, sort it in ascending order using another temporary stack.\n",
        "\n",
        "Examples:\n",
        "\n",
        "Input : [34, 3, 31, 98, 92, 23] Output : [3, 23, 31, 34, 92, 98]\n",
        "\n",
        "Input : [3, 5, 1, 4, 2, 8] Output : [1, 2, 3, 4, 5, 8]"
      ],
      "metadata": {
        "id": "Kz90WhwEyOFR"
      }
    },
    {
      "cell_type": "code",
      "source": [
        "def sortStack(stack):\n",
        "    tempStack = []\n",
        "\n",
        "    while stack:\n",
        "        temp = stack.pop()\n",
        "\n",
        "        while tempStack and tempStack[-1] > temp:\n",
        "            stack.append(tempStack.pop())\n",
        "\n",
        "        tempStack.append(temp)\n",
        "\n",
        "    return tempStack"
      ],
      "metadata": {
        "id": "DczC_q-1yzRF"
      },
      "execution_count": 7,
      "outputs": []
    },
    {
      "cell_type": "code",
      "source": [
        "stack = [34, 3, 31, 98, 92, 23]\n",
        "sortedStack = sortStack(stack)\n",
        "print(sortedStack)\n",
        "\n",
        "\n",
        "stack = [3, 5, 1, 4, 2, 8]\n",
        "sortedStack = sortStack(stack)\n",
        "print(sortedStack)"
      ],
      "metadata": {
        "colab": {
          "base_uri": "https://localhost:8080/"
        },
        "id": "xW4w2Tn_y4RQ",
        "outputId": "d296097c-3c3a-4d56-a773-c57fad747aa7"
      },
      "execution_count": 8,
      "outputs": [
        {
          "output_type": "stream",
          "name": "stdout",
          "text": [
            "[3, 23, 31, 34, 92, 98]\n",
            "[1, 2, 3, 4, 5, 8]\n"
          ]
        }
      ]
    },
    {
      "cell_type": "markdown",
      "source": [
        " **Question 3**\n",
        "Given a stack with push(), pop(), and empty() operations, The task is to delete the middle element ****of it without using any additional data structure.\n",
        "\n",
        "Input  : Stack[] = [1, 2, 3, 4, 5]\n",
        "\n",
        "Output : Stack[] = [1, 2, 4, 5]\n",
        "\n",
        "Input  : Stack[] = [1, 2, 3, 4, 5, 6]\n",
        "\n",
        "Output : Stack[] = [1, 2, 4, 5, 6"
      ],
      "metadata": {
        "id": "gxpMntNRy8ef"
      }
    },
    {
      "cell_type": "code",
      "source": [
        "def deleteMiddle(stack):\n",
        "    siZe = len(stack)\n",
        "    middle_position = (siZe // 2) + 1\n",
        "\n",
        "    tempStack = []\n",
        "    for _ in range(middle_position - 1):\n",
        "        tempStack.append(stack.pop())\n",
        "\n",
        "    stack.pop()\n",
        "\n",
        "    while tempStack:\n",
        "        stack.append(tempStack.pop())\n",
        "\n",
        "    return stack\n"
      ],
      "metadata": {
        "id": "tHGi2IQ-zAcL"
      },
      "execution_count": 9,
      "outputs": []
    },
    {
      "cell_type": "code",
      "source": [
        "stack = [1, 2, 3, 4, 5]\n",
        "modifiedStack = deleteMiddle(stack)\n",
        "print(modifiedStack)\n",
        "\n",
        "\n",
        "stack = [1, 2, 3, 4, 5, 6]\n",
        "modifiedStack = deleteMiddle(stack)\n",
        "print(modifiedStack)"
      ],
      "metadata": {
        "colab": {
          "base_uri": "https://localhost:8080/"
        },
        "id": "HhZxIjd9zK23",
        "outputId": "0710b7c5-d8fe-4981-8901-87797a6d9203"
      },
      "execution_count": 10,
      "outputs": [
        {
          "output_type": "stream",
          "name": "stdout",
          "text": [
            "[1, 2, 4, 5]\n",
            "[1, 2, 4, 5, 6]\n"
          ]
        }
      ]
    },
    {
      "cell_type": "markdown",
      "source": [
        " **Question 4**\n",
        "Given a Queue consisting of first n natural numbers (in random order). The task is to check whether the given Queue elements can be arranged in increasing order in another Queue using a stack. The operation allowed are:\n",
        "\n",
        "Push and pop elements from the stack\n",
        "Pop (Or Dequeue) from the given Queue.\n",
        "Push (Or Enqueue) in the another Queue.\n",
        "Examples :\n",
        "\n",
        "Input : Queue[] = { 5, 1, 2, 3, 4 }\n",
        "\n",
        "Output : Yes\n",
        "\n",
        "Pop the first element of the given Queue\n",
        "\n",
        "i.e 5. Push 5 into the stack.\n",
        "\n",
        "Now, pop all the elements of the given Queue and push them to second Queue.\n",
        "\n",
        "Now, pop element 5 in the stack and push it to the second Queue.\n",
        "\n",
        "Input : Queue[] = { 5, 1, 2, 6, 3, 4 }\n",
        "\n",
        "Output : No\n",
        "\n",
        "Push 5 to stack.\n",
        "\n",
        "Pop 1, 2 from given Queue and push it to another Queue.\n",
        "\n",
        "Pop 6 from given Queue and push to stack.\n",
        "\n",
        "Pop 3, 4 from given Queue and push to second Queue.\n",
        "\n",
        "Now, from using any of above operation, we cannot push 5 into the second Queue because it is below the 6 in the stack.\n",
        "\n"
      ],
      "metadata": {
        "id": "vOZjTNjTzTQv"
      }
    },
    {
      "cell_type": "code",
      "source": [
        "from queue import Queue\n",
        "\n",
        "def checkIncreasingOrder(queue):\n",
        "    stack = []\n",
        "    SecondQueue = Queue()\n",
        "    expected = 1\n",
        "\n",
        "    while not queue.empty():\n",
        "        element = queue.get()\n",
        "\n",
        "        if element == expected:\n",
        "            SecondQueue.put(element)\n",
        "            expected += 1\n",
        "        elif element > expected:\n",
        "            stack.append(element)\n",
        "        elif element < expected:\n",
        "            if stack and stack[-1] == expected:\n",
        "                SecondQueue.put(stack.pop())\n",
        "                expected += 1\n",
        "\n",
        "    while stack:\n",
        "        if stack[-1] == expected:\n",
        "            SecondQueue.put(stack.pop())\n",
        "            expected += 1\n",
        "        else:\n",
        "            break\n",
        "\n",
        "    while not queue.empty():\n",
        "        SecondQueue.put(queue.get())\n",
        "\n",
        "    while not SecondQueue.empty():\n",
        "        queue.put(SecondQueue.get())\n",
        "\n",
        "    return \"Yes\" if expected == queue.qsize() + 1 else \"No\""
      ],
      "metadata": {
        "id": "3fTA3UIMzVTD"
      },
      "execution_count": 11,
      "outputs": []
    },
    {
      "cell_type": "code",
      "source": [
        "\n",
        "queue = Queue()\n",
        "queue.put(5)\n",
        "queue.put(1)\n",
        "queue.put(2)\n",
        "queue.put(3)\n",
        "queue.put(4)\n",
        "print(checkIncreasingOrder(queue))"
      ],
      "metadata": {
        "colab": {
          "base_uri": "https://localhost:8080/"
        },
        "id": "aYRPgeiozjjc",
        "outputId": "10710fff-3e40-429e-9ce1-5964c9eb9dfa"
      },
      "execution_count": 12,
      "outputs": [
        {
          "output_type": "stream",
          "name": "stdout",
          "text": [
            "Yes\n"
          ]
        }
      ]
    },
    {
      "cell_type": "markdown",
      "source": [
        " **Question 5**\n",
        "Given a number , write a program to reverse this number using stack.\n",
        "\n",
        "Examples:\n",
        "\n",
        "Input : 365 Output : 563\n",
        "\n",
        "Input : 6899 Output : 9986"
      ],
      "metadata": {
        "id": "FBGDeGBTzy6K"
      }
    },
    {
      "cell_type": "markdown",
      "source": [],
      "metadata": {
        "id": "-vkBk8IxzuqF"
      }
    },
    {
      "cell_type": "code",
      "source": [
        "def reverseNumber(number):\n",
        "    number_string = str(number)\n",
        "    stack = []\n",
        "\n",
        "    # Push each digit onto the stack\n",
        "    for digit in number_string:\n",
        "        stack.append(digit)\n",
        "\n",
        "\n",
        "    reversed_number_str = \"\"\n",
        "    while stack:\n",
        "        reversed_number_str += stack.pop()\n",
        "\n",
        "    # Convert the reversed number string back to an integer\n",
        "    reversed_number = int(reversed_number_str)\n",
        "\n",
        "    return reversed_number"
      ],
      "metadata": {
        "id": "eYtu01egzoX4"
      },
      "execution_count": 13,
      "outputs": []
    },
    {
      "cell_type": "code",
      "source": [
        "\n",
        "number = 365\n",
        "print(reverseNumber(number))\n",
        "\n",
        "\n",
        "number = 6899\n",
        "print(reverseNumber(number))\n",
        "\n"
      ],
      "metadata": {
        "colab": {
          "base_uri": "https://localhost:8080/"
        },
        "id": "yxnXjBtk0BRu",
        "outputId": "07362c1b-b04b-41af-c4d6-2ab2c9dde967"
      },
      "execution_count": 14,
      "outputs": [
        {
          "output_type": "stream",
          "name": "stdout",
          "text": [
            "563\n",
            "9986\n"
          ]
        }
      ]
    },
    {
      "cell_type": "markdown",
      "source": [
        "**Question 6**\n",
        "Given an integer k and a queue of integers, The task is to reverse the order of the first k elements of the queue, leaving the other elements in the same relative order.\n",
        "\n",
        "Only following standard operations are allowed on queue.\n",
        "\n",
        "enqueue(x) : Add an item x to rear of queue\n",
        "dequeue() : Remove an item from front of queue\n",
        "size() : Returns number of elements in queue.\n",
        "front() : Finds front item."
      ],
      "metadata": {
        "id": "PvIkv28s0G_Z"
      }
    },
    {
      "cell_type": "code",
      "source": [
        "from queue import Queue\n",
        "\n",
        "\n",
        "def reverseFirstK(queue, k):\n",
        "    if k <= 0 or k > queue.qsize():\n",
        "        return queue\n",
        "\n",
        "    stack = []\n",
        "    for _ in range(k):\n",
        "        stack.append(queue.get())\n",
        "\n",
        "    new_queue = Queue()\n",
        "    while stack:\n",
        "        new_queue.put(stack.pop())\n",
        "\n",
        "    while not queue.empty():\n",
        "        new_queue.put(queue.get())\n",
        "\n",
        "    return new_queue\n",
        "\n",
        "queue = Queue()\n",
        "queue.put(1)\n",
        "queue.put(2)\n",
        "queue.put(3)\n",
        "queue.put(4)\n",
        "queue.put(5)\n",
        "\n",
        "k = 3\n",
        "reversed_queue = reverseFirstK(queue, k)\n",
        "\n",
        "while not reversed_queue.empty():\n",
        "    print(reversed_queue.get())"
      ],
      "metadata": {
        "colab": {
          "base_uri": "https://localhost:8080/"
        },
        "id": "kTC45gRJ0Iom",
        "outputId": "5612464d-0f7f-4a34-9825-6eebc72a3357"
      },
      "execution_count": 16,
      "outputs": [
        {
          "output_type": "stream",
          "name": "stdout",
          "text": [
            "3\n",
            "2\n",
            "1\n",
            "4\n",
            "5\n"
          ]
        }
      ]
    },
    {
      "cell_type": "markdown",
      "source": [
        "### Question 7\n",
        "Given a sequence of n strings, the task is to check if any two similar words come together and then destroy each other then print the number of words left in the sequence after this pairwise destruction.\n",
        "Examples:\n",
        "\n",
        "Input : ab aa aa bcd ab\n",
        "\n",
        "Output : 3\n",
        "\n",
        "As aa, aa destroys each other so,\n",
        "\n",
        "ab bcd ab is the new sequence.\n",
        "\n",
        "Input :  tom jerry jerry tom\n",
        "\n",
        "Output : 0\n",
        "\n",
        "As first both jerry will destroy each other.\n",
        "\n",
        "Then sequence will be tom, tom they will also destroy\n",
        "\n",
        "each other. So, the final sequence doesn’t contain any\n",
        "\n",
        "word."
      ],
      "metadata": {
        "id": "LAsUskON2XI1"
      }
    },
    {
      "cell_type": "code",
      "source": [
        "def countRemainingWords(words):\n",
        "    stack = []\n",
        "    for woord in words:\n",
        "        if not stack or woord != stack[-1]:\n",
        "            stack.append(woord)\n",
        "        else:\n",
        "            stack.pop()\n",
        "\n",
        "    return len(stack)\n",
        "\n",
        "sequence = \"ab aa aa bcd ab\"\n",
        "words = sequence.split()\n",
        "result = countRemainingWords(words)\n",
        "print(result)"
      ],
      "metadata": {
        "colab": {
          "base_uri": "https://localhost:8080/"
        },
        "id": "KvcDFFnM2iu_",
        "outputId": "3f1cab78-eb80-42bb-d16f-a471fafd420f"
      },
      "execution_count": 17,
      "outputs": [
        {
          "output_type": "stream",
          "name": "stdout",
          "text": [
            "3\n"
          ]
        }
      ]
    },
    {
      "cell_type": "markdown",
      "source": [
        "### Question 8\n",
        "Given an array of integers, the task is to find the maximum absolute difference between the nearest left and the right smaller element of every element in the array.\n",
        "Note: If there is no smaller element on right side or left side of any element then we take zero as the smaller element. For example for the leftmost element, the nearest smaller element on the left side is considered as 0. Similarly, for rightmost elements, the smaller element on the right side is considered as 0.\n",
        "\n",
        "Examples:\n",
        "\n",
        "Input : arr[] = {2, 1, 8}\n",
        "Output : 1\n",
        "Left smaller  LS[] {0, 0, 1}\n",
        "Right smaller RS[] {1, 0, 0}\n",
        "Maximum Diff of abs(LS[i] - RS[i]) = 1\n",
        "\n",
        "Input  : arr[] = {2, 4, 8, 7, 7, 9, 3}\n",
        "Output : 4\n",
        "Left smaller   LS[] = {0, 2, 4, 4, 4, 7, 2}\n",
        "Right smaller  RS[] = {0, 3, 7, 3, 3, 3, 0}\n",
        "Maximum Diff of abs(LS[i] - RS[i]) = 7 - 3 = 4\n",
        "\n",
        "Input : arr[] = {5, 1, 9, 2, 5, 1, 7}\n",
        "Output : 1"
      ],
      "metadata": {
        "id": "uuDJ1q892yr4"
      }
    },
    {
      "cell_type": "code",
      "source": [
        "def maxAbsDifference(arr):\n",
        "    n = len(arr)\n",
        "    left_small = [0] * n\n",
        "    right_small = [0] * n\n",
        "\n",
        "    # Calculate nearest left smaller element\n",
        "    left_stack = []\n",
        "    for i in range(n):\n",
        "        while left_stack and left_stack[-1] >= arr[i]:\n",
        "            left_stack.pop()\n",
        "        if left_stack:\n",
        "            left_small[i] = left_stack[-1]\n",
        "        left_stack.append(arr[i])\n",
        "\n",
        "    # Calculate nearest right smaller element\n",
        "    right_stack = []\n",
        "    for i in range(n - 1, -1, -1):\n",
        "        while right_stack and right_stack[-1] >= arr[i]:\n",
        "            right_stack.pop()\n",
        "        if right_stack:\n",
        "            right_small[i] = right_stack[-1]\n",
        "        right_stack.append(arr[i])\n",
        "\n",
        "    max_diff = 0\n",
        "    for i in range(n):\n",
        "        max_diff = max(max_diff, abs(left_small[i] - right_small[i]))\n",
        "\n",
        "    return max_diff\n",
        "\n",
        "arr = [2, 4, 8, 7, 7, 9, 3]\n",
        "result = maxAbsDifference(arr)\n",
        "print(result)"
      ],
      "metadata": {
        "colab": {
          "base_uri": "https://localhost:8080/"
        },
        "id": "uNdID0Yg28M3",
        "outputId": "c4c21569-1dbb-4987-bd8c-0ac67a30cf32"
      },
      "execution_count": 18,
      "outputs": [
        {
          "output_type": "stream",
          "name": "stdout",
          "text": [
            "4\n"
          ]
        }
      ]
    },
    {
      "cell_type": "code",
      "source": [],
      "metadata": {
        "id": "dZ1AItEF22Br"
      },
      "execution_count": null,
      "outputs": []
    },
    {
      "cell_type": "code",
      "source": [],
      "metadata": {
        "id": "_03OO4vty-uX"
      },
      "execution_count": null,
      "outputs": []
    }
  ]
}