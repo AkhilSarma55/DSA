{
  "nbformat": 4,
  "nbformat_minor": 0,
  "metadata": {
    "colab": {
      "provenance": []
    },
    "kernelspec": {
      "name": "python3",
      "display_name": "Python 3"
    },
    "language_info": {
      "name": "python"
    }
  },
  "cells": [
    {
      "cell_type": "markdown",
      "source": [
        "### Question-1:\n",
        "Given a Binary Tree (Bt), convert it to a Doubly Linked List(DLL). The left and right pointers in nodes are to be used as previous and next pointers respectively in converted DLL. The order of nodes in DLL must be the same as in Inorder for the given Binary Tree. The first node of Inorder traversal (leftmost node in BT) must be the head node of the DLL.\n",
        "\n"
      ],
      "metadata": {
        "id": "-3D25ij-nHZJ"
      }
    },
    {
      "cell_type": "code",
      "execution_count": 1,
      "metadata": {
        "id": "qB3y0nEknACO"
      },
      "outputs": [],
      "source": [
        "class Node:\n",
        "    def __init__(self, value):\n",
        "        self.value= value\n",
        "        self.left = None\n",
        "        self.right = None\n",
        "        self.previous = None\n",
        "        self.next = None\n",
        "\n",
        "def convertToDLl(root):\n",
        "    if root is None:\n",
        "        return None\n",
        "\n",
        "    # Helper function to perform inorder traversal and adjust the pointers\n",
        "    def inorders(node, previous):\n",
        "        nonlocal head\n",
        "\n",
        "        if node is None:\n",
        "            return previous\n",
        "\n",
        "        # Recurse on the left subtree\n",
        "        previous = inorders(node.left, previous)\n",
        "\n",
        "        # Adjust the pointers\n",
        "        if previous is None:\n",
        "            head = node\n",
        "        else:\n",
        "            previous.next = node\n",
        "            node.previous = previous\n",
        "\n",
        "        # Update the previous node\n",
        "        previous = node\n",
        "\n",
        "        # Recurse on the right subtree\n",
        "        previous = inorders(node.right, previous)\n",
        "\n",
        "        return previous\n",
        "\n",
        "    # Initialize the head as None\n",
        "    head = None\n",
        "\n",
        "    # Start the inorder traversal\n",
        "    inorders(root, None)\n",
        "\n",
        "    return head\n",
        "\n",
        "def printDLL(head):\n",
        "    current = head\n",
        "    while current:\n",
        "        print(current.value, end=\" \")\n",
        "        current = current.next\n",
        "    print()\n",
        "\n",
        "\n"
      ]
    },
    {
      "cell_type": "code",
      "source": [
        "root = Node(10)\n",
        "root.left = Node(5)\n",
        "root.right = Node(20)\n",
        "root.right.left = Node(15)\n",
        "root.right.right = Node(30)\n",
        "\n",
        "print(\"Input Binary Tree:\")\n",
        "print(\"        10\")\n",
        "print(\"       /  /\")\n",
        "print(\"      5    20\")\n",
        "print(\"          /  /\")\n",
        "print(\"         15   30\")\n",
        "\n",
        "head = convertToDLl(root)\n",
        "\n",
        "print(\"\\nOutput Doubly Linked List (Inorder traversal):\")\n",
        "printDLL(head)\n",
        ""
      ],
      "metadata": {
        "colab": {
          "base_uri": "https://localhost:8080/"
        },
        "id": "EUAypsmyn0x7",
        "outputId": "fa464141-ec4e-4f7e-d428-498bdf1e96ed"
      },
      "execution_count": 2,
      "outputs": [
        {
          "output_type": "stream",
          "name": "stdout",
          "text": [
            "Input Binary Tree:\n",
            "        10\n",
            "       /  /\n",
            "      5    20\n",
            "          /  /\n",
            "         15   30\n",
            "\n",
            "Output Doubly Linked List (Inorder traversal):\n",
            "5 10 15 20 30 \n"
          ]
        }
      ]
    },
    {
      "cell_type": "code",
      "source": [],
      "metadata": {
        "id": "CUDEFupWofvU"
      },
      "execution_count": null,
      "outputs": []
    },
    {
      "cell_type": "markdown",
      "source": [
        "### Question-2\n",
        "A Given a binary tree, the task is to flip the binary tree towards the right direction that is clockwise. See the below examples to see the transformation.\n",
        "\n",
        "In the flip operation, the leftmost node becomes the root of the flipped tree and its parent becomes its right child and the right sibling becomes its left child and the same should be done for all left most nodes recursively.\n",
        "\n"
      ],
      "metadata": {
        "id": "95AciDyzofCI"
      }
    },
    {
      "cell_type": "code",
      "source": [
        "class Nodes:\n",
        "    def __init__(self, value):\n",
        "        self.value = value\n",
        "        self.left = None\n",
        "        self.right = None\n",
        "\n",
        "def flipBinaryTrees(roots):\n",
        "    if roots is None or (roots.left is None and roots.right is None):\n",
        "        return roots\n",
        "\n",
        "    flippedLeft = flipBinaryTrees(roots.left)\n",
        "    flippedRight = flipBinaryTrees(roots.right)\n",
        "\n",
        "    roots.left = flippedRight\n",
        "    roots.right =flippedLeft\n",
        "\n",
        "    return roots\n",
        "\n",
        "def printBinaryTree(roots):\n",
        "    if roots is None:\n",
        "        return\n",
        "\n",
        "    print(roots.value, end=\" \")\n",
        "    printBinaryTree(roots.left)\n",
        "    printBinaryTree(roots.right)"
      ],
      "metadata": {
        "id": "DeGaA-BBor0i"
      },
      "execution_count": 7,
      "outputs": []
    },
    {
      "cell_type": "code",
      "source": [
        "roots = Nodes(1)\n",
        "roots.left = Nodes(2)\n",
        "roots.right = Nodes(3)\n",
        "roots.left.left = Nodes(4)\n",
        "roots.left.right = Nodes(5)\n",
        "\n",
        "print(\"Input Binary Tree:\")\n",
        "printBinaryTree(roots)\n",
        "\n",
        "flippedRoot = flipBinaryTrees(roots)\n",
        "\n",
        "print(\"\\nFlipped Binary Tree:\")\n",
        "printBinaryTree(flippedRoot)"
      ],
      "metadata": {
        "colab": {
          "base_uri": "https://localhost:8080/"
        },
        "id": "I_ud69UdpJx2",
        "outputId": "d432de50-565d-41cb-bef5-582812d03220"
      },
      "execution_count": 8,
      "outputs": [
        {
          "output_type": "stream",
          "name": "stdout",
          "text": [
            "Input Binary Tree:\n",
            "1 2 4 5 3 \n",
            "Flipped Binary Tree:\n",
            "1 3 2 5 4 "
          ]
        }
      ]
    },
    {
      "cell_type": "code",
      "source": [],
      "metadata": {
        "id": "1F2tWJxQp61p"
      },
      "execution_count": null,
      "outputs": []
    },
    {
      "cell_type": "markdown",
      "source": [
        "### Question 3\n",
        "Given a binary tree, print all its root-to-leaf paths without using recursion. For example, consider the following Binary Tree.\n",
        "\n",
        "Input:\n",
        "\n",
        "    6\n",
        " /    \\\n",
        "3      5\n",
        "/ \\\n",
        "2 5 4 /\n",
        "7 4\n",
        "\n",
        "Output:\n",
        "\n",
        "There are 4 leaves, hence 4 root to leaf paths - 6->3->2 6->3->5->7 6->3->5->4 6->5>4"
      ],
      "metadata": {
        "id": "VqLk0elEp7LX"
      }
    },
    {
      "cell_type": "code",
      "source": [
        "class Nodes:\n",
        "    def __init__(self, value):\n",
        "        self.value = value\n",
        "        self.left = None\n",
        "        self.right = None\n",
        "\n",
        "def printRootToLeafPathss(roots):\n",
        "    if roots is None:\n",
        "        return\n",
        "\n",
        "    stacks = [(roots, str(roots.value))]\n",
        "\n",
        "    while stacks:\n",
        "        node, path = stacks.pop()\n",
        "\n",
        "        if node.left is None and node.right is None:\n",
        "            print(path)\n",
        "\n",
        "        if node.right:\n",
        "            stacks.append((node.right, path + \"->\" + str(node.right.value)))\n",
        "\n",
        "        if node.left:\n",
        "            stacks.append((node.left, path + \"->\" + str(node.left.value)))\n",
        ""
      ],
      "metadata": {
        "id": "usHF8WT8qFgX"
      },
      "execution_count": 9,
      "outputs": []
    },
    {
      "cell_type": "code",
      "source": [
        "roots = Nodes(6)\n",
        "roots.left = Nodes(3)\n",
        "roots.right = Nodes(5)\n",
        "roots.left.left = Nodes(2)\n",
        "roots.left.right = Nodes(5)\n",
        "roots.right.right = Nodes(4)\n",
        "roots.left.right.left = Nodes(7)\n",
        "roots.left.right.right = Nodes(4)\n",
        "\n",
        "print(\"Input Binary Tree:\")\n",
        "print(\"        6\")\n",
        "print(\"     /     /\")\n",
        "print(\"    3       5\")\n",
        "print(\"  /   /       /\")\n",
        "print(\" 2     5       4\")\n",
        "print(\"       /   /\")\n",
        "print(\"      7     4\")\n",
        "\n",
        "print(\"\\nRoot-to-Leaf Paths:\")\n",
        "printRootToLeafPathss(roots)"
      ],
      "metadata": {
        "colab": {
          "base_uri": "https://localhost:8080/"
        },
        "id": "-4u8yPw9qjuY",
        "outputId": "faad6fe7-b324-41df-ab63-81d501412b6f"
      },
      "execution_count": 10,
      "outputs": [
        {
          "output_type": "stream",
          "name": "stdout",
          "text": [
            "Input Binary Tree:\n",
            "        6\n",
            "     /     /\n",
            "    3       5\n",
            "  /   /       /\n",
            " 2     5       4\n",
            "       /   /\n",
            "      7     4\n",
            "\n",
            "Root-to-Leaf Paths:\n",
            "6->3->2\n",
            "6->3->5->7\n",
            "6->3->5->4\n",
            "6->5->4\n"
          ]
        }
      ]
    },
    {
      "cell_type": "code",
      "source": [],
      "metadata": {
        "id": "qsIZF64arEWZ"
      },
      "execution_count": null,
      "outputs": []
    },
    {
      "cell_type": "markdown",
      "source": [],
      "metadata": {
        "id": "_SdpMqdJrEnU"
      }
    },
    {
      "cell_type": "markdown",
      "source": [
        "### Question-4:\n",
        "Given Preorder, Inorder and Postorder traversals of some tree. Write a program to check if they all are of the same tree.\n",
        "\n",
        "Examples:\n",
        "\n",
        "Input :\n",
        "\n",
        "    Inorder -> 4 2 5 1 3\n",
        "    Preorder -> 1 2 4 5 3\n",
        "    Postorder -> 4 5 2 3 1\n",
        "Output :\n",
        "\n",
        "Yes Explanation :\n",
        "\n",
        "All of the above three traversals are of the same tree\n",
        "\n",
        "                       1\n",
        "                     /   \\\n",
        "                    2     3\n",
        "                  /   \\\n",
        "                 4     5\n",
        "\n",
        "Input :\n",
        "\n",
        "    Inorder -> 4 2 5 1 3\n",
        "    Preorder -> 1 5 4 2 3\n",
        "    Postorder -> 4 1 2 3 5\n",
        "Output :\n",
        "\n",
        "No\n",
        "\n"
      ],
      "metadata": {
        "id": "4SSV2rKsrExY"
      }
    },
    {
      "cell_type": "code",
      "source": [
        "class Nodes:\n",
        "    def __init__(self, value):\n",
        "        self.value = value\n",
        "        self.left = None\n",
        "        self.right = None\n",
        "\n",
        "def isSameTrees(preorderr, inorderr, postorderr):\n",
        "    if len(preorderr) != len(inorderr) or len(inorderr) != len(postorderr):\n",
        "        return False\n",
        "\n",
        "    if len(preorderr) == 0:\n",
        "        return True\n",
        "\n",
        "    root_value = preorderr[0]\n",
        "    root = Nodes(root_value)\n",
        "    idx = inorderr.index(root_value)\n",
        "\n",
        "    left_inorder = inorderr[:idx]\n",
        "    right_inorder = inorderr[idx+1:]\n",
        "\n",
        "    left_preorder = preorderr[1:1+idx]\n",
        "    right_preorder = preorderr[1+idx:]\n",
        "\n",
        "    left_postorder = postorderr[:idx]\n",
        "    right_postorder = postorderr[idx:-1]\n",
        "\n",
        "    left = isSameTrees(left_preorder, left_inorder, left_postorder)\n",
        "    right = isSameTrees(right_preorder, right_inorder, right_postorder)\n",
        "\n",
        "    return left and right\n",
        "\n",
        "\n",
        "preorderr = [1, 2, 4, 5, 3]\n",
        "inorderr = [4, 2, 5, 1, 3]\n",
        "postorderr = [4, 5, 2, 3, 1]\n",
        "print(\"Input:\")\n",
        "print(\"Inorder ->\", inorderr)\n",
        "print(\"Preorder ->\", preorderr)\n",
        "print(\"Postorder ->\", postorderr)\n",
        "\n",
        "if isSameTrees(preorderr, inorderr, postorderr):\n",
        "    print(\"\\nOutput:\")\n",
        "    print(\"Yes\")\n",
        "else:\n",
        "    print(\"\\nOutput:\")\n",
        "    print(\"No\")\n"
      ],
      "metadata": {
        "colab": {
          "base_uri": "https://localhost:8080/"
        },
        "id": "s_01BrAFrJ1U",
        "outputId": "e8edf0c0-e78b-49fc-e086-a335106f427e"
      },
      "execution_count": 11,
      "outputs": [
        {
          "output_type": "stream",
          "name": "stdout",
          "text": [
            "Input:\n",
            "Inorder -> [4, 2, 5, 1, 3]\n",
            "Preorder -> [1, 2, 4, 5, 3]\n",
            "Postorder -> [4, 5, 2, 3, 1]\n",
            "\n",
            "Output:\n",
            "Yes\n"
          ]
        }
      ]
    }
  ]
}