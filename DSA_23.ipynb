{
  "nbformat": 4,
  "nbformat_minor": 0,
  "metadata": {
    "colab": {
      "provenance": []
    },
    "kernelspec": {
      "name": "python3",
      "display_name": "Python 3"
    },
    "language_info": {
      "name": "python"
    }
  },
  "cells": [
    {
      "cell_type": "markdown",
      "source": [
        "### Question-1:\n",
        "Given preorder of a binary tree, calculate its depth(or height) [starting from depth 0]. The preorder is given as a string with two possible characters.\n",
        "\n",
        "‘l’ denotes the leaf\n",
        "‘n’ denotes internal node\n",
        "The given tree can be seen as a full binary tree where every node has 0 or two children. The two children of a node can ‘n’ or ‘l’ or mix of both.\n",
        "\n",
        "Examples :\n",
        "\n",
        "Input : nlnll Output : 2"
      ],
      "metadata": {
        "id": "_SdpMqdJrEnU"
      }
    },
    {
      "cell_type": "code",
      "source": [
        "def calculateDepths(preorderr):\n",
        "    depth = 0\n",
        "    maximum_depth = 0\n",
        "\n",
        "    for children in preorderr:\n",
        "        if children == 'n':\n",
        "            depth += 1\n",
        "        elif children == 'l':\n",
        "            maximum_depth = max(maximum_depth, depth)\n",
        "            depth = 0\n",
        "\n",
        "    return maximum_depth\n",
        "\n",
        "\n",
        "preorder = 'nlnll'\n",
        "print(\"Input: \", preorder)\n",
        "print(\"Output:\", calculateDepths(preorder))"
      ],
      "metadata": {
        "colab": {
          "base_uri": "https://localhost:8080/"
        },
        "id": "E9D5LWCxMY5V",
        "outputId": "20c3fc25-669b-451e-8656-923b7eac9918"
      },
      "execution_count": null,
      "outputs": [
        {
          "output_type": "stream",
          "name": "stdout",
          "text": [
            "Input:  nlnll\n",
            "Output: 1\n"
          ]
        }
      ]
    },
    {
      "cell_type": "code",
      "source": [],
      "metadata": {
        "id": "uiJYYjfXNHhZ"
      },
      "execution_count": null,
      "outputs": []
    },
    {
      "cell_type": "markdown",
      "source": [
        "### Question-2:\n",
        "Given a Binary tree, the task is to print the left view of the Binary Tree. The left view of a Binary Tree is a set of leftmost nodes for every level.\n",
        "\n",
        "Examples:\n",
        "\n",
        "*Input:*\n",
        "\n",
        "        4\n",
        "\n",
        "      /   \\\n",
        "\n",
        "    5     2\n",
        "\n",
        "         /   \\\n",
        "\n",
        "        3     1\n",
        "\n",
        "       /  \\\n",
        "\n",
        "      6    7"
      ],
      "metadata": {
        "id": "6V_eau2fNIpa"
      }
    },
    {
      "cell_type": "code",
      "source": [
        "from collections import deque\n",
        "\n",
        "# Definition of a binary tree node\n",
        "class TreeNodes:\n",
        "    def __init__(self, value):\n",
        "        self.value = value\n",
        "        self.left = None\n",
        "        self.right = None\n",
        "\n",
        "def leftView(roots):\n",
        "    if not roots:\n",
        "        return\n",
        "\n",
        "    queue = deque()\n",
        "    queue.append(roots)\n",
        "\n",
        "    while queue:\n",
        "        size = len(queue)\n",
        "        is_leftmost = True\n",
        "\n",
        "        for i in range(size):\n",
        "            node = queue.popleft()\n",
        "\n",
        "            if is_leftmost:\n",
        "                print(node.value, end=' ')\n",
        "                is_leftmost = False\n",
        "\n",
        "            if node.left:\n",
        "                queue.append(node.left)\n",
        "            if node.right:\n",
        "                queue.append(node.right)\n",
        "\n",
        "    print()\n",
        "\n",
        "\n",
        "\n",
        "\n",
        "root = TreeNodes(4)\n",
        "root.left = TreeNodes(5)\n",
        "root.right = TreeNodes(2)\n",
        "root.right.left = TreeNodes(3)\n",
        "root.right.right = TreeNodes(1)\n",
        "root.right.left.left = TreeNodes(6)\n",
        "root.right.left.right = TreeNodes(7)\n",
        "\n",
        "\n",
        "print(\"Left view:\")\n",
        "leftView(root)\n"
      ],
      "metadata": {
        "colab": {
          "base_uri": "https://localhost:8080/"
        },
        "id": "0uUuFT_8NHo_",
        "outputId": "2d9a2d34-5aa8-4d09-9368-e2520ebd1b96"
      },
      "execution_count": null,
      "outputs": [
        {
          "output_type": "stream",
          "name": "stdout",
          "text": [
            "Left view:\n",
            "4 5 3 6 \n"
          ]
        }
      ]
    },
    {
      "cell_type": "code",
      "source": [],
      "metadata": {
        "id": "2z1aty18zQR7"
      },
      "execution_count": null,
      "outputs": []
    },
    {
      "cell_type": "markdown",
      "source": [
        "### Question-3:\n",
        "Given a Binary Tree, print the Right view of it.\n",
        "\n",
        "The right view of a Binary Tree is a set of nodes visible when the tree is visited from the Right side.\n",
        "\n",
        "Examples:\n",
        "\n",
        "Input:\n",
        "\n",
        "     1\n",
        "\n",
        "  /     \\\n",
        "\n",
        "2        3\n",
        "\n",
        "/   \\       /  \\\n",
        "\n",
        "4     5   6    7\n",
        "         \\\n",
        "\n",
        "           8\n",
        "\n",
        "Output:\n",
        "\n",
        "Right view of the tree is 1 3 7 8\n",
        "\n"
      ],
      "metadata": {
        "id": "rS8aBQ7-zQj4"
      }
    },
    {
      "cell_type": "code",
      "source": [
        "from collections import deque\n",
        "\n",
        "# Definition of a binary tree node\n",
        "class TreeNodes:\n",
        "    def __init__(self, value):\n",
        "        self.value = value\n",
        "        self.left = None\n",
        "        self.right = None\n",
        "\n",
        "def rightView(roots):\n",
        "    if not roots:\n",
        "        return\n",
        "\n",
        "    queue = deque()\n",
        "    queue.append(roots)\n",
        "\n",
        "    while queue:\n",
        "        size = len(queue)\n",
        "        rightmost = None\n",
        "\n",
        "        for i in range(size):\n",
        "            node = queue.popleft()\n",
        "\n",
        "            if i == size - 1:\n",
        "                rightmost = node.value\n",
        "\n",
        "            if node.left:\n",
        "                queue.append(node.left)\n",
        "            if node.right:\n",
        "                queue.append(node.right)\n",
        "\n",
        "        if rightmost is not None:\n",
        "            print(rightmost, end=' ')\n",
        "\n",
        "    print()\n",
        "\n",
        "\n",
        "root = TreeNodes(1)\n",
        "root.left = TreeNodes(2)\n",
        "root.right = TreeNodes(3)\n",
        "root.left.left = TreeNodes(4)\n",
        "root.left.right = TreeNodes(5)\n",
        "root.right.left = TreeNodes(6)\n",
        "root.right.right = TreeNodes(7)\n",
        "root.right.right.right = TreeNodes(8)\n",
        "\n",
        "\n",
        "print(\"Right view:\")\n",
        "rightView(root)\n"
      ],
      "metadata": {
        "colab": {
          "base_uri": "https://localhost:8080/"
        },
        "id": "sbKdzG0bzYhP",
        "outputId": "49b88e0b-9d16-4339-cf4b-b5fc1b63efc0"
      },
      "execution_count": 2,
      "outputs": [
        {
          "output_type": "stream",
          "name": "stdout",
          "text": [
            "Right view:\n",
            "1 3 7 8 \n"
          ]
        }
      ]
    },
    {
      "cell_type": "code",
      "source": [],
      "metadata": {
        "id": "xs6V3TuE0EYG"
      },
      "execution_count": null,
      "outputs": []
    },
    {
      "cell_type": "markdown",
      "source": [
        "### Question-4:\n",
        "Given a Binary Tree, The task is to print the bottom view from left to right. A node x is there in output if x is the bottommost node at its horizontal distance. The horizontal distance of the left child of a node x is equal to a horizontal distance of x minus 1, and that of a right child is the horizontal distance of x plus 1.\n",
        "\n",
        "Examples:\n",
        "\n",
        "Input:\n",
        "\n",
        "         20\n",
        "\n",
        "       /     \\\n",
        "\n",
        "    8         22\n",
        "\n",
        "/      \\         \\\n",
        "\n",
        "5         3        25\n",
        "\n",
        "    /    \\\n",
        "\n",
        "10       14\n",
        "\n",
        "Output: 5, 10, 3, 14, 25.\n",
        "\n"
      ],
      "metadata": {
        "id": "ch52-C0i0Em4"
      }
    },
    {
      "cell_type": "code",
      "source": [
        "from collections import deque\n",
        "\n",
        "class TreeNodes:\n",
        "    def __init__(self, value):\n",
        "        self.value = value\n",
        "        self.left = None\n",
        "        self.right = None\n",
        "\n",
        "def bottomView(roots):\n",
        "    if not roots:\n",
        "        return\n",
        "\n",
        "\n",
        "    horizontal_distance = {}\n",
        "\n",
        "    queue = deque()\n",
        "    queue.append((roots, 0))\n",
        "\n",
        "    while queue:\n",
        "        node, hd = queue.popleft()\n",
        "\n",
        "\n",
        "        horizontal_distance[hd] = node.value\n",
        "\n",
        "        if node.left:\n",
        "            queue.append((node.left, hd - 1))\n",
        "        if node.right:\n",
        "            queue.append((node.right, hd + 1))\n",
        "\n",
        "    # Sort the dictionary by horizontal distance\n",
        "    sorted_hd = sorted(horizontal_distance.keys())\n",
        "\n",
        "    # Print the values of the nodes in the bottom view\n",
        "    print(\"Bottom view:\")\n",
        "    for hd in sorted_hd:\n",
        "        print(horizontal_distance[hd], end=' ')\n",
        "\n",
        "    print()\n",
        "\n",
        "\n",
        "root = TreeNodes(20)\n",
        "root.left = TreeNodes(8)\n",
        "root.right = TreeNodes(22)\n",
        "root.left.left = TreeNodes(5)\n",
        "root.left.right = TreeNodes(3)\n",
        "root.right.right = TreeNodes(25)\n",
        "root.left.right.left = TreeNodes(10)\n",
        "root.left.right.right = TreeNodes(14)\n",
        "\n",
        "# Print the bottom view of the binary tree\n",
        "bottomView(root)\n"
      ],
      "metadata": {
        "colab": {
          "base_uri": "https://localhost:8080/"
        },
        "id": "x06sKR410IlY",
        "outputId": "84198d93-562d-4c0b-fd2e-bebf85235791"
      },
      "execution_count": 3,
      "outputs": [
        {
          "output_type": "stream",
          "name": "stdout",
          "text": [
            "Bottom view:\n",
            "5 10 3 14 25 \n"
          ]
        }
      ]
    }
  ]
}