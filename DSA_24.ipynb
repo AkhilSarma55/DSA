{
  "nbformat": 4,
  "nbformat_minor": 0,
  "metadata": {
    "colab": {
      "provenance": []
    },
    "kernelspec": {
      "name": "python3",
      "display_name": "Python 3"
    },
    "language_info": {
      "name": "python"
    }
  },
  "cells": [
    {
      "cell_type": "markdown",
      "source": [
        "Question 1.\n",
        "\n",
        "**Roman to Integer**\n",
        "Roman numerals are represented by seven different symbols: I, V, X, L, C, D and M.\n",
        "\n",
        "SymbolValue\n",
        "I             1\n",
        "V             5\n",
        "X             10\n",
        "L             50\n",
        "C             100\n",
        "D             500\n",
        "M             1000\n",
        "For example, 2 is written as II in Roman numeral, just two ones added together. 12 is written as XII, which is simply X + II. The number 27 is written as XXVII, which is XX + V + II.\n",
        "\n",
        "Roman numerals are usually written largest to smallest from left to right. However, the numeral for four is not IIII. Instead, the number four is written as IV. Because the one is before the five we subtract it making four. The same principle applies to the number nine, which is written as IX. There are six instances where subtraction is used:\n",
        "\n",
        "I can be placed before V (5) and X (10) to make 4 and 9.\n",
        "X can be placed before L (50) and C (100) to make 40 and 90.\n",
        "C can be placed before D (500) and M (1000) to make 400 and 900.\n",
        "Given a roman numeral, convert it to an integer.\n",
        "\n",
        "Example 1:\n",
        "\n",
        "Input: s = \"III\"\n",
        "Output: 3\n",
        "Explanation: III = 3.\n",
        "Example 2:\n",
        "\n",
        "Input: s = \"LVIII\"\n",
        "Output: 58\n",
        "Explanation: L = 50, V= 5, III = 3.\n",
        "Constraints:\n",
        "\n",
        "1 <= s.length <= 15\n",
        "s contains only the characters ('I', 'V', 'X', 'L', 'C', 'D', 'M').\n",
        "It is guaranteed that s is a valid roman numeral in the range [1, 3999].\n"
      ],
      "metadata": {
        "id": "GHG8mm_pW419"
      }
    },
    {
      "cell_type": "code",
      "source": [
        "def romanToInteger(s):\n",
        "    roman_values = {\n",
        "        'I': 1,\n",
        "        'V': 5,\n",
        "        'X': 10,\n",
        "        'L': 50,\n",
        "        'C': 100,\n",
        "        'D': 500,\n",
        "        'M': 1000\n",
        "    }\n",
        "\n",
        "    total = 0\n",
        "    nn = len(s)\n",
        "\n",
        "    for i in range(nn):\n",
        "        if i < nn - 1 and roman_values[s[i]] < roman_values[s[i + 1]]:\n",
        "            total -= roman_values[s[i]]\n",
        "        else:\n",
        "            total += roman_values[s[i]]\n",
        "\n",
        "    return total\n",
        "\n",
        "\n",
        "s1 = \"III\"\n",
        "print(romanToInteger(s1))\n",
        "\n",
        "s2 = \"LVIII\"\n",
        "print(romanToInteger(s2))"
      ],
      "metadata": {
        "colab": {
          "base_uri": "https://localhost:8080/"
        },
        "id": "Yk15mUnTXC4s",
        "outputId": "ca4fc8d9-7efa-48a4-b4c9-29120ebcc220"
      },
      "execution_count": 1,
      "outputs": [
        {
          "output_type": "stream",
          "name": "stdout",
          "text": [
            "3\n",
            "58\n"
          ]
        }
      ]
    },
    {
      "cell_type": "code",
      "source": [],
      "metadata": {
        "id": "wCIMEz6mXai_"
      },
      "execution_count": 1,
      "outputs": []
    },
    {
      "cell_type": "markdown",
      "source": [
        " Question 2.\n",
        "\n",
        "**Longest Substring Without Repeating Characters**\n",
        "Given a string s, find the length of the longest substring without repeating characters.\n",
        "\n",
        "Example 1:\n",
        "\n",
        "Input: s = \"abcabcbb\"\n",
        "Output: 3\n",
        "Explanation: The answer is \"abc\", with the length of 3."
      ],
      "metadata": {
        "id": "3siLDLdVXawg"
      }
    },
    {
      "cell_type": "code",
      "source": [
        "def lengthOfLongSubstring(s):\n",
        "    nn = len(s)\n",
        "    unique_chars = set()\n",
        "    maximum_length = 0\n",
        "    start = 0\n",
        "    end = 0\n",
        "\n",
        "    while start < nn and end < nn:\n",
        "        if s[end] not in unique_chars:\n",
        "            unique_chars.add(s[end])\n",
        "            end += 1\n",
        "            maximum_length = max(maximum_length, end - start)\n",
        "        else:\n",
        "            unique_chars.remove(s[start])\n",
        "            start += 1\n",
        "\n",
        "    return maximum_length\n",
        "\n",
        "\n",
        "s = \"abcabcbb\"\n",
        "print(lengthOfLongSubstring(s))"
      ],
      "metadata": {
        "colab": {
          "base_uri": "https://localhost:8080/"
        },
        "id": "HbzLMWzsXjFn",
        "outputId": "8677d4f6-533b-43be-9fd4-8197df51ab37"
      },
      "execution_count": 2,
      "outputs": [
        {
          "output_type": "stream",
          "name": "stdout",
          "text": [
            "3\n"
          ]
        }
      ]
    },
    {
      "cell_type": "code",
      "source": [],
      "metadata": {
        "id": "mQk1DbmQX8Bo"
      },
      "execution_count": 2,
      "outputs": []
    },
    {
      "cell_type": "markdown",
      "source": [
        "Question 3.\n",
        "\n",
        "**Majority Element**\n",
        "Given an array nums of size n, return the majority element.\n",
        "\n",
        "The majority element is the element that appears more than ⌊n / 2⌋ times. You may assume that the majority element always exists in the array.\n",
        "\n",
        "Example 1:\n",
        "\n",
        "Input: nums = [3,2,3]\n",
        "Output: 3\n",
        "Example 2:\n",
        "\n",
        "Input: nums = [2,2,1,1,1,2,2]\n",
        "Output: 2\n",
        "Constraints:\n",
        "\n",
        "n == nums.length\n",
        "1 <= n <= 5 * 10^4\n",
        "-10^9 <= nums[i] <= 10^9"
      ],
      "metadata": {
        "id": "2YEd2ivGX8OX"
      }
    },
    {
      "cell_type": "code",
      "source": [
        "def mAjorityElement(nums):\n",
        "    count = 0\n",
        "    candidate = None\n",
        "\n",
        "    for number in nums:\n",
        "        if count == 0:\n",
        "            candidate = number\n",
        "            count += 1\n",
        "        elif number == candidate:\n",
        "            count += 1\n",
        "        else:\n",
        "            count -= 1\n",
        "\n",
        "    return candidate\n",
        "\n",
        "\n",
        "nums1 = [3, 2, 3]\n",
        "print(mAjorityElement(nums1))\n",
        "\n",
        "nums2 = [2, 2, 1, 1, 1, 2, 2]\n",
        "print(mAjorityElement(nums2))"
      ],
      "metadata": {
        "colab": {
          "base_uri": "https://localhost:8080/"
        },
        "id": "BcfBLTeDYByv",
        "outputId": "1b7b823d-216c-45fa-ac44-9f4af1344e02"
      },
      "execution_count": 3,
      "outputs": [
        {
          "output_type": "stream",
          "name": "stdout",
          "text": [
            "3\n",
            "2\n"
          ]
        }
      ]
    },
    {
      "cell_type": "code",
      "source": [],
      "metadata": {
        "id": "5jWznDx5YO6t"
      },
      "execution_count": 3,
      "outputs": []
    },
    {
      "cell_type": "markdown",
      "source": [
        "Question  4.\n",
        "\n",
        "**Group Anagram**\n",
        "Given an array of strings strs, group the anagrams together. You can return the answer in any order.\n",
        "\n",
        "An Anagram is a word or phrase formed by rearranging the letters of a different word or phrase, typically using all the original letters exactly once.\n",
        "\n",
        "Example 1:\n",
        "\n",
        "Input: strs = [\"eat\",\"tea\",\"tan\",\"ate\",\"nat\",\"bat\"]\n",
        "Output: [[\"bat\"],[\"nat\",\"tan\"],[\"ate\",\"eat\",\"tea\"]]\n",
        "Example 2:\n",
        "\n",
        "Input: strs = [\"\"]\n",
        "Output: [[\"\"]]\n",
        "Example 3:\n",
        "\n",
        "Input: strs = [\"a\"]\n",
        "Output: [[\"a\"]]\n",
        "Constraints:\n",
        "\n",
        "1 <= strs.length <= 10000\n",
        "0 <= strs[i].length <= 100\n",
        "strs[i] consists of lowercase English letters."
      ],
      "metadata": {
        "id": "sQz97cVwYPfT"
      }
    },
    {
      "cell_type": "code",
      "source": [
        "from collections import defaultdict\n",
        "\n",
        "def groupAnaGrams(strs):\n",
        "    anagram_groups = defaultdict(list)\n",
        "\n",
        "    for string in strs:\n",
        "        sorted_str = ''.join(sorted(string))\n",
        "        anagram_groups[sorted_str].append(string)\n",
        "\n",
        "    return list(anagram_groups.values())\n",
        "\n",
        "\n",
        "strs1 = [\"eat\", \"tea\", \"tan\", \"ate\", \"nat\", \"bat\"]\n",
        "print(groupAnaGrams(strs1))\n",
        "\n",
        "strs2 = [\"\"]\n",
        "print(groupAnaGrams(strs2))\n",
        "\n",
        "strs3 = [\"a\"]\n",
        "print(groupAnaGrams(strs3))"
      ],
      "metadata": {
        "colab": {
          "base_uri": "https://localhost:8080/"
        },
        "id": "xDod7t-5YWL2",
        "outputId": "a4331471-de85-4bfe-8a27-07d73b65701f"
      },
      "execution_count": 4,
      "outputs": [
        {
          "output_type": "stream",
          "name": "stdout",
          "text": [
            "[['eat', 'tea', 'ate'], ['tan', 'nat'], ['bat']]\n",
            "[['']]\n",
            "[['a']]\n"
          ]
        }
      ]
    },
    {
      "cell_type": "code",
      "source": [],
      "metadata": {
        "id": "qFaLJl8hYpxz"
      },
      "execution_count": 4,
      "outputs": []
    },
    {
      "cell_type": "markdown",
      "source": [
        " Question 5.\n",
        "\n",
        " **Ugly Numbers**\n",
        "An ugly number is a positive integer whose prime factors are limited to 2, 3, and 5.\n",
        "\n",
        "Given an integer n, return the nth *ugly number*.\n",
        "\n",
        "Example 1:\n",
        "\n",
        "Input: n = 10\n",
        "Output: 12\n",
        "Explanation: [1, 2, 3, 4, 5, 6, 8, 9, 10, 12] is the sequence of the first 10 ugly numbers.\n",
        "Example 2:\n",
        "\n",
        "Input: n = 1\n",
        "Output: 1\n",
        "Explanation: 1 has no prime factors, therefore all of its prime factors are limited to 2, 3, and 5.\n",
        "Constraints:\n",
        "\n",
        "1 <= n <= 1690"
      ],
      "metadata": {
        "id": "57RplzcjYp9R"
      }
    },
    {
      "cell_type": "code",
      "source": [
        "def nthUglyNumBer(n):\n",
        "    uGly = [1]\n",
        "    p2 = p3 = p5 = 0\n",
        "\n",
        "    for i in range(1, n):\n",
        "        uGly.append(min(uGly[p2] * 2, uGly[p3] * 3, uGly[p5] * 5))\n",
        "\n",
        "        if uGly[i] == uGly[p2] * 2:\n",
        "            p2 += 1\n",
        "        if uGly[i] == uGly[p3] * 3:\n",
        "            p3 += 1\n",
        "        if uGly[i] == uGly[p5] * 5:\n",
        "            p5 += 1\n",
        "\n",
        "    return uGly[-1]\n",
        "\n",
        "\n",
        "print(nthUglyNumBer(10))\n",
        "print(nthUglyNumBer(1))"
      ],
      "metadata": {
        "colab": {
          "base_uri": "https://localhost:8080/"
        },
        "id": "RHsdOtAlYtpv",
        "outputId": "db53a740-ad6c-459a-e68a-7af6a6d8ccd8"
      },
      "execution_count": 5,
      "outputs": [
        {
          "output_type": "stream",
          "name": "stdout",
          "text": [
            "12\n",
            "1\n"
          ]
        }
      ]
    },
    {
      "cell_type": "code",
      "source": [],
      "metadata": {
        "id": "7Nbv1JsQZG0G"
      },
      "execution_count": 5,
      "outputs": []
    },
    {
      "cell_type": "markdown",
      "source": [
        "Question  6.\n",
        "\n",
        " **Top K Frequent Words**\n",
        "Given an array of strings words and an integer k, return the k most frequent strings.\n",
        "\n",
        "Return the answer sorted by the frequency from highest to lowest. Sort the words with the same frequency by their lexicographical order.\n",
        "\n",
        "Example 1:\n",
        "\n",
        "Input: words = [\"i\",\"love\",\"leetcode\",\"i\",\"love\",\"coding\"], k = 2\n",
        "Output: [\"i\",\"love\"]\n",
        "Explanation: \"i\" and \"love\" are the two most frequent words.\n",
        "Note that \"i\" comes before \"love\" due to a lower alphabetical order.\n",
        "Example 2:\n",
        "\n",
        "Input: words = [\"the\",\"day\",\"is\",\"sunny\",\"the\",\"the\",\"the\",\"sunny\",\"is\",\"is\"], k = 4\n",
        "Output: [\"the\",\"is\",\"sunny\",\"day\"]\n",
        "Explanation: \"the\", \"is\", \"sunny\" and \"day\" are the four most frequent words, with the number of occurrence being 4, 3, 2 and 1 respectively.\n",
        "Constraints:\n",
        "\n",
        "1 <= words.length <= 500\n",
        "1 <= words[i].length <= 10\n",
        "words[i] consists of lowercase English letters.\n",
        "k is in the range [1, The number of **unique** words[i]]\n",
        "\n"
      ],
      "metadata": {
        "id": "-hTEeCoqZG_W"
      }
    },
    {
      "cell_type": "code",
      "source": [
        "def topKFrequent(words, k):\n",
        "    word_count = {}\n",
        "\n",
        "    # Count the frequency of each word\n",
        "    for word in words:\n",
        "        word_count[word] = word_count.get(word, 0) + 1\n",
        "\n",
        "    # Custom sorting function\n",
        "    def compare(word):\n",
        "        return (-word_count[word], word)\n",
        "\n",
        "    # Sort the words based on frequency and lexicographical order\n",
        "    sorted_words = sorted(word_count.keys(), key=compare)\n",
        "\n",
        "    # Return the top k words\n",
        "    return sorted_words[:k]\n",
        "\n",
        "\n",
        "words1 = [\"i\", \"love\", \"leetcode\", \"i\", \"love\", \"coding\"]\n",
        "k1 = 2\n",
        "print(topKFrequent(words1, k1))\n",
        "\n",
        "words2 = [\"the\", \"day\", \"is\", \"sunny\", \"the\", \"the\", \"the\", \"sunny\", \"is\", \"is\"]\n",
        "k2 = 4\n",
        "print(topKFrequent(words2, k2))"
      ],
      "metadata": {
        "colab": {
          "base_uri": "https://localhost:8080/"
        },
        "id": "gFs6ZkOZZLlJ",
        "outputId": "b5d091d3-2e3d-4143-d454-e744b6c3b7b8"
      },
      "execution_count": 6,
      "outputs": [
        {
          "output_type": "stream",
          "name": "stdout",
          "text": [
            "['i', 'love']\n",
            "['the', 'is', 'sunny', 'day']\n"
          ]
        }
      ]
    },
    {
      "cell_type": "code",
      "source": [],
      "metadata": {
        "id": "2KWOEcXOZZ9Z"
      },
      "execution_count": 6,
      "outputs": []
    },
    {
      "cell_type": "markdown",
      "source": [
        "Question 7.\n",
        "\n",
        "**Sliding Window Maximum**\n",
        "You are given an array of integers nums, there is a sliding window of size k which is moving from the very left of the array to the very right. You can only see the k numbers in the window. Each time the sliding window moves right by one position.\n",
        "\n",
        "Return the max sliding window.\n",
        "\n",
        "Example 1:\n",
        "\n",
        "Input: nums = [1,3,-1,-3,5,3,6,7], k = 3\n",
        "Output: [3,3,5,5,6,7]\n",
        "Explanation:\n",
        "Window position                Max\n",
        "---------------               -----\n",
        "[1  3  -1] -3  5  3  6 7         3\n",
        " 1 [3  -1  -3] 5  3  6 7         3\n",
        " 1  3 [-1  -3  5] 3  6 7         5\n",
        " 1  3  -1 [-3  5  3] 6 7         5\n",
        " 1  3  -1  -3 [5  3  6]7         6\n",
        " 1  3  -1  -3  5 [3  6  7]       7\n",
        "Example 2:\n",
        "\n",
        "Input: nums = [1], k = 1\n",
        "Output: [1]\n",
        "Constraints:\n",
        "\n",
        "1 <= nums.length <= 100000\n",
        "-10000 <= nums[i] <= 10000\n",
        "1 <= k <= nums.length"
      ],
      "metadata": {
        "id": "CqOb2SKEZHIe"
      }
    },
    {
      "cell_type": "code",
      "source": [
        "from collections import deque\n",
        "\n",
        "def maxSlidingWiNdow(nums, k):\n",
        "    # Initialize a deque to store indices of elements in descending order\n",
        "    # The front of the deque will always contain the maximum element for the current window\n",
        "    wiNdow = deque()\n",
        "    result = []\n",
        "\n",
        "    for i in range(len(nums)):\n",
        "        # Remove indices that are outside the current window\n",
        "        while wiNdow and wiNdow[0] <= i - k:\n",
        "            wiNdow.popleft()\n",
        "\n",
        "        # Remove indices of elements smaller than the current element\n",
        "        while wiNdow and nums[wiNdow[-1]] < nums[i]:\n",
        "            wiNdow.pop()\n",
        "\n",
        "        # Add the current element's index to the deque\n",
        "        wiNdow.append(i)\n",
        "\n",
        "        # Add the maximum element to the result when the window reaches size k\n",
        "        if i >= k - 1:\n",
        "            result.append(nums[wiNdow[0]])\n",
        "\n",
        "    return result\n",
        "\n",
        "\n",
        "numbers1 = [1, 3, -1, -3, 5, 3, 6, 7]\n",
        "k1 = 3\n",
        "print(maxSlidingWiNdow(numbers1, k1))\n",
        "\n",
        "numbers2 = [1]\n",
        "k2 = 1\n",
        "print(maxSlidingWiNdow(numbers2, k2))"
      ],
      "metadata": {
        "colab": {
          "base_uri": "https://localhost:8080/"
        },
        "id": "STDKhdPqZyxo",
        "outputId": "34ad1239-dae0-4310-9631-f2de213ae311"
      },
      "execution_count": 7,
      "outputs": [
        {
          "output_type": "stream",
          "name": "stdout",
          "text": [
            "[3, 3, 5, 5, 6, 7]\n",
            "[1]\n"
          ]
        }
      ]
    },
    {
      "cell_type": "code",
      "source": [],
      "metadata": {
        "id": "rDLpRgeGafBU"
      },
      "execution_count": 7,
      "outputs": []
    },
    {
      "cell_type": "markdown",
      "source": [
        "**Find K Closest Elements**\n",
        "\n",
        "Given a sorted integer array arr, two integers k and x, return the k closest integers to x in the array. The result should also be sorted in ascending order.\n",
        "\n",
        "An integer a is closer to x than an integer b if:\n",
        "\n",
        "|a - x| < |b - x|, or\n",
        "|a - x| == |b - x| and a < b\n",
        "Example 1:\n",
        "\n",
        "Input: arr = [1,2,3,4,5], k = 4, x = 3\n",
        "Output: [1,2,3,4]\n",
        "Example 2:\n",
        "\n",
        "Input: arr = [1,2,3,4,5], k = 4, x = -1\n",
        "Output: [1,2,3,4]\n",
        "Constraints:\n",
        "\n",
        "1 <= k <= arr.length\n",
        "1 <= arr.length <= 10000\n",
        "arr is sorted in ascending order.\n",
        "-10000 <= arr[i], x <= 10000"
      ],
      "metadata": {
        "id": "OVSbrK6-afK5"
      }
    },
    {
      "cell_type": "code",
      "source": [
        "def findClosestElements(array, k, x):\n",
        "    left = 0\n",
        "    right = len(array) - k\n",
        "\n",
        "    while left < right:\n",
        "        mid = left + (right - left) // 2\n",
        "\n",
        "        # Adjust the left or right pointer based on the difference between arr[mid + k] and x\n",
        "        if x - array[mid] > array[mid + k] - x:\n",
        "            left = mid + 1\n",
        "        else:\n",
        "            right = mid\n",
        "\n",
        "    # Return the k closest elements\n",
        "    return array[left:left + k]\n",
        "\n",
        "\n",
        "array1 = [1, 2, 3, 4, 5]\n",
        "k1 = 4\n",
        "x1 = 3\n",
        "print(findClosestElements(array1, k1, x1))\n",
        "\n",
        "array2 = [1, 2, 3, 4, 5]\n",
        "k2 = 4\n",
        "x2 = -1\n",
        "print(findClosestElements(array2, k2, x2))"
      ],
      "metadata": {
        "colab": {
          "base_uri": "https://localhost:8080/"
        },
        "id": "I9rf2F9_aieS",
        "outputId": "6f7568d9-4283-4a61-847a-a4ce11c36227"
      },
      "execution_count": 8,
      "outputs": [
        {
          "output_type": "stream",
          "name": "stdout",
          "text": [
            "[1, 2, 3, 4]\n",
            "[1, 2, 3, 4]\n"
          ]
        }
      ]
    }
  ]
}