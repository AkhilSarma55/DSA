{
 "cells": [
  {
   "cell_type": "code",
   "execution_count": 19,
   "id": "1ac8d05f",
   "metadata": {},
   "outputs": [
    {
     "name": "stdout",
     "output_type": "stream",
     "text": [
      "[1, 3, 12, 0, 0]\n"
     ]
    }
   ],
   "source": [
    "# Function to move all zeros present in the list to the end\n",
    "def reorder(A):\n",
    " \n",
    "    # `k` stores the index of the next available position\n",
    "    k = 0\n",
    " \n",
    "    # do for each element\n",
    "    for i in A:\n",
    "        # if the current element is non-zero, put the element at the\n",
    "        # next free position in the list\n",
    "        if i:\n",
    "            A[k] = i\n",
    "            k = k + 1\n",
    " \n",
    "    # move all 0's to the end of the list (remaining indices)\n",
    "    for i in range(k, len(A)):\n",
    "        A[i] = 0\n",
    " \n",
    " \n",
    "if __name__ == '__main__':\n",
    " \n",
    "    A =[0,1,0,3,12]\n",
    " \n",
    "    reorder(A)\n",
    "    print(A)"
   ]
  },
  {
   "cell_type": "code",
   "execution_count": null,
   "id": "dec60055",
   "metadata": {},
   "outputs": [],
   "source": []
  }
 ],
 "metadata": {
  "kernelspec": {
   "display_name": "Python 3 (ipykernel)",
   "language": "python",
   "name": "python3"
  },
  "language_info": {
   "codemirror_mode": {
    "name": "ipython",
    "version": 3
   },
   "file_extension": ".py",
   "mimetype": "text/x-python",
   "name": "python",
   "nbconvert_exporter": "python",
   "pygments_lexer": "ipython3",
   "version": "3.10.9"
  }
 },
 "nbformat": 4,
 "nbformat_minor": 5
}
